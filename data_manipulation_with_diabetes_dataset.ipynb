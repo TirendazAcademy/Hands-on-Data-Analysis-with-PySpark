{
 "cells": [
  {
   "cell_type": "markdown",
   "id": "b1e65032",
   "metadata": {},
   "source": [
    "# Data Manipulation with Pyspark in 10 Steps"
   ]
  },
  {
   "cell_type": "markdown",
   "id": "55254796",
   "metadata": {},
   "source": [
    "In this notebook, I'll show you how to perform data manipulation with PySpark in 10 steps. Let's dive in!"
   ]
  },
  {
   "cell_type": "markdown",
   "id": "95d547ab",
   "metadata": {},
   "source": [
    "---\n",
    "<a id=\"toc\"></a>\n",
    "# **Table of Contents**\n",
    "---\n",
    "\n",
    "**1.**  [**Creating SparkSession**](#Step1)<br>\n",
    "**2.**  [**Reading Data**](#Step2)<br>\n",
    "**3.**  [**Understanding Data**](#Step3)<br>\n",
    "**4.**  [**Selecting Columns**](#Step4)<br>\n",
    "**5.**  [**Data Filtering**](#Step5)<br>\n",
    "**6.**  [**Adding New Columns**](#Step6)<br>\n",
    "**7.**  [**Grouping Data**](#Step7)<br>\n",
    "**8.**  [**Applying User-Defined Functions**](#Step8)<br>\n",
    "**9.**  [**Deleting Data**](#Step9)<br>\n",
    "**10.** [**Writing Data**](#Step10)<br>\n",
    "**11.** [**Conclusion**](#Step11)<br>"
   ]
  },
  {
   "cell_type": "markdown",
   "id": "37e2709f",
   "metadata": {},
   "source": [
    "---\n",
    "<a name = Step1></a>\n",
    "## **1. Creating SparkSession**\n",
    "---\n",
    "<a id=\"0\"></a>\n",
    "<a href=\"#toc\" class=\"btn btn-primary btn-sm\" role=\"button\" aria-pressed=\"true\" \n",
    "style=\"color:white; background-color:#edcff0\" data-toggle=\"popover\">Content</a>"
   ]
  },
  {
   "cell_type": "markdown",
   "id": "7a39e028",
   "metadata": {},
   "source": [
    "To work with PySpark, you first need to create SparkSession. SparkSession is an entry point to PySpark functionality. Let's instantiate SparkSession to use PySpark."
   ]
  },
  {
   "cell_type": "code",
   "execution_count": 1,
   "id": "279ae3d7",
   "metadata": {},
   "outputs": [],
   "source": [
    "from pyspark.sql import SparkSession\n",
    "spark=SparkSession.builder.appName('data_manipulation').getOrCreate()"
   ]
  },
  {
   "cell_type": "markdown",
   "id": "e9f407cf",
   "metadata": {},
   "source": [
    "PySpark uses a builder pattern with the SparkSession.builder object that provides a set of\n",
    "methods. You can use the `appName` method to give a name to app. The `getOrCreate` method is used to work in both interactive and batch mode by avoiding the creation of a new SparkSession if one already exists."
   ]
  },
  {
   "cell_type": "markdown",
   "id": "39c5e2e9",
   "metadata": {},
   "source": [
    "---\n",
    "<a name = Step2></a>\n",
    "## **2. Reading Data**\n",
    "---\n",
    "<a id=\"0\"></a>\n",
    "<a href=\"#toc\" class=\"btn btn-primary btn-sm\" role=\"button\" aria-pressed=\"true\" \n",
    "style=\"color:white; background-color:#edcff0\" data-toggle=\"popover\">Content</a>"
   ]
  },
  {
   "cell_type": "markdown",
   "id": "d324a419",
   "metadata": {},
   "source": [
    "The data I'm going to use in this article is the diabetes dataset in the csv format. You can find this dataset here. PySpark offers two main structures for storing data when performing manipulations: The RDD and the DataFrame. You can think of the RDD as a distributed collection of objects (or rows). You can think of the DataFrame as it like a table. Note that a DataFrame organizes the records in columns. Let's read our dataset as DataFrame."
   ]
  },
  {
   "cell_type": "code",
   "execution_count": 2,
   "id": "a8e9fb2c",
   "metadata": {},
   "outputs": [],
   "source": [
    "df = spark.read.csv('data/diabetes.csv', header=True, inferSchema=True)"
   ]
  },
  {
   "cell_type": "markdown",
   "id": "c26c12af",
   "metadata": {},
   "source": [
    "I set the inferSchema parameter as True. So Spark in the background will infer the datatypes of the values in the dataset on its own. "
   ]
  },
  {
   "cell_type": "markdown",
   "id": "34eccdff",
   "metadata": {},
   "source": [
    "---\n",
    "<a name = Step3></a>\n",
    "## **3. Understanding Data**\n",
    "---\n",
    "<a id=\"0\"></a>\n",
    "<a href=\"#toc\" class=\"btn btn-primary btn-sm\" role=\"button\" aria-pressed=\"true\" \n",
    "style=\"color:white; background-color:#edcff0\" data-toggle=\"popover\">Content</a>"
   ]
  },
  {
   "cell_type": "markdown",
   "id": "10901b3f",
   "metadata": {},
   "source": [
    "Understanding data is one of the crucial steps of data analysis. Let's take a look at the first ten rows of the dataset with `show` method."
   ]
  },
  {
   "cell_type": "code",
   "execution_count": 3,
   "id": "08f11bb7",
   "metadata": {},
   "outputs": [
    {
     "name": "stdout",
     "output_type": "stream",
     "text": [
      "+-----------+-------+-------------+-------------+-------+----+------------------------+---+-------+\n",
      "|Pregnancies|Glucose|BloodPressure|SkinThickness|Insulin| BMI|DiabetesPedigreeFunction|Age|Outcome|\n",
      "+-----------+-------+-------------+-------------+-------+----+------------------------+---+-------+\n",
      "|          6|    148|           72|           35|      0|33.6|                   0.627| 50|      1|\n",
      "|          1|     85|           66|           29|      0|26.6|                   0.351| 31|      0|\n",
      "|          8|    183|           64|            0|      0|23.3|                   0.672| 32|      1|\n",
      "|          1|     89|           66|           23|     94|28.1|                   0.167| 21|      0|\n",
      "|          0|    137|           40|           35|    168|43.1|                   2.288| 33|      1|\n",
      "|          5|    116|           74|            0|      0|25.6|                   0.201| 30|      0|\n",
      "|          3|     78|           50|           32|     88|31.0|                   0.248| 26|      1|\n",
      "|         10|    115|            0|            0|      0|35.3|                   0.134| 29|      0|\n",
      "|          2|    197|           70|           45|    543|30.5|                   0.158| 53|      1|\n",
      "|          8|    125|           96|            0|      0| 0.0|                   0.232| 54|      1|\n",
      "+-----------+-------+-------------+-------------+-------+----+------------------------+---+-------+\n",
      "only showing top 10 rows\n",
      "\n"
     ]
    }
   ],
   "source": [
    "df.show(10)"
   ]
  },
  {
   "cell_type": "markdown",
   "id": "128fbba7",
   "metadata": {},
   "source": [
    "You can print the column names of your dataset with the `columns` method."
   ]
  },
  {
   "cell_type": "code",
   "execution_count": 4,
   "id": "2c125fc6",
   "metadata": {},
   "outputs": [
    {
     "data": {
      "text/plain": [
       "['Pregnancies',\n",
       " 'Glucose',\n",
       " 'BloodPressure',\n",
       " 'SkinThickness',\n",
       " 'Insulin',\n",
       " 'BMI',\n",
       " 'DiabetesPedigreeFunction',\n",
       " 'Age',\n",
       " 'Outcome']"
      ]
     },
     "execution_count": 4,
     "metadata": {},
     "output_type": "execute_result"
    }
   ],
   "source": [
    "df.columns"
   ]
  },
  {
   "cell_type": "markdown",
   "id": "c96311ba",
   "metadata": {},
   "source": [
    "You can use the `count` method to get the total number of records in the Dataframe. The `len` method allows you to see the number of columns in DataFrame. Let's take a look at the shape of our dataset with the `count` and `len` methods."
   ]
  },
  {
   "cell_type": "code",
   "execution_count": 5,
   "id": "1c27698f",
   "metadata": {},
   "outputs": [
    {
     "name": "stdout",
     "output_type": "stream",
     "text": [
      "(768, 9)\n"
     ]
    }
   ],
   "source": [
    "print((df.count(),len(df.columns)))"
   ]
  },
  {
   "cell_type": "markdown",
   "id": "375ec618",
   "metadata": {},
   "source": [
    "To get the schema information of the dataset, you can use the `printSchema` method that often utilize to understand data with the `show` method in data analysis. "
   ]
  },
  {
   "cell_type": "code",
   "execution_count": 6,
   "id": "681384d4",
   "metadata": {},
   "outputs": [
    {
     "name": "stdout",
     "output_type": "stream",
     "text": [
      "root\n",
      " |-- Pregnancies: integer (nullable = true)\n",
      " |-- Glucose: integer (nullable = true)\n",
      " |-- BloodPressure: integer (nullable = true)\n",
      " |-- SkinThickness: integer (nullable = true)\n",
      " |-- Insulin: integer (nullable = true)\n",
      " |-- BMI: double (nullable = true)\n",
      " |-- DiabetesPedigreeFunction: double (nullable = true)\n",
      " |-- Age: integer (nullable = true)\n",
      " |-- Outcome: integer (nullable = true)\n",
      "\n"
     ]
    }
   ],
   "source": [
    "# printSchema\n",
    "df.printSchema()"
   ]
  },
  {
   "cell_type": "markdown",
   "id": "4ac0cb60",
   "metadata": {},
   "source": [
    "You can use `describe().show()` to take a look at description statistics of the dataset. I'm going to use the `truncate` parameter to only see 8 characters. "
   ]
  },
  {
   "cell_type": "code",
   "execution_count": 7,
   "id": "c82176ff",
   "metadata": {},
   "outputs": [
    {
     "name": "stdout",
     "output_type": "stream",
     "text": [
      "+-------+-----------+--------+-------------+-------------+--------+--------+------------------------+--------+--------+\n",
      "|summary|Pregnancies| Glucose|BloodPressure|SkinThickness| Insulin|     BMI|DiabetesPedigreeFunction|     Age| Outcome|\n",
      "+-------+-----------+--------+-------------+-------------+--------+--------+------------------------+--------+--------+\n",
      "|  count|        768|     768|          768|          768|     768|     768|                     768|     768|     768|\n",
      "|   mean|   3.845...|120.8...|     69.10...|     20.53...|79.79...|31.99...|                0.471...|33.24...|0.348...|\n",
      "| stddev|   3.369...|31.97...|     19.35...|     15.95...|115.2...|7.884...|                0.331...|11.76...|0.476...|\n",
      "|    min|          0|       0|            0|            0|       0|     0.0|                   0.078|      21|       0|\n",
      "|    max|         17|     199|          122|           99|     846|    67.1|                    2.42|      81|       1|\n",
      "+-------+-----------+--------+-------------+-------------+--------+--------+------------------------+--------+--------+\n",
      "\n"
     ]
    }
   ],
   "source": [
    "df.describe().show(truncate=8)"
   ]
  },
  {
   "cell_type": "markdown",
   "id": "a0aa87e0",
   "metadata": {},
   "source": [
    "---\n",
    "<a name = Step4></a>\n",
    "## **4. Selecting Columns**\n",
    "---\n",
    "<a id=\"0\"></a>\n",
    "<a href=\"#toc\" class=\"btn btn-primary btn-sm\" role=\"button\" aria-pressed=\"true\" \n",
    "style=\"color:white; background-color:#edcff0\" data-toggle=\"popover\">Content</a>"
   ]
  },
  {
   "cell_type": "markdown",
   "id": "d5c90d12",
   "metadata": {},
   "source": [
    "You can use the `select` method to select specific columns. Let's take the Pregnancies and Age columns from the dataset with `select` method."
   ]
  },
  {
   "cell_type": "code",
   "execution_count": 8,
   "id": "1f429d2a",
   "metadata": {},
   "outputs": [
    {
     "name": "stdout",
     "output_type": "stream",
     "text": [
      "+-----------+---+\n",
      "|Pregnancies|Age|\n",
      "+-----------+---+\n",
      "|          6| 50|\n",
      "|          1| 31|\n",
      "|          8| 32|\n",
      "|          1| 21|\n",
      "|          0| 33|\n",
      "|          5| 30|\n",
      "|          3| 26|\n",
      "|         10| 29|\n",
      "|          2| 53|\n",
      "|          8| 54|\n",
      "+-----------+---+\n",
      "only showing top 10 rows\n",
      "\n"
     ]
    }
   ],
   "source": [
    "df.select(\"Pregnancies\", \"Age\").show(10)"
   ]
  },
  {
   "cell_type": "markdown",
   "id": "bb5b329b",
   "metadata": {},
   "source": [
    "You can also use the `col` function in pyspark.sql.functions module to select columns. Let me show you."
   ]
  },
  {
   "cell_type": "code",
   "execution_count": 9,
   "id": "14ce3a67",
   "metadata": {},
   "outputs": [
    {
     "name": "stdout",
     "output_type": "stream",
     "text": [
      "+-----------+---+\n",
      "|Pregnancies|Age|\n",
      "+-----------+---+\n",
      "|          6| 50|\n",
      "|          1| 31|\n",
      "|          8| 32|\n",
      "|          1| 21|\n",
      "|          0| 33|\n",
      "|          5| 30|\n",
      "|          3| 26|\n",
      "|         10| 29|\n",
      "|          2| 53|\n",
      "|          8| 54|\n",
      "+-----------+---+\n",
      "only showing top 10 rows\n",
      "\n"
     ]
    }
   ],
   "source": [
    "import pyspark.sql.functions as F\n",
    "df.select(F.col(\"Pregnancies\"), F.col(\"Age\")).show(10)"
   ]
  },
  {
   "cell_type": "markdown",
   "id": "65623547",
   "metadata": {},
   "source": [
    "---\n",
    "<a name = Step5></a>\n",
    "## **5. Data Filtering**\n",
    "---\n",
    "<a id=\"0\"></a>\n",
    "<a href=\"#toc\" class=\"btn btn-primary btn-sm\" role=\"button\" aria-pressed=\"true\" \n",
    "style=\"color:white; background-color:#edcff0\" data-toggle=\"popover\">Content</a>"
   ]
  },
  {
   "cell_type": "markdown",
   "id": "b38318bd",
   "metadata": {},
   "source": [
    "To clean the dataset and keep only records you want, you can perform to filter records based on conditions. There are two methods to filter data: `filter()` and `where()`. Let's filter data where the value of column “age” is less than 40 with the `filter` method."
   ]
  },
  {
   "cell_type": "code",
   "execution_count": 10,
   "id": "bf745375",
   "metadata": {},
   "outputs": [
    {
     "name": "stdout",
     "output_type": "stream",
     "text": [
      "+-----------+-------+-------------+-------------+-------+----+------------------------+---+-------+\n",
      "|Pregnancies|Glucose|BloodPressure|SkinThickness|Insulin| BMI|DiabetesPedigreeFunction|Age|Outcome|\n",
      "+-----------+-------+-------------+-------------+-------+----+------------------------+---+-------+\n",
      "|          1|     85|           66|           29|      0|26.6|                   0.351| 31|      0|\n",
      "|          8|    183|           64|            0|      0|23.3|                   0.672| 32|      1|\n",
      "|          1|     89|           66|           23|     94|28.1|                   0.167| 21|      0|\n",
      "|          0|    137|           40|           35|    168|43.1|                   2.288| 33|      1|\n",
      "|          5|    116|           74|            0|      0|25.6|                   0.201| 30|      0|\n",
      "|          3|     78|           50|           32|     88|31.0|                   0.248| 26|      1|\n",
      "|         10|    115|            0|            0|      0|35.3|                   0.134| 29|      0|\n",
      "|          4|    110|           92|            0|      0|37.6|                   0.191| 30|      0|\n",
      "|         10|    168|           74|            0|      0|38.0|                   0.537| 34|      1|\n",
      "|          7|    100|            0|            0|      0|30.0|                   0.484| 32|      1|\n",
      "+-----------+-------+-------------+-------------+-------+----+------------------------+---+-------+\n",
      "only showing top 10 rows\n",
      "\n"
     ]
    }
   ],
   "source": [
    "df.filter(df['Age']<40).show(10)"
   ]
  },
  {
   "cell_type": "markdown",
   "id": "3090dfe7",
   "metadata": {},
   "source": [
    "You can perform further filtering using the `select` method to see only specific columns."
   ]
  },
  {
   "cell_type": "code",
   "execution_count": 11,
   "id": "b6f95ed5",
   "metadata": {},
   "outputs": [
    {
     "name": "stdout",
     "output_type": "stream",
     "text": [
      "+-------+-------+\n",
      "|Insulin|Outcome|\n",
      "+-------+-------+\n",
      "|      0|      0|\n",
      "|      0|      1|\n",
      "|     94|      0|\n",
      "|    168|      1|\n",
      "|      0|      0|\n",
      "|     88|      1|\n",
      "|      0|      0|\n",
      "|      0|      0|\n",
      "|      0|      1|\n",
      "|      0|      1|\n",
      "+-------+-------+\n",
      "only showing top 10 rows\n",
      "\n"
     ]
    }
   ],
   "source": [
    "df.where(df['age'] < 40).select('Insulin','Outcome').show(10)"
   ]
  },
  {
   "cell_type": "markdown",
   "id": "584fc7cd",
   "metadata": {},
   "source": [
    "You can also apply to filter records based on conditions. Let find records with age greater than 60 and persons who are only sick."
   ]
  },
  {
   "cell_type": "code",
   "execution_count": 12,
   "id": "3a78f21f",
   "metadata": {},
   "outputs": [
    {
     "name": "stdout",
     "output_type": "stream",
     "text": [
      "+-----------+-------+-------------+-------------+-------+----+------------------------+---+-------+\n",
      "|Pregnancies|Glucose|BloodPressure|SkinThickness|Insulin| BMI|DiabetesPedigreeFunction|Age|Outcome|\n",
      "+-----------+-------+-------------+-------------+-------+----+------------------------+---+-------+\n",
      "|          4|    146|           92|            0|      0|31.2|                   0.539| 61|      1|\n",
      "|          0|    105|           84|            0|      0|27.9|                   0.741| 62|      1|\n",
      "|          2|    158|           90|            0|      0|31.6|                   0.805| 66|      1|\n",
      "|          4|    146|           78|            0|      0|38.5|                    0.52| 67|      1|\n",
      "|          2|    197|           70|           99|      0|34.7|                   0.575| 62|      1|\n",
      "|          4|    145|           82|           18|      0|32.5|                   0.235| 70|      1|\n",
      "|          6|    190|           92|            0|      0|35.5|                   0.278| 66|      1|\n",
      "+-----------+-------+-------------+-------------+-------+----+------------------------+---+-------+\n",
      "\n"
     ]
    }
   ],
   "source": [
    "df.filter(df['age'] > 60).filter(df['Outcome'] == '1').show(10)"
   ]
  },
  {
   "cell_type": "markdown",
   "id": "dde2ea75",
   "metadata": {},
   "source": [
    "You can use operators like `&` and `|` to apply multiple filter conditions. Let's filter persons who are sick and who have pregnancies of greater than or equal to 10 using “&”."
   ]
  },
  {
   "cell_type": "code",
   "execution_count": 13,
   "id": "ec99bad9",
   "metadata": {},
   "outputs": [
    {
     "name": "stdout",
     "output_type": "stream",
     "text": [
      "+-----------+-------+-------------+-------------+-------+----+------------------------+---+-------+\n",
      "|Pregnancies|Glucose|BloodPressure|SkinThickness|Insulin| BMI|DiabetesPedigreeFunction|Age|Outcome|\n",
      "+-----------+-------+-------------+-------------+-------+----+------------------------+---+-------+\n",
      "|         10|    168|           74|            0|      0|38.0|                   0.537| 34|      1|\n",
      "|          9|    119|           80|           35|      0|29.0|                   0.263| 29|      1|\n",
      "|         11|    143|           94|           33|    146|36.6|                   0.254| 51|      1|\n",
      "|         10|    125|           70|           26|    115|31.1|                   0.205| 41|      1|\n",
      "|          9|    102|           76|           37|      0|32.9|                   0.665| 46|      1|\n",
      "|          9|    171|          110|           24|    240|45.4|                   0.721| 54|      1|\n",
      "|         13|    126|           90|            0|      0|43.4|                   0.583| 42|      1|\n",
      "|         15|    136|           70|           32|    110|37.1|                   0.153| 43|      1|\n",
      "|          9|    122|           56|            0|      0|33.3|                   1.114| 33|      1|\n",
      "|         10|    108|           66|            0|      0|32.4|                   0.272| 42|      1|\n",
      "+-----------+-------+-------------+-------------+-------+----+------------------------+---+-------+\n",
      "only showing top 10 rows\n",
      "\n"
     ]
    }
   ],
   "source": [
    "df.filter((df['Outcome']==1) & (df['Pregnancies'] >=9)).show(10)"
   ]
  },
  {
   "cell_type": "markdown",
   "id": "ef50e511",
   "metadata": {},
   "source": [
    "To find a count of the number of records after filtering, you can use the `count` method."
   ]
  },
  {
   "cell_type": "code",
   "execution_count": 14,
   "id": "24861125",
   "metadata": {},
   "outputs": [
    {
     "data": {
      "text/plain": [
       "194"
      ]
     },
     "execution_count": 14,
     "metadata": {},
     "output_type": "execute_result"
    }
   ],
   "source": [
    "df.filter(df['age']>40).count()"
   ]
  },
  {
   "cell_type": "markdown",
   "id": "2a2313ed",
   "metadata": {},
   "source": [
    "You can filter data the `where` method like the `filter` method. Let me show you."
   ]
  },
  {
   "cell_type": "code",
   "execution_count": 15,
   "id": "26119d8f",
   "metadata": {},
   "outputs": [
    {
     "name": "stdout",
     "output_type": "stream",
     "text": [
      "+-----------+-------+-------------+-------------+-------+----+------------------------+---+-------+\n",
      "|Pregnancies|Glucose|BloodPressure|SkinThickness|Insulin| BMI|DiabetesPedigreeFunction|Age|Outcome|\n",
      "+-----------+-------+-------------+-------------+-------+----+------------------------+---+-------+\n",
      "|         10|    168|           74|            0|      0|38.0|                   0.537| 34|      1|\n",
      "|          9|    119|           80|           35|      0|29.0|                   0.263| 29|      1|\n",
      "|         11|    143|           94|           33|    146|36.6|                   0.254| 51|      1|\n",
      "|         10|    125|           70|           26|    115|31.1|                   0.205| 41|      1|\n",
      "|          9|    102|           76|           37|      0|32.9|                   0.665| 46|      1|\n",
      "|          9|    171|          110|           24|    240|45.4|                   0.721| 54|      1|\n",
      "|         13|    126|           90|            0|      0|43.4|                   0.583| 42|      1|\n",
      "|         15|    136|           70|           32|    110|37.1|                   0.153| 43|      1|\n",
      "|          9|    122|           56|            0|      0|33.3|                   1.114| 33|      1|\n",
      "|         10|    108|           66|            0|      0|32.4|                   0.272| 42|      1|\n",
      "+-----------+-------+-------------+-------------+-------+----+------------------------+---+-------+\n",
      "only showing top 10 rows\n",
      "\n"
     ]
    }
   ],
   "source": [
    "df.where((df['Outcome']==1) & (df['Pregnancies'] >=9)).show(10)"
   ]
  },
  {
   "cell_type": "markdown",
   "id": "05ea3a1e",
   "metadata": {},
   "source": [
    "You can also use the `where` method along with the `count` method."
   ]
  },
  {
   "cell_type": "code",
   "execution_count": 16,
   "id": "37e77805",
   "metadata": {},
   "outputs": [
    {
     "data": {
      "text/plain": [
       "194"
      ]
     },
     "execution_count": 16,
     "metadata": {},
     "output_type": "execute_result"
    }
   ],
   "source": [
    "df.where(df['age'] > 40).count()"
   ]
  },
  {
   "cell_type": "markdown",
   "id": "54b0a5de",
   "metadata": {},
   "source": [
    "---\n",
    "<a name = Step6></a>\n",
    "## **6. Adding New Columns**\n",
    "---\n",
    "<a id=\"0\"></a>\n",
    "<a href=\"#toc\" class=\"btn btn-primary btn-sm\" role=\"button\" aria-pressed=\"true\" \n",
    "style=\"color:white; background-color:#edcff0\" data-toggle=\"popover\">Content</a>"
   ]
  },
  {
   "cell_type": "markdown",
   "id": "ff97c73e",
   "metadata": {},
   "source": [
    "You can use the `withColumn` method to add a new column. Let's create a new column by using the age column. To do this, I'm going to add the age values to ten value. "
   ]
  },
  {
   "cell_type": "code",
   "execution_count": 17,
   "id": "b5136d77",
   "metadata": {},
   "outputs": [
    {
     "name": "stdout",
     "output_type": "stream",
     "text": [
      "+-----------+-------+-------------+-------------+-------+----+------------------------+---+-------+-------+\n",
      "|Pregnancies|Glucose|BloodPressure|SkinThickness|Insulin| BMI|DiabetesPedigreeFunction|Age|Outcome|New_Age|\n",
      "+-----------+-------+-------------+-------------+-------+----+------------------------+---+-------+-------+\n",
      "|          6|    148|           72|           35|      0|33.6|                   0.627| 50|      1|     60|\n",
      "|          1|     85|           66|           29|      0|26.6|                   0.351| 31|      0|     41|\n",
      "|          8|    183|           64|            0|      0|23.3|                   0.672| 32|      1|     42|\n",
      "|          1|     89|           66|           23|     94|28.1|                   0.167| 21|      0|     31|\n",
      "|          0|    137|           40|           35|    168|43.1|                   2.288| 33|      1|     43|\n",
      "|          5|    116|           74|            0|      0|25.6|                   0.201| 30|      0|     40|\n",
      "|          3|     78|           50|           32|     88|31.0|                   0.248| 26|      1|     36|\n",
      "|         10|    115|            0|            0|      0|35.3|                   0.134| 29|      0|     39|\n",
      "|          2|    197|           70|           45|    543|30.5|                   0.158| 53|      1|     63|\n",
      "|          8|    125|           96|            0|      0| 0.0|                   0.232| 54|      1|     64|\n",
      "+-----------+-------+-------------+-------------+-------+----+------------------------+---+-------+-------+\n",
      "only showing top 10 rows\n",
      "\n"
     ]
    }
   ],
   "source": [
    "df.withColumn('New_Age',df['age'] + 10).show(10)"
   ]
  },
  {
   "cell_type": "markdown",
   "id": "8ae4e6ea",
   "metadata": {},
   "source": [
    "---\n",
    "<a name = Step7></a>\n",
    "## **7. Grouping Data**\n",
    "---\n",
    "<a id=\"0\"></a>\n",
    "<a href=\"#toc\" class=\"btn btn-primary btn-sm\" role=\"button\" aria-pressed=\"true\" \n",
    "style=\"color:white; background-color:#edcff0\" data-toggle=\"popover\">Content</a>"
   ]
  },
  {
   "cell_type": "markdown",
   "id": "3b1981bd",
   "metadata": {},
   "source": [
    "When working with large amounts of data, we'll often use the `groupBy` method to summarize data. After grouping data, you can apply an aggregation function on each one of them. Let's take a look at the sum number of each categorical value of the outcome column."
   ]
  },
  {
   "cell_type": "code",
   "execution_count": 18,
   "id": "0392f317",
   "metadata": {},
   "outputs": [
    {
     "name": "stdout",
     "output_type": "stream",
     "text": [
      "+-------+-----+\n",
      "|Outcome|count|\n",
      "+-------+-----+\n",
      "|      1|  268|\n",
      "|      0|  500|\n",
      "+-------+-----+\n",
      "\n"
     ]
    }
   ],
   "source": [
    "df.groupBy('Outcome').count().show()"
   ]
  },
  {
   "cell_type": "markdown",
   "id": "209dc5d1",
   "metadata": {},
   "source": [
    "You can also use the `distinct` and `count` methods to find distinct value in a column. Let's take a look at the district values in the Pregnancies column."
   ]
  },
  {
   "cell_type": "code",
   "execution_count": 19,
   "id": "f95d04a9",
   "metadata": {},
   "outputs": [
    {
     "data": {
      "text/plain": [
       "17"
      ]
     },
     "execution_count": 19,
     "metadata": {},
     "output_type": "execute_result"
    }
   ],
   "source": [
    "df.select('Pregnancies').distinct().count()"
   ]
  },
  {
   "cell_type": "markdown",
   "id": "ba4752fb",
   "metadata": {},
   "source": [
    "You can use the other the aggregate functions such as sum, mean, or min. Let's find the mean of age after grouping the outcome column. Note that the `alias` method is used to name the new column. "
   ]
  },
  {
   "cell_type": "code",
   "execution_count": 20,
   "id": "37f92f4a",
   "metadata": {},
   "outputs": [
    {
     "name": "stdout",
     "output_type": "stream",
     "text": [
      "+-------+-----------------+\n",
      "|Outcome|         age_mean|\n",
      "+-------+-----------------+\n",
      "|      1|37.06716417910448|\n",
      "|      0|            31.19|\n",
      "+-------+-----------------+\n",
      "\n"
     ]
    }
   ],
   "source": [
    "df.groupBy('Outcome').agg(F.mean(\"age\").alias(\"age_mean\")).show(10)"
   ]
  },
  {
   "cell_type": "markdown",
   "id": "4712e745",
   "metadata": {},
   "source": [
    "---\n",
    "<a name = Step8></a>\n",
    "## **8. Applying User-Defined Functions**\n",
    "---\n",
    "<a id=\"0\"></a>\n",
    "<a href=\"#toc\" class=\"btn btn-primary btn-sm\" role=\"button\" aria-pressed=\"true\" \n",
    "style=\"color:white; background-color:#edcff0\" data-toggle=\"popover\">Content</a>"
   ]
  },
  {
   "cell_type": "markdown",
   "id": "5976b5c3",
   "metadata": {},
   "source": [
    "You can also apply your own function to the grouped data with UDFs (user-defined functions) in the pyspark.sql.functions module. To show this, let's create a function named diabete first."
   ]
  },
  {
   "cell_type": "code",
   "execution_count": 21,
   "id": "6cffa17d",
   "metadata": {},
   "outputs": [],
   "source": [
    "def diabete(case):\n",
    "    if case == 1 :\n",
    "        return \"diabete\"\n",
    "    else:\n",
    "        return 'no diabete'"
   ]
  },
  {
   "cell_type": "markdown",
   "id": "89ccd35b",
   "metadata": {},
   "source": [
    "Now let's declare the UDF and its return type (StringType in this example). After that, I'm going to use withColumn to create a new column and then pass the relevant Dataframe column (Outcome):"
   ]
  },
  {
   "cell_type": "code",
   "execution_count": 22,
   "id": "a79ff82d",
   "metadata": {},
   "outputs": [
    {
     "name": "stdout",
     "output_type": "stream",
     "text": [
      "+-----------+-------+-------------+-------------+-------+----+------------------------+---+-------+------------+\n",
      "|Pregnancies|Glucose|BloodPressure|SkinThickness|Insulin| BMI|DiabetesPedigreeFunction|Age|Outcome|diabete_case|\n",
      "+-----------+-------+-------------+-------------+-------+----+------------------------+---+-------+------------+\n",
      "|          6|    148|           72|           35|      0|33.6|                   0.627| 50|      1|     diabete|\n",
      "|          1|     85|           66|           29|      0|26.6|                   0.351| 31|      0|  no diabete|\n",
      "|          8|    183|           64|            0|      0|23.3|                   0.672| 32|      1|     diabete|\n",
      "|          1|     89|           66|           23|     94|28.1|                   0.167| 21|      0|  no diabete|\n",
      "|          0|    137|           40|           35|    168|43.1|                   2.288| 33|      1|     diabete|\n",
      "|          5|    116|           74|            0|      0|25.6|                   0.201| 30|      0|  no diabete|\n",
      "|          3|     78|           50|           32|     88|31.0|                   0.248| 26|      1|     diabete|\n",
      "|         10|    115|            0|            0|      0|35.3|                   0.134| 29|      0|  no diabete|\n",
      "|          2|    197|           70|           45|    543|30.5|                   0.158| 53|      1|     diabete|\n",
      "|          8|    125|           96|            0|      0| 0.0|                   0.232| 54|      1|     diabete|\n",
      "+-----------+-------+-------------+-------------+-------+----+------------------------+---+-------+------------+\n",
      "only showing top 10 rows\n",
      "\n"
     ]
    }
   ],
   "source": [
    "from pyspark.sql.types import *\n",
    "diabete_udf = F.udf(diabete, StringType())\n",
    "df.withColumn('diabete_case', diabete_udf(df['Outcome'])).show(10)"
   ]
  },
  {
   "cell_type": "markdown",
   "id": "501e0cf3",
   "metadata": {},
   "source": [
    "---\n",
    "<a name = Step9></a>\n",
    "## **9. Deleting Data**\n",
    "---\n",
    "<a id=\"0\"></a>\n",
    "<a href=\"#toc\" class=\"btn btn-primary btn-sm\" role=\"button\" aria-pressed=\"true\" \n",
    "style=\"color:white; background-color:#edcff0\" data-toggle=\"popover\">Content</a>"
   ]
  },
  {
   "cell_type": "markdown",
   "id": "81566061",
   "metadata": {},
   "source": [
    "To delete a column or multiple columns, you can use the `drop` method in PySpark. Let's delete the `Insulin` column with the `drop` method."
   ]
  },
  {
   "cell_type": "code",
   "execution_count": 23,
   "id": "274d4906",
   "metadata": {},
   "outputs": [
    {
     "name": "stdout",
     "output_type": "stream",
     "text": [
      "+-----------+-------+-------------+-------------+----+------------------------+---+-------+\n",
      "|Pregnancies|Glucose|BloodPressure|SkinThickness| BMI|DiabetesPedigreeFunction|Age|Outcome|\n",
      "+-----------+-------+-------------+-------------+----+------------------------+---+-------+\n",
      "|          6|    148|           72|           35|33.6|                   0.627| 50|      1|\n",
      "|          1|     85|           66|           29|26.6|                   0.351| 31|      0|\n",
      "|          8|    183|           64|            0|23.3|                   0.672| 32|      1|\n",
      "|          1|     89|           66|           23|28.1|                   0.167| 21|      0|\n",
      "|          0|    137|           40|           35|43.1|                   2.288| 33|      1|\n",
      "|          5|    116|           74|            0|25.6|                   0.201| 30|      0|\n",
      "|          3|     78|           50|           32|31.0|                   0.248| 26|      1|\n",
      "|         10|    115|            0|            0|35.3|                   0.134| 29|      0|\n",
      "|          2|    197|           70|           45|30.5|                   0.158| 53|      1|\n",
      "|          8|    125|           96|            0| 0.0|                   0.232| 54|      1|\n",
      "+-----------+-------+-------------+-------------+----+------------------------+---+-------+\n",
      "only showing top 10 rows\n",
      "\n"
     ]
    }
   ],
   "source": [
    "df.drop('Insulin').show(10)"
   ]
  },
  {
   "cell_type": "markdown",
   "id": "01c9f4c3",
   "metadata": {},
   "source": [
    "To remove the duplicate records from the Dataframe, you can use the `dropDuplicates` method."
   ]
  },
  {
   "cell_type": "code",
   "execution_count": 24,
   "id": "b16cf812",
   "metadata": {},
   "outputs": [
    {
     "name": "stdout",
     "output_type": "stream",
     "text": [
      "The number of records:  768\n",
      "The number of records after removing the duplicate :  768\n"
     ]
    }
   ],
   "source": [
    "print(\"The number of records: \", df.count())\n",
    "df=df.dropDuplicates()\n",
    "print(\"The number of records after removing the duplicate : \", df.count())"
   ]
  },
  {
   "cell_type": "markdown",
   "id": "70cebee7",
   "metadata": {},
   "source": [
    "As you can see, there are no the duplicate records in the dataset."
   ]
  },
  {
   "cell_type": "markdown",
   "id": "089bc8b4",
   "metadata": {},
   "source": [
    "---\n",
    "<a name = Step10></a>\n",
    "## **10. Writing Data**\n",
    "---\n",
    "<a id=\"0\"></a>\n",
    "<a href=\"#toc\" class=\"btn btn-primary btn-sm\" role=\"button\" aria-pressed=\"true\" \n",
    "style=\"color:white; background-color:#edcff0\" data-toggle=\"popover\">Content</a>"
   ]
  },
  {
   "cell_type": "markdown",
   "id": "69577598",
   "metadata": {},
   "source": [
    "After performing data manipulation, you’ll often want to export your results. You can write the clean Dataframe to a desired location in the required format with the `write` method. \n",
    "\n",
    "\n",
    "Let's write our results in a CSV files."
   ]
  },
  {
   "cell_type": "code",
   "execution_count": 25,
   "id": "374e55d8",
   "metadata": {},
   "outputs": [],
   "source": [
    "df.write.csv(\"./data/my_dataset.csv\")"
   ]
  },
  {
   "cell_type": "markdown",
   "id": "f7945f75",
   "metadata": {},
   "source": [
    "Let's take a look at this file."
   ]
  },
  {
   "cell_type": "code",
   "execution_count": 26,
   "id": "b2b8aa88",
   "metadata": {},
   "outputs": [
    {
     "name": "stdout",
     "output_type": "stream",
     "text": [
      "_SUCCESS\n",
      "part-00000-2b5e0da4-fab1-4141-ae6f-1f89eea9818f-c000.csv\n",
      "part-00001-2b5e0da4-fab1-4141-ae6f-1f89eea9818f-c000.csv\n",
      "part-00002-2b5e0da4-fab1-4141-ae6f-1f89eea9818f-c000.csv\n",
      "part-00003-2b5e0da4-fab1-4141-ae6f-1f89eea9818f-c000.csv\n"
     ]
    }
   ],
   "source": [
    "%%bash\n",
    "ls data/my_dataset.csv | head -5"
   ]
  },
  {
   "cell_type": "markdown",
   "id": "e4ddb8a9",
   "metadata": {},
   "source": [
    "As you can see, this folder includes many partitions. To reduce the number of partitions, you can use the `coalesce` method with the desired number of partitions."
   ]
  },
  {
   "cell_type": "code",
   "execution_count": 27,
   "id": "bf856152",
   "metadata": {},
   "outputs": [],
   "source": [
    "df.coalesce(1).write.csv(\"./data/my_single_partition.csv\")"
   ]
  },
  {
   "cell_type": "code",
   "execution_count": 28,
   "id": "ddb08542",
   "metadata": {},
   "outputs": [
    {
     "name": "stdout",
     "output_type": "stream",
     "text": [
      "_SUCCESS\n",
      "part-00000-53da5401-5d0a-4fad-a7e3-0114833b68d8-c000.csv\n"
     ]
    }
   ],
   "source": [
    "%%bash\n",
    "ls data/my_single_partition.csv | head"
   ]
  },
  {
   "cell_type": "markdown",
   "id": "8e5a21ad",
   "metadata": {},
   "source": [
    "As you can see, there is a single CSV file inside of this folder."
   ]
  },
  {
   "cell_type": "markdown",
   "id": "af43f8c3",
   "metadata": {},
   "source": [
    "---\n",
    "<a name = Step11></a>\n",
    "## **Conclusion**\n",
    "---\n",
    "<a id=\"0\"></a>\n",
    "<a href=\"#toc\" class=\"btn btn-primary btn-sm\" role=\"button\" aria-pressed=\"true\" \n",
    "style=\"color:white; background-color:#edcff0\" data-toggle=\"popover\">Content</a>"
   ]
  },
  {
   "cell_type": "markdown",
   "id": "1083d658",
   "metadata": {},
   "source": [
    "In this notebook, I talked about data manipulation with PySpark from reading to exporting data. "
   ]
  },
  {
   "cell_type": "markdown",
   "id": "227e3c7c",
   "metadata": {},
   "source": [
    "Thanks for reading. I hope you enjoy it. Don't forget to follow us on [YouTube](http://youtube.com/tirendazacademy) | [Medium](http://tirendazacademy.medium.com) | [Twitter](http://twitter.com/tirendazacademy) | [GitHub](http://github.com/tirendazacademy) | [Linkedin](https://www.linkedin.com/in/tirendaz-academy) | [Kaggle](https://www.kaggle.com/tirendazacademy) 😎"
   ]
  }
 ],
 "metadata": {
  "kernelspec": {
   "display_name": "Python 3 (ipykernel)",
   "language": "python",
   "name": "python3"
  },
  "language_info": {
   "codemirror_mode": {
    "name": "ipython",
    "version": 3
   },
   "file_extension": ".py",
   "mimetype": "text/x-python",
   "name": "python",
   "nbconvert_exporter": "python",
   "pygments_lexer": "ipython3",
   "version": "3.10.0"
  }
 },
 "nbformat": 4,
 "nbformat_minor": 5
}
