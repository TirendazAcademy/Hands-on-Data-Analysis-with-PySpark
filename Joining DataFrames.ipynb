{
 "cells": [
  {
   "cell_type": "markdown",
   "id": "43d0c84b",
   "metadata": {},
   "source": [
    "# Joining DataFrames "
   ]
  },
  {
   "cell_type": "markdown",
   "id": "b40e8cb4",
   "metadata": {},
   "source": [
    "You can merge data frames with the `join` method when working with related tables. The `join` method is a operation to get the data from one data frame and link it to another one via a set of rules. To show this, let me create a SparkSession. "
   ]
  },
  {
   "cell_type": "markdown",
   "id": "42bd7489",
   "metadata": {},
   "source": [
    "## Creating a SparkSession"
   ]
  },
  {
   "cell_type": "code",
   "execution_count": 29,
   "id": "8d779123",
   "metadata": {},
   "outputs": [],
   "source": [
    "from pyspark.sql import SparkSession\n",
    "import pyspark.sql.functions as F\n",
    "spark = SparkSession.builder.getOrCreate()"
   ]
  },
  {
   "cell_type": "markdown",
   "id": "75859ee2",
   "metadata": {},
   "source": [
    "## Loading the Datasets"
   ]
  },
  {
   "cell_type": "markdown",
   "id": "e41e6ed6",
   "metadata": {},
   "source": [
    "Let's read LogIdentifier.csv first."
   ]
  },
  {
   "cell_type": "code",
   "execution_count": 30,
   "id": "fca95bc0",
   "metadata": {},
   "outputs": [
    {
     "name": "stdout",
     "output_type": "stream",
     "text": [
      "root\n",
      " |-- LogIdentifierID: string (nullable = true)\n",
      " |-- LogServiceID: integer (nullable = true)\n",
      " |-- PrimaryFG: integer (nullable = true)\n",
      "\n"
     ]
    }
   ],
   "source": [
    "import os\n",
    "DIRECTORY = \"./data/broadcast_logs\"\n",
    "log_identifier = spark.read.csv(\n",
    "    os.path.join(DIRECTORY, \"ReferenceTables/LogIdentifier.csv\"),\n",
    "    sep=\"|\",\n",
    "    header=True,\n",
    "    inferSchema=True,\n",
    ")\n",
    "log_identifier.printSchema()"
   ]
  },
  {
   "cell_type": "markdown",
   "id": "e1f442b9",
   "metadata": {},
   "source": [
    "Let's take a look at the first five row of DataFrame with the `show` method."
   ]
  },
  {
   "cell_type": "code",
   "execution_count": 31,
   "id": "2a2fa17a",
   "metadata": {},
   "outputs": [
    {
     "name": "stdout",
     "output_type": "stream",
     "text": [
      "+---------------+------------+---------+\n",
      "|LogIdentifierID|LogServiceID|PrimaryFG|\n",
      "+---------------+------------+---------+\n",
      "|           13ST|        3157|        1|\n",
      "|         2000SM|        3466|        1|\n",
      "|           70SM|        3883|        1|\n",
      "|           80SM|        3590|        1|\n",
      "|           90SM|        3470|        1|\n",
      "+---------------+------------+---------+\n",
      "only showing top 5 rows\n",
      "\n"
     ]
    }
   ],
   "source": [
    "log_identifier.show(5)"
   ]
  },
  {
   "cell_type": "markdown",
   "id": "da841b1c",
   "metadata": {},
   "source": [
    "Let's read the other DataFrame."
   ]
  },
  {
   "cell_type": "code",
   "execution_count": 32,
   "id": "dbe73595",
   "metadata": {},
   "outputs": [
    {
     "name": "stdout",
     "output_type": "stream",
     "text": [
      "root\n",
      " |-- BroadcastLogID: integer (nullable = true)\n",
      " |-- LogServiceID: integer (nullable = true)\n",
      " |-- LogDate: string (nullable = true)\n",
      " |-- SequenceNO: integer (nullable = true)\n",
      " |-- AudienceTargetAgeID: integer (nullable = true)\n",
      " |-- AudienceTargetEthnicID: integer (nullable = true)\n",
      " |-- CategoryID: integer (nullable = true)\n",
      " |-- ClosedCaptionID: integer (nullable = true)\n",
      " |-- CountryOfOriginID: integer (nullable = true)\n",
      " |-- DubDramaCreditID: integer (nullable = true)\n",
      " |-- EthnicProgramID: integer (nullable = true)\n",
      " |-- ProductionSourceID: integer (nullable = true)\n",
      " |-- ProgramClassID: integer (nullable = true)\n",
      " |-- FilmClassificationID: integer (nullable = true)\n",
      " |-- ExhibitionID: integer (nullable = true)\n",
      " |-- Duration: string (nullable = true)\n",
      " |-- EndTime: string (nullable = true)\n",
      " |-- LogEntryDate: string (nullable = true)\n",
      " |-- ProductionNO: string (nullable = true)\n",
      " |-- ProgramTitle: string (nullable = true)\n",
      " |-- StartTime: string (nullable = true)\n",
      " |-- Subtitle: string (nullable = true)\n",
      " |-- NetworkAffiliationID: integer (nullable = true)\n",
      " |-- SpecialAttentionID: integer (nullable = true)\n",
      " |-- BroadcastOriginPointID: integer (nullable = true)\n",
      " |-- CompositionID: integer (nullable = true)\n",
      " |-- Producer1: string (nullable = true)\n",
      " |-- Producer2: string (nullable = true)\n",
      " |-- Language1: integer (nullable = true)\n",
      " |-- Language2: integer (nullable = true)\n",
      "\n"
     ]
    }
   ],
   "source": [
    "logs = spark.read.csv(\n",
    "    os.path.join(DIRECTORY, \"BroadcastLogs_2018_Q3_M8_sample.CSV\"),\n",
    "    sep=\"|\",\n",
    "    header=True,\n",
    "    inferSchema=True,\n",
    ")\n",
    "logs.printSchema()"
   ]
  },
  {
   "cell_type": "markdown",
   "id": "1cf3cb1c",
   "metadata": {},
   "source": [
    "## The join method"
   ]
  },
  {
   "cell_type": "markdown",
   "id": "2ea405e7",
   "metadata": {},
   "source": [
    "We have two DataFrame and are ready to start joining! \n",
    "\n",
    "Here is the blueprint: *[LEFT].join([RIGHT],on=[PREDICATES] how=[METHOD])*\n",
    "\n",
    "*on=[PREDICATES]* parameter provides to match records from the left table with the right table. \n",
    "*how=[METHOD]* shows how to merge that PySpark will default to an inner join. Let's take a look at the other options of the paramter. \n",
    "\n",
    "As you probably know, a *left* join will add the unmatched records from the left table in the joined table, filling the columns coming from the right table with null.\n",
    "\n",
    "A *right* join will add the unmatched records from the right in the joined table, filling the columns coming from the left table with null.\n",
    "\n",
    "A *cross* join returns a record for every record pair. Let me show this.\n",
    "\n",
    "Let's merge the logs table as left table with the log_identifier as rigth table."
   ]
  },
  {
   "cell_type": "code",
   "execution_count": 33,
   "id": "7b1b11c4",
   "metadata": {},
   "outputs": [],
   "source": [
    "logs_and_channels = logs.join(\n",
    "    log_identifier,\n",
    "    on=\"LogServiceID\",\n",
    "    how=\"inner\" \n",
    ")"
   ]
  },
  {
   "cell_type": "code",
   "execution_count": 34,
   "id": "bb3f1661",
   "metadata": {},
   "outputs": [
    {
     "name": "stdout",
     "output_type": "stream",
     "text": [
      "The number of the log table columns:  30\n",
      "The number of the log_identifier table columns:  3\n",
      "The number of the columns after joining:  32\n"
     ]
    }
   ],
   "source": [
    "print(\"The number of the log table columns: \", len(logs.columns))\n",
    "print(\"The number of the log_identifier table columns: \", len(log_identifier.columns))\n",
    "print(\"The number of the columns after joining: \", len(logs_and_channels.columns))"
   ]
  },
  {
   "cell_type": "markdown",
   "id": "f0dd7c91",
   "metadata": {},
   "source": [
    "## Naming the Merged Columns"
   ]
  },
  {
   "cell_type": "markdown",
   "id": "2177aeef",
   "metadata": {},
   "source": [
    "Note that PySpark fails when we try to work with the ambiguous column. To show this, let's join two table according to the `LogServiceID` column."
   ]
  },
  {
   "cell_type": "code",
   "execution_count": 35,
   "id": "d7f3745a",
   "metadata": {},
   "outputs": [],
   "source": [
    "logs_and_channels_verbose = logs.join(\n",
    "    log_identifier, \n",
    "    logs[\"LogServiceID\"] == log_identifier[\"LogServiceID\"]\n",
    ")"
   ]
  },
  {
   "cell_type": "code",
   "execution_count": 36,
   "id": "15751bc3",
   "metadata": {},
   "outputs": [
    {
     "name": "stdout",
     "output_type": "stream",
     "text": [
      "root\n",
      " |-- BroadcastLogID: integer (nullable = true)\n",
      " |-- LogServiceID: integer (nullable = true)\n",
      " |-- LogDate: string (nullable = true)\n",
      " |-- SequenceNO: integer (nullable = true)\n",
      " |-- AudienceTargetAgeID: integer (nullable = true)\n",
      " |-- AudienceTargetEthnicID: integer (nullable = true)\n",
      " |-- CategoryID: integer (nullable = true)\n",
      " |-- ClosedCaptionID: integer (nullable = true)\n",
      " |-- CountryOfOriginID: integer (nullable = true)\n",
      " |-- DubDramaCreditID: integer (nullable = true)\n",
      " |-- EthnicProgramID: integer (nullable = true)\n",
      " |-- ProductionSourceID: integer (nullable = true)\n",
      " |-- ProgramClassID: integer (nullable = true)\n",
      " |-- FilmClassificationID: integer (nullable = true)\n",
      " |-- ExhibitionID: integer (nullable = true)\n",
      " |-- Duration: string (nullable = true)\n",
      " |-- EndTime: string (nullable = true)\n",
      " |-- LogEntryDate: string (nullable = true)\n",
      " |-- ProductionNO: string (nullable = true)\n",
      " |-- ProgramTitle: string (nullable = true)\n",
      " |-- StartTime: string (nullable = true)\n",
      " |-- Subtitle: string (nullable = true)\n",
      " |-- NetworkAffiliationID: integer (nullable = true)\n",
      " |-- SpecialAttentionID: integer (nullable = true)\n",
      " |-- BroadcastOriginPointID: integer (nullable = true)\n",
      " |-- CompositionID: integer (nullable = true)\n",
      " |-- Producer1: string (nullable = true)\n",
      " |-- Producer2: string (nullable = true)\n",
      " |-- Language1: integer (nullable = true)\n",
      " |-- Language2: integer (nullable = true)\n",
      " |-- LogIdentifierID: string (nullable = true)\n",
      " |-- LogServiceID: integer (nullable = true)\n",
      " |-- PrimaryFG: integer (nullable = true)\n",
      "\n"
     ]
    }
   ],
   "source": [
    "logs_and_channels_verbose.printSchema()"
   ]
  },
  {
   "cell_type": "markdown",
   "id": "3c2287ab",
   "metadata": {},
   "source": [
    "Let's try to select the LogServiceID:"
   ]
  },
  {
   "cell_type": "code",
   "execution_count": 37,
   "id": "1897009d",
   "metadata": {},
   "outputs": [
    {
     "data": {
      "text/plain": [
       "'\\nIf you run this command *logs_and_channels_verbose.select(\"LogServiceID\")* you can an error as the follows:\\n*Reference \\'LogServiceID\\' is ambiguous, could be: LogServiceID, LogServiceID.*\\n\\nLet\\'s solve this problem\\n\\n'"
      ]
     },
     "execution_count": 37,
     "metadata": {},
     "output_type": "execute_result"
    }
   ],
   "source": [
    "\"\"\"\n",
    "If you run this command *logs_and_channels_verbose.select(\"LogServiceID\")* you can an error as the follows:\n",
    "*Reference 'LogServiceID' is ambiguous, could be: LogServiceID, LogServiceID.*\n",
    "\n",
    "Let's solve this problem\n",
    "\n",
    "\"\"\""
   ]
  },
  {
   "cell_type": "markdown",
   "id": "06e32953",
   "metadata": {},
   "source": [
    "As expected we have an error. The merged table have two same columns: LogServiceID. This leads to error when working with these columns since here are two columns that have same names. \n",
    "\n",
    "To overcome this problem, I show three methods. \n",
    "\n",
    "First, when performing an join, the `join` method drops the second instance of the predicate column. Let me show you:"
   ]
  },
  {
   "cell_type": "code",
   "execution_count": 38,
   "id": "9962bb9a",
   "metadata": {},
   "outputs": [
    {
     "name": "stdout",
     "output_type": "stream",
     "text": [
      "root\n",
      " |-- LogServiceID: integer (nullable = true)\n",
      " |-- BroadcastLogID: integer (nullable = true)\n",
      " |-- LogDate: string (nullable = true)\n",
      " |-- SequenceNO: integer (nullable = true)\n",
      " |-- AudienceTargetAgeID: integer (nullable = true)\n",
      " |-- AudienceTargetEthnicID: integer (nullable = true)\n",
      " |-- CategoryID: integer (nullable = true)\n",
      " |-- ClosedCaptionID: integer (nullable = true)\n",
      " |-- CountryOfOriginID: integer (nullable = true)\n",
      " |-- DubDramaCreditID: integer (nullable = true)\n",
      " |-- EthnicProgramID: integer (nullable = true)\n",
      " |-- ProductionSourceID: integer (nullable = true)\n",
      " |-- ProgramClassID: integer (nullable = true)\n",
      " |-- FilmClassificationID: integer (nullable = true)\n",
      " |-- ExhibitionID: integer (nullable = true)\n",
      " |-- Duration: string (nullable = true)\n",
      " |-- EndTime: string (nullable = true)\n",
      " |-- LogEntryDate: string (nullable = true)\n",
      " |-- ProductionNO: string (nullable = true)\n",
      " |-- ProgramTitle: string (nullable = true)\n",
      " |-- StartTime: string (nullable = true)\n",
      " |-- Subtitle: string (nullable = true)\n",
      " |-- NetworkAffiliationID: integer (nullable = true)\n",
      " |-- SpecialAttentionID: integer (nullable = true)\n",
      " |-- BroadcastOriginPointID: integer (nullable = true)\n",
      " |-- CompositionID: integer (nullable = true)\n",
      " |-- Producer1: string (nullable = true)\n",
      " |-- Producer2: string (nullable = true)\n",
      " |-- Language1: integer (nullable = true)\n",
      " |-- Language2: integer (nullable = true)\n",
      " |-- LogIdentifierID: string (nullable = true)\n",
      " |-- PrimaryFG: integer (nullable = true)\n",
      "\n"
     ]
    }
   ],
   "source": [
    "logs_and_channels = logs.join(log_identifier, \"LogServiceID\")\n",
    "logs_and_channels.printSchema()"
   ]
  },
  {
   "cell_type": "markdown",
   "id": "dadb2afc",
   "metadata": {},
   "source": [
    "The second way is to rename one of two duplicated column or delete one of two duplicated columns. Let me show you."
   ]
  },
  {
   "cell_type": "code",
   "execution_count": 39,
   "id": "bf0ce536",
   "metadata": {},
   "outputs": [
    {
     "data": {
      "text/plain": [
       "DataFrame[LogServiceID: int]"
      ]
     },
     "execution_count": 39,
     "metadata": {},
     "output_type": "execute_result"
    }
   ],
   "source": [
    "logs_and_channels_verbose = logs.join(\n",
    "    log_identifier, logs[\"LogServiceID\"] == log_identifier[\"LogServiceID\"]\n",
    ")\n",
    "logs_and_channels.drop(log_identifier[\"LogServiceID\"]).select(\"LogServiceID\") "
   ]
  },
  {
   "cell_type": "code",
   "execution_count": 40,
   "id": "63fe69c2",
   "metadata": {},
   "outputs": [
    {
     "name": "stdout",
     "output_type": "stream",
     "text": [
      "root\n",
      " |-- BroadcastLogID: integer (nullable = true)\n",
      " |-- LogServiceID: integer (nullable = true)\n",
      " |-- LogDate: string (nullable = true)\n",
      " |-- SequenceNO: integer (nullable = true)\n",
      " |-- AudienceTargetAgeID: integer (nullable = true)\n",
      " |-- AudienceTargetEthnicID: integer (nullable = true)\n",
      " |-- CategoryID: integer (nullable = true)\n",
      " |-- ClosedCaptionID: integer (nullable = true)\n",
      " |-- CountryOfOriginID: integer (nullable = true)\n",
      " |-- DubDramaCreditID: integer (nullable = true)\n",
      " |-- EthnicProgramID: integer (nullable = true)\n",
      " |-- ProductionSourceID: integer (nullable = true)\n",
      " |-- ProgramClassID: integer (nullable = true)\n",
      " |-- FilmClassificationID: integer (nullable = true)\n",
      " |-- ExhibitionID: integer (nullable = true)\n",
      " |-- Duration: string (nullable = true)\n",
      " |-- EndTime: string (nullable = true)\n",
      " |-- LogEntryDate: string (nullable = true)\n",
      " |-- ProductionNO: string (nullable = true)\n",
      " |-- ProgramTitle: string (nullable = true)\n",
      " |-- StartTime: string (nullable = true)\n",
      " |-- Subtitle: string (nullable = true)\n",
      " |-- NetworkAffiliationID: integer (nullable = true)\n",
      " |-- SpecialAttentionID: integer (nullable = true)\n",
      " |-- BroadcastOriginPointID: integer (nullable = true)\n",
      " |-- CompositionID: integer (nullable = true)\n",
      " |-- Producer1: string (nullable = true)\n",
      " |-- Producer2: string (nullable = true)\n",
      " |-- Language1: integer (nullable = true)\n",
      " |-- Language2: integer (nullable = true)\n",
      " |-- LogIdentifierID: string (nullable = true)\n",
      " |-- LogServiceID: integer (nullable = true)\n",
      " |-- PrimaryFG: integer (nullable = true)\n",
      "\n"
     ]
    }
   ],
   "source": [
    "logs_and_channels_verbose.printSchema()"
   ]
  },
  {
   "cell_type": "markdown",
   "id": "c92d9b65",
   "metadata": {},
   "source": [
    "The last approach is to use the Column object directly with the `alias` method."
   ]
  },
  {
   "cell_type": "code",
   "execution_count": 41,
   "id": "7fc3fbd0",
   "metadata": {},
   "outputs": [
    {
     "data": {
      "text/plain": [
       "DataFrame[LogServiceID: int]"
      ]
     },
     "execution_count": 41,
     "metadata": {},
     "output_type": "execute_result"
    }
   ],
   "source": [
    "logs_and_channels_verbose = logs.alias(\"left\").join( \n",
    "    log_identifier.alias(\"right\"), \n",
    "    logs[\"LogServiceID\"] == log_identifier[\"LogServiceID\"],\n",
    ")\n",
    "logs_and_channels_verbose.drop(F.col(\"right.LogServiceID\"))\\\n",
    "                         .select(\"LogServiceID\") "
   ]
  },
  {
   "cell_type": "markdown",
   "id": "4da5dd2f",
   "metadata": {},
   "source": [
    "## Resource\n",
    "- Data Anaylsis with Python and PySpark"
   ]
  },
  {
   "cell_type": "markdown",
   "id": "5f7ea993",
   "metadata": {},
   "source": [
    "Don't forget to follow us on [YouTube](http://youtube.com/tirendazacademy) | [Medium](http://tirendazacademy.medium.com) | [Twitter](http://twitter.com/tirendazacademy) | [GitHub](http://github.com/tirendazacademy) | [Linkedin](https://www.linkedin.com/in/tirendaz-academy) | [Kaggle](https://www.kaggle.com/tirendazacademy) 😎"
   ]
  }
 ],
 "metadata": {
  "kernelspec": {
   "display_name": "Python 3 (ipykernel)",
   "language": "python",
   "name": "python3"
  },
  "language_info": {
   "codemirror_mode": {
    "name": "ipython",
    "version": 3
   },
   "file_extension": ".py",
   "mimetype": "text/x-python",
   "name": "python",
   "nbconvert_exporter": "python",
   "pygments_lexer": "ipython3",
   "version": "3.10.0"
  }
 },
 "nbformat": 4,
 "nbformat_minor": 5
}
