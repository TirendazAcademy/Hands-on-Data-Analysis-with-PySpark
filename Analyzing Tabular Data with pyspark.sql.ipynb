{
 "cells": [
  {
   "cell_type": "markdown",
   "id": "6951e92c",
   "metadata": {},
   "source": [
    "# Analyzing Tabular Data with pyspark.sql"
   ]
  },
  {
   "cell_type": "markdown",
   "id": "ec373b6e",
   "metadata": {},
   "source": [
    "Tabular data refers to a two-dimensional table like excel format. In this notebook, I'll cover data manipulation with `pyspark.sql`."
   ]
  },
  {
   "cell_type": "markdown",
   "id": "fd0f9921",
   "metadata": {},
   "source": [
    "## Creating SparkSession"
   ]
  },
  {
   "cell_type": "code",
   "execution_count": 1,
   "id": "7cef4d35",
   "metadata": {},
   "outputs": [],
   "source": [
    "from pyspark.sql import SparkSession\n",
    "import pyspark.sql.functions as F\n",
    "spark = SparkSession.builder.getOrCreate()"
   ]
  },
  {
   "cell_type": "markdown",
   "id": "353ef098",
   "metadata": {},
   "source": [
    "## Reading Data"
   ]
  },
  {
   "cell_type": "markdown",
   "id": "d27afac0",
   "metadata": {},
   "source": [
    "PySpark uses the SparkReader object to directly read any kind of data in a DataFrame. Let's read a CSV file with the `spark.read.csv` method. Note that PySpark can infer the schema of a CSV file by setting the `inferSchema` optional parameter to True. For the `sep` paramter you can set the sign between values of your dataset. In our case, the dataset contains the `|` sign."
   ]
  },
  {
   "cell_type": "code",
   "execution_count": 2,
   "id": "0b4a887b",
   "metadata": {},
   "outputs": [],
   "source": [
    "import os\n",
    "DIRECTORY = \"./data/broadcast_logs\" \n",
    "logs = spark.read.csv(\n",
    "    os.path.join(DIRECTORY, \"BroadcastLogs_2018_Q3_M8_sample.CSV\"), \n",
    "    sep=\"|\", \n",
    "    header=True, \n",
    "    inferSchema=True, \n",
    "    timestampFormat=\"yyyy-MM-dd\", \n",
    ")"
   ]
  },
  {
   "cell_type": "code",
   "execution_count": 3,
   "id": "15d5b13b",
   "metadata": {},
   "outputs": [
    {
     "name": "stdout",
     "output_type": "stream",
     "text": [
      "root\n",
      " |-- BroadcastLogID: integer (nullable = true)\n",
      " |-- LogServiceID: integer (nullable = true)\n",
      " |-- LogDate: timestamp (nullable = true)\n",
      " |-- SequenceNO: integer (nullable = true)\n",
      " |-- AudienceTargetAgeID: integer (nullable = true)\n",
      " |-- AudienceTargetEthnicID: integer (nullable = true)\n",
      " |-- CategoryID: integer (nullable = true)\n",
      " |-- ClosedCaptionID: integer (nullable = true)\n",
      " |-- CountryOfOriginID: integer (nullable = true)\n",
      " |-- DubDramaCreditID: integer (nullable = true)\n",
      " |-- EthnicProgramID: integer (nullable = true)\n",
      " |-- ProductionSourceID: integer (nullable = true)\n",
      " |-- ProgramClassID: integer (nullable = true)\n",
      " |-- FilmClassificationID: integer (nullable = true)\n",
      " |-- ExhibitionID: integer (nullable = true)\n",
      " |-- Duration: string (nullable = true)\n",
      " |-- EndTime: string (nullable = true)\n",
      " |-- LogEntryDate: timestamp (nullable = true)\n",
      " |-- ProductionNO: string (nullable = true)\n",
      " |-- ProgramTitle: string (nullable = true)\n",
      " |-- StartTime: string (nullable = true)\n",
      " |-- Subtitle: string (nullable = true)\n",
      " |-- NetworkAffiliationID: integer (nullable = true)\n",
      " |-- SpecialAttentionID: integer (nullable = true)\n",
      " |-- BroadcastOriginPointID: integer (nullable = true)\n",
      " |-- CompositionID: integer (nullable = true)\n",
      " |-- Producer1: string (nullable = true)\n",
      " |-- Producer2: string (nullable = true)\n",
      " |-- Language1: integer (nullable = true)\n",
      " |-- Language2: integer (nullable = true)\n",
      "\n"
     ]
    }
   ],
   "source": [
    "logs.printSchema()"
   ]
  },
  {
   "cell_type": "markdown",
   "id": "19a8ff56",
   "metadata": {},
   "source": [
    "## Selecting Columns"
   ]
  },
  {
   "cell_type": "markdown",
   "id": "a5721124",
   "metadata": {},
   "source": [
    "The `select` method can take one or more column objects and return a DataFrame containing only the listed columns. Let's take only three columns without truncating:"
   ]
  },
  {
   "cell_type": "code",
   "execution_count": 4,
   "id": "b14be597",
   "metadata": {},
   "outputs": [
    {
     "name": "stdout",
     "output_type": "stream",
     "text": [
      "+--------------+------------+-------------------+\n",
      "|BroadcastLogID|LogServiceID|LogDate            |\n",
      "+--------------+------------+-------------------+\n",
      "|1196192316    |3157        |2018-08-01 00:00:00|\n",
      "|1196192317    |3157        |2018-08-01 00:00:00|\n",
      "|1196192318    |3157        |2018-08-01 00:00:00|\n",
      "|1196192319    |3157        |2018-08-01 00:00:00|\n",
      "|1196192320    |3157        |2018-08-01 00:00:00|\n",
      "+--------------+------------+-------------------+\n",
      "only showing top 5 rows\n",
      "\n"
     ]
    }
   ],
   "source": [
    "logs.select(\"BroadcastLogID\", \"LogServiceID\", \"LogDate\").show(5, False)"
   ]
  },
  {
   "cell_type": "markdown",
   "id": "c6acb683",
   "metadata": {},
   "source": [
    "You can use four different ways to get columns with the `select` as the following methods:"
   ]
  },
  {
   "cell_type": "code",
   "execution_count": 5,
   "id": "9d002bc0",
   "metadata": {},
   "outputs": [
    {
     "name": "stdout",
     "output_type": "stream",
     "text": [
      "+--------------+------------+-------------------+\n",
      "|BroadCastLogID|LogServiceID|            LogDate|\n",
      "+--------------+------------+-------------------+\n",
      "|    1196192316|        3157|2018-08-01 00:00:00|\n",
      "|    1196192317|        3157|2018-08-01 00:00:00|\n",
      "|    1196192318|        3157|2018-08-01 00:00:00|\n",
      "+--------------+------------+-------------------+\n",
      "only showing top 3 rows\n",
      "\n"
     ]
    }
   ],
   "source": [
    "# 1. Using the string to column conversion\n",
    "logs.select(\"BroadCastLogID\", \"LogServiceID\", \"LogDate\").show(3)"
   ]
  },
  {
   "cell_type": "code",
   "execution_count": 6,
   "id": "66bb54d1",
   "metadata": {},
   "outputs": [
    {
     "name": "stdout",
     "output_type": "stream",
     "text": [
      "+--------------+------------+-------------------+\n",
      "|BroadCastLogID|LogServiceID|            LogDate|\n",
      "+--------------+------------+-------------------+\n",
      "|    1196192316|        3157|2018-08-01 00:00:00|\n",
      "|    1196192317|        3157|2018-08-01 00:00:00|\n",
      "|    1196192318|        3157|2018-08-01 00:00:00|\n",
      "+--------------+------------+-------------------+\n",
      "only showing top 3 rows\n",
      "\n"
     ]
    }
   ],
   "source": [
    "# 2. Using the string with the * sign\n",
    "logs.select(*[\"BroadCastLogID\", \"LogServiceID\", \"LogDate\"]).show(3)"
   ]
  },
  {
   "cell_type": "code",
   "execution_count": 7,
   "id": "1b42c5c5",
   "metadata": {},
   "outputs": [
    {
     "name": "stdout",
     "output_type": "stream",
     "text": [
      "+--------------+------------+-------------------+\n",
      "|BroadCastLogID|LogServiceID|            LogDate|\n",
      "+--------------+------------+-------------------+\n",
      "|    1196192316|        3157|2018-08-01 00:00:00|\n",
      "|    1196192317|        3157|2018-08-01 00:00:00|\n",
      "|    1196192318|        3157|2018-08-01 00:00:00|\n",
      "+--------------+------------+-------------------+\n",
      "only showing top 3 rows\n",
      "\n"
     ]
    }
   ],
   "source": [
    "# 3. Passing the column object explicitly\n",
    "logs.select(F.col(\"BroadCastLogID\"), F.col(\"LogServiceID\"), F.col(\"LogDate\")).show(3)         "
   ]
  },
  {
   "cell_type": "code",
   "execution_count": 8,
   "id": "5737c8cc",
   "metadata": {},
   "outputs": [
    {
     "name": "stdout",
     "output_type": "stream",
     "text": [
      "+--------------+------------+-------------------+\n",
      "|BroadCastLogID|LogServiceID|            LogDate|\n",
      "+--------------+------------+-------------------+\n",
      "|    1196192316|        3157|2018-08-01 00:00:00|\n",
      "|    1196192317|        3157|2018-08-01 00:00:00|\n",
      "|    1196192318|        3157|2018-08-01 00:00:00|\n",
      "+--------------+------------+-------------------+\n",
      "only showing top 3 rows\n",
      "\n"
     ]
    }
   ],
   "source": [
    "# 4. Passing the column object with the * sign\n",
    "logs.select(*[F.col(\"BroadCastLogID\"), F.col(\"LogServiceID\"), F.col(\"LogDate\")]).show(3)"
   ]
  },
  {
   "cell_type": "markdown",
   "id": "4268e22d",
   "metadata": {},
   "source": [
    "You can also take the columns with chunks using `numpy`. "
   ]
  },
  {
   "cell_type": "code",
   "execution_count": 9,
   "id": "03fbacba",
   "metadata": {},
   "outputs": [
    {
     "name": "stdout",
     "output_type": "stream",
     "text": [
      "[array(['BroadcastLogID', 'LogServiceID', 'LogDate'], dtype='<U22'), array(['SequenceNO', 'AudienceTargetAgeID', 'AudienceTargetEthnicID'],\n",
      "      dtype='<U22'), array(['CategoryID', 'ClosedCaptionID', 'CountryOfOriginID'], dtype='<U22'), array(['DubDramaCreditID', 'EthnicProgramID', 'ProductionSourceID'],\n",
      "      dtype='<U22'), array(['ProgramClassID', 'FilmClassificationID', 'ExhibitionID'],\n",
      "      dtype='<U22'), array(['Duration', 'EndTime', 'LogEntryDate'], dtype='<U22'), array(['ProductionNO', 'ProgramTitle', 'StartTime'], dtype='<U22'), array(['Subtitle', 'NetworkAffiliationID', 'SpecialAttentionID'],\n",
      "      dtype='<U22'), array(['BroadcastOriginPointID', 'CompositionID', 'Producer1'],\n",
      "      dtype='<U22'), array(['Producer2', 'Language1', 'Language2'], dtype='<U22')]\n"
     ]
    }
   ],
   "source": [
    "import numpy as np\n",
    "column_split = np.array_split(np.array(logs.columns), len(logs.columns) // 3) \n",
    "print(column_split)"
   ]
  },
  {
   "cell_type": "markdown",
   "id": "18ccf821",
   "metadata": {},
   "source": [
    "Let's take a look at the first four chunks."
   ]
  },
  {
   "cell_type": "code",
   "execution_count": 10,
   "id": "b16b55f8",
   "metadata": {},
   "outputs": [
    {
     "name": "stdout",
     "output_type": "stream",
     "text": [
      "+--------------+------------+-------------------+\n",
      "|BroadcastLogID|LogServiceID|LogDate            |\n",
      "+--------------+------------+-------------------+\n",
      "|1196192316    |3157        |2018-08-01 00:00:00|\n",
      "|1196192317    |3157        |2018-08-01 00:00:00|\n",
      "|1196192318    |3157        |2018-08-01 00:00:00|\n",
      "+--------------+------------+-------------------+\n",
      "only showing top 3 rows\n",
      "\n",
      "+----------+-------------------+----------------------+\n",
      "|SequenceNO|AudienceTargetAgeID|AudienceTargetEthnicID|\n",
      "+----------+-------------------+----------------------+\n",
      "|1         |4                  |null                  |\n",
      "|2         |null               |null                  |\n",
      "|3         |null               |null                  |\n",
      "+----------+-------------------+----------------------+\n",
      "only showing top 3 rows\n",
      "\n",
      "+----------+---------------+-----------------+\n",
      "|CategoryID|ClosedCaptionID|CountryOfOriginID|\n",
      "+----------+---------------+-----------------+\n",
      "|13        |3              |3                |\n",
      "|null      |1              |null             |\n",
      "|null      |1              |null             |\n",
      "+----------+---------------+-----------------+\n",
      "only showing top 3 rows\n",
      "\n",
      "+----------------+---------------+------------------+\n",
      "|DubDramaCreditID|EthnicProgramID|ProductionSourceID|\n",
      "+----------------+---------------+------------------+\n",
      "|null            |null           |10                |\n",
      "|null            |null           |null              |\n",
      "|null            |null           |null              |\n",
      "+----------------+---------------+------------------+\n",
      "only showing top 3 rows\n",
      "\n"
     ]
    }
   ],
   "source": [
    "for x in column_split[:4]:\n",
    "    logs.select(*x).show(3, False)"
   ]
  },
  {
   "cell_type": "markdown",
   "id": "a15c690a",
   "metadata": {},
   "source": [
    "## Deleting Columns"
   ]
  },
  {
   "cell_type": "markdown",
   "id": "21c7ec3c",
   "metadata": {},
   "source": [
    "You can delete the columns you want with the `drop`method. Let's delete the BroadcastLogID, SequenceNO columns:"
   ]
  },
  {
   "cell_type": "code",
   "execution_count": 11,
   "id": "3ff84bb9",
   "metadata": {},
   "outputs": [],
   "source": [
    "logs = logs.drop(\"BroadcastLogID\", \"SequenceNO\")"
   ]
  },
  {
   "cell_type": "markdown",
   "id": "25476f63",
   "metadata": {},
   "source": [
    "Let's check them out."
   ]
  },
  {
   "cell_type": "code",
   "execution_count": 12,
   "id": "8f9af03e",
   "metadata": {},
   "outputs": [
    {
     "name": "stdout",
     "output_type": "stream",
     "text": [
      "False\n",
      "False\n"
     ]
    }
   ],
   "source": [
    "print(\"BroadcastLogID\" in logs.columns)\n",
    "print(\"SequenceNo\" in logs.columns)"
   ]
  },
  {
   "cell_type": "markdown",
   "id": "51377d0f",
   "metadata": {},
   "source": [
    "You can take the columns you want to select using a `for` loop."
   ]
  },
  {
   "cell_type": "code",
   "execution_count": 13,
   "id": "47f415b3",
   "metadata": {},
   "outputs": [],
   "source": [
    "logs = logs.select(*[x for x in logs.columns if x not in [\"BroadcastLogID\", \"SequenceNO\"]])"
   ]
  },
  {
   "cell_type": "code",
   "execution_count": 14,
   "id": "37340044",
   "metadata": {},
   "outputs": [
    {
     "data": {
      "text/plain": [
       "28"
      ]
     },
     "execution_count": 14,
     "metadata": {},
     "output_type": "execute_result"
    }
   ],
   "source": [
    "len(logs.columns)"
   ]
  },
  {
   "cell_type": "markdown",
   "id": "6bdb9a20",
   "metadata": {},
   "source": [
    "## Creating New Columns"
   ]
  },
  {
   "cell_type": "markdown",
   "id": "058f864f",
   "metadata": {},
   "source": [
    "There are two ways to create new columns: using the `select` and `withColumn` methods. To show these, let's handle the duration column."
   ]
  },
  {
   "cell_type": "code",
   "execution_count": 15,
   "id": "8990e63a",
   "metadata": {},
   "outputs": [
    {
     "name": "stdout",
     "output_type": "stream",
     "text": [
      "+----------------+\n",
      "|        Duration|\n",
      "+----------------+\n",
      "|02:00:00.0000000|\n",
      "|00:00:30.0000000|\n",
      "|00:00:15.0000000|\n",
      "|00:00:15.0000000|\n",
      "|00:00:15.0000000|\n",
      "+----------------+\n",
      "only showing top 5 rows\n",
      "\n"
     ]
    }
   ],
   "source": [
    "logs.select(F.col(\"Duration\")).show(5)"
   ]
  },
  {
   "cell_type": "markdown",
   "id": "66cad618",
   "metadata": {},
   "source": [
    "Let's take a look at its type."
   ]
  },
  {
   "cell_type": "code",
   "execution_count": 16,
   "id": "559da222",
   "metadata": {},
   "outputs": [
    {
     "data": {
      "text/plain": [
       "[('Duration', 'string')]"
      ]
     },
     "execution_count": 16,
     "metadata": {},
     "output_type": "execute_result"
    }
   ],
   "source": [
    "logs.select(F.col(\"Duration\")).dtypes"
   ]
  },
  {
   "cell_type": "markdown",
   "id": "6bbeab92",
   "metadata": {},
   "source": [
    "With the `substr` method, let's extract a substring from this column. The `substr` method takes two parameters. You can pass the position of where the sub-string starts in first parameter and the length of the sub-string in second parameter."
   ]
  },
  {
   "cell_type": "code",
   "execution_count": 17,
   "id": "d4899f26",
   "metadata": {},
   "outputs": [
    {
     "name": "stdout",
     "output_type": "stream",
     "text": [
      "+----------------+---------+-----------+-----------+\n",
      "|        Duration|dur_hours|dur_minutes|dur_seconds|\n",
      "+----------------+---------+-----------+-----------+\n",
      "|00:04:52.0000000|        0|          4|         52|\n",
      "|00:10:06.0000000|        0|         10|          6|\n",
      "|00:26:41.0000000|        0|         26|         41|\n",
      "+----------------+---------+-----------+-----------+\n",
      "only showing top 3 rows\n",
      "\n"
     ]
    }
   ],
   "source": [
    "logs.select(\n",
    "    F.col(\"Duration\"), \n",
    "    # Let's use the cast method to convert to Integer.\n",
    "    F.col(\"Duration\").substr(1, 2).cast(\"int\").alias(\"dur_hours\"), \n",
    "    F.col(\"Duration\").substr(4, 2).cast(\"int\").alias(\"dur_minutes\"), \n",
    "    F.col(\"Duration\").substr(7, 2).cast(\"int\").alias(\"dur_seconds\"), \n",
    "    # Let's use the distinct method to avoid seeing identical rows.\n",
    ").distinct().show(3)"
   ]
  },
  {
   "cell_type": "markdown",
   "id": "1878784d",
   "metadata": {},
   "source": [
    "Let’s set all these values into a single second field. To do this, let me convert hour and minute into second."
   ]
  },
  {
   "cell_type": "code",
   "execution_count": 18,
   "id": "22d0af64",
   "metadata": {},
   "outputs": [
    {
     "name": "stdout",
     "output_type": "stream",
     "text": [
      "+----------------+----------------+\n",
      "|        Duration|Duration_seconds|\n",
      "+----------------+----------------+\n",
      "|01:59:30.0000000|            7170|\n",
      "|00:31:00.0000000|            1860|\n",
      "|00:28:08.0000000|            1688|\n",
      "|00:10:30.0000000|             630|\n",
      "|06:00:00.0000000|           21600|\n",
      "+----------------+----------------+\n",
      "only showing top 5 rows\n",
      "\n"
     ]
    }
   ],
   "source": [
    "logs.select(\n",
    "    F.col(\"Duration\"),\n",
    "    (F.col(\"Duration\").substr(1, 2).cast(\"int\") * 60 * 60 \n",
    "     + F.col(\"Duration\").substr(4, 2).cast(\"int\") * 60\n",
    "     + F.col(\"Duration\").substr(7, 2).cast(\"int\")) \\\n",
    "    .alias(\"Duration_seconds\"),) \\\n",
    "    .distinct().show(5)"
   ]
  },
  {
   "cell_type": "markdown",
   "id": "e971f9b8",
   "metadata": {},
   "source": [
    "You can also add a column at the end of a DataFrame with the `withColumn` method. Let me show you."
   ]
  },
  {
   "cell_type": "code",
   "execution_count": 19,
   "id": "a9a947ad",
   "metadata": {},
   "outputs": [
    {
     "name": "stdout",
     "output_type": "stream",
     "text": [
      "root\n",
      " |-- LogServiceID: integer (nullable = true)\n",
      " |-- LogDate: timestamp (nullable = true)\n",
      " |-- AudienceTargetAgeID: integer (nullable = true)\n",
      " |-- AudienceTargetEthnicID: integer (nullable = true)\n",
      " |-- CategoryID: integer (nullable = true)\n",
      " |-- ClosedCaptionID: integer (nullable = true)\n",
      " |-- CountryOfOriginID: integer (nullable = true)\n",
      " |-- DubDramaCreditID: integer (nullable = true)\n",
      " |-- EthnicProgramID: integer (nullable = true)\n",
      " |-- ProductionSourceID: integer (nullable = true)\n",
      " |-- ProgramClassID: integer (nullable = true)\n",
      " |-- FilmClassificationID: integer (nullable = true)\n",
      " |-- ExhibitionID: integer (nullable = true)\n",
      " |-- Duration: string (nullable = true)\n",
      " |-- EndTime: string (nullable = true)\n",
      " |-- LogEntryDate: timestamp (nullable = true)\n",
      " |-- ProductionNO: string (nullable = true)\n",
      " |-- ProgramTitle: string (nullable = true)\n",
      " |-- StartTime: string (nullable = true)\n",
      " |-- Subtitle: string (nullable = true)\n",
      " |-- NetworkAffiliationID: integer (nullable = true)\n",
      " |-- SpecialAttentionID: integer (nullable = true)\n",
      " |-- BroadcastOriginPointID: integer (nullable = true)\n",
      " |-- CompositionID: integer (nullable = true)\n",
      " |-- Producer1: string (nullable = true)\n",
      " |-- Producer2: string (nullable = true)\n",
      " |-- Language1: integer (nullable = true)\n",
      " |-- Language2: integer (nullable = true)\n",
      " |-- Duration_seconds: integer (nullable = true)\n",
      "\n"
     ]
    }
   ],
   "source": [
    "logs = logs.withColumn(\"Duration_seconds\",\n",
    "                       (F.col(\"Duration\").substr(1, 2).cast(\"int\") * 60 * 60\n",
    "                        + F.col(\"Duration\").substr(4, 2).cast(\"int\") * 60\n",
    "                        + F.col(\"Duration\").substr(7, 2).cast(\"int\")),)\n",
    "logs.printSchema()"
   ]
  },
  {
   "cell_type": "markdown",
   "id": "87c3f2cd",
   "metadata": {},
   "source": [
    "## Renaming Columns"
   ]
  },
  {
   "cell_type": "markdown",
   "id": "d29ea88d",
   "metadata": {},
   "source": [
    "As mentioned, you can rename the columns with the `select` and `alias` methods. To do this, you can use the `withColumnRenamed` method. Let's use this method to convert the name of a column into lower case."
   ]
  },
  {
   "cell_type": "code",
   "execution_count": 20,
   "id": "484e3ac9",
   "metadata": {},
   "outputs": [],
   "source": [
    "logs = logs.withColumnRenamed(\"Duration_seconds\", \"duration_seconds\")"
   ]
  },
  {
   "cell_type": "markdown",
   "id": "9344ff42",
   "metadata": {},
   "source": [
    "You can want to rename all the columns of your DataFrame with the `toDF` method. Let me show you."
   ]
  },
  {
   "cell_type": "code",
   "execution_count": 21,
   "id": "8b026c5d",
   "metadata": {},
   "outputs": [
    {
     "name": "stdout",
     "output_type": "stream",
     "text": [
      "root\n",
      " |-- logserviceid: integer (nullable = true)\n",
      " |-- logdate: timestamp (nullable = true)\n",
      " |-- audiencetargetageid: integer (nullable = true)\n",
      " |-- audiencetargetethnicid: integer (nullable = true)\n",
      " |-- categoryid: integer (nullable = true)\n",
      " |-- closedcaptionid: integer (nullable = true)\n",
      " |-- countryoforiginid: integer (nullable = true)\n",
      " |-- dubdramacreditid: integer (nullable = true)\n",
      " |-- ethnicprogramid: integer (nullable = true)\n",
      " |-- productionsourceid: integer (nullable = true)\n",
      " |-- programclassid: integer (nullable = true)\n",
      " |-- filmclassificationid: integer (nullable = true)\n",
      " |-- exhibitionid: integer (nullable = true)\n",
      " |-- duration: string (nullable = true)\n",
      " |-- endtime: string (nullable = true)\n",
      " |-- logentrydate: timestamp (nullable = true)\n",
      " |-- productionno: string (nullable = true)\n",
      " |-- programtitle: string (nullable = true)\n",
      " |-- starttime: string (nullable = true)\n",
      " |-- subtitle: string (nullable = true)\n",
      " |-- networkaffiliationid: integer (nullable = true)\n",
      " |-- specialattentionid: integer (nullable = true)\n",
      " |-- broadcastoriginpointid: integer (nullable = true)\n",
      " |-- compositionid: integer (nullable = true)\n",
      " |-- producer1: string (nullable = true)\n",
      " |-- producer2: string (nullable = true)\n",
      " |-- language1: integer (nullable = true)\n",
      " |-- language2: integer (nullable = true)\n",
      " |-- duration_seconds: integer (nullable = true)\n",
      "\n"
     ]
    }
   ],
   "source": [
    "logs.toDF(*[x.lower() for x in logs.columns]).printSchema()"
   ]
  },
  {
   "cell_type": "markdown",
   "id": "632075af",
   "metadata": {},
   "source": [
    "##  Reordering Columns"
   ]
  },
  {
   "cell_type": "markdown",
   "id": "148822b9",
   "metadata": {},
   "source": [
    "To sort the columns alphabetically, you can use the `sort` method."
   ]
  },
  {
   "cell_type": "code",
   "execution_count": 22,
   "id": "5f35b5eb",
   "metadata": {},
   "outputs": [
    {
     "name": "stdout",
     "output_type": "stream",
     "text": [
      "root\n",
      " |-- AudienceTargetAgeID: integer (nullable = true)\n",
      " |-- AudienceTargetEthnicID: integer (nullable = true)\n",
      " |-- BroadcastOriginPointID: integer (nullable = true)\n",
      " |-- CategoryID: integer (nullable = true)\n",
      " |-- ClosedCaptionID: integer (nullable = true)\n",
      " |-- CompositionID: integer (nullable = true)\n",
      " |-- CountryOfOriginID: integer (nullable = true)\n",
      " |-- DubDramaCreditID: integer (nullable = true)\n",
      " |-- Duration: string (nullable = true)\n",
      " |-- EndTime: string (nullable = true)\n",
      " |-- EthnicProgramID: integer (nullable = true)\n",
      " |-- ExhibitionID: integer (nullable = true)\n",
      " |-- FilmClassificationID: integer (nullable = true)\n",
      " |-- Language1: integer (nullable = true)\n",
      " |-- Language2: integer (nullable = true)\n",
      " |-- LogDate: timestamp (nullable = true)\n",
      " |-- LogEntryDate: timestamp (nullable = true)\n",
      " |-- LogServiceID: integer (nullable = true)\n",
      " |-- NetworkAffiliationID: integer (nullable = true)\n",
      " |-- Producer1: string (nullable = true)\n",
      " |-- Producer2: string (nullable = true)\n",
      " |-- ProductionNO: string (nullable = true)\n",
      " |-- ProductionSourceID: integer (nullable = true)\n",
      " |-- ProgramClassID: integer (nullable = true)\n",
      " |-- ProgramTitle: string (nullable = true)\n",
      " |-- SpecialAttentionID: integer (nullable = true)\n",
      " |-- StartTime: string (nullable = true)\n",
      " |-- Subtitle: string (nullable = true)\n",
      " |-- duration_seconds: integer (nullable = true)\n",
      "\n"
     ]
    }
   ],
   "source": [
    "logs.select(sorted(logs.columns)).printSchema()"
   ]
  },
  {
   "cell_type": "markdown",
   "id": "3dc03d8c",
   "metadata": {},
   "source": [
    "## Diagnosing a DataFrame with the Describe & Summary Methods "
   ]
  },
  {
   "cell_type": "markdown",
   "id": "aa076307",
   "metadata": {},
   "source": [
    "To take a look at summary statistics (count, mean, standard deviation, min, and max) on all numerical and string columns, you can use the `describe` method. Let's look at the summary of first three columns with a for loop."
   ]
  },
  {
   "cell_type": "code",
   "execution_count": 23,
   "id": "975cfd00",
   "metadata": {},
   "outputs": [
    {
     "name": "stdout",
     "output_type": "stream",
     "text": [
      "+-------+------------------+\n",
      "|summary|      LogServiceID|\n",
      "+-------+------------------+\n",
      "|  count|            238945|\n",
      "|   mean| 3450.890284375065|\n",
      "| stddev|199.50673962554765|\n",
      "|    min|              3157|\n",
      "|    max|              3925|\n",
      "+-------+------------------+\n",
      "\n",
      "+-------+\n",
      "|summary|\n",
      "+-------+\n",
      "|  count|\n",
      "|   mean|\n",
      "| stddev|\n",
      "|    min|\n",
      "|    max|\n",
      "+-------+\n",
      "\n",
      "+-------+-------------------+\n",
      "|summary|AudienceTargetAgeID|\n",
      "+-------+-------------------+\n",
      "|  count|              16112|\n",
      "|   mean| 3.4929245283018866|\n",
      "| stddev| 1.0415963394745125|\n",
      "|    min|                  1|\n",
      "|    max|                  4|\n",
      "+-------+-------------------+\n",
      "\n"
     ]
    }
   ],
   "source": [
    "for i in logs.columns[:3]:\n",
    "    logs.describe(i).show()"
   ]
  },
  {
   "cell_type": "markdown",
   "id": "de9b932c",
   "metadata": {},
   "source": [
    "The `describe` has a fixed set of metrics, while the `summary` will take functions as parameters and apply them to all columns. You can also customize the statistics you want to see with the `summary` method. By default, the `summary` method shows all statistics like the `describe` method, adding the approximate 25-50% and 75% percentiles. However, you can specify statistisc you want to see. Let me show you. "
   ]
  },
  {
   "cell_type": "code",
   "execution_count": 24,
   "id": "ff69461f",
   "metadata": {},
   "outputs": [
    {
     "name": "stdout",
     "output_type": "stream",
     "text": [
      "+-------+------------------+\n",
      "|summary|      LogServiceID|\n",
      "+-------+------------------+\n",
      "|  count|            238945|\n",
      "|   mean| 3450.890284375065|\n",
      "| stddev|199.50673962554765|\n",
      "|    min|              3157|\n",
      "|    25%|              3287|\n",
      "|    50%|              3379|\n",
      "|    75%|              3627|\n",
      "|    max|              3925|\n",
      "+-------+------------------+\n",
      "\n",
      "+-------+\n",
      "|summary|\n",
      "+-------+\n",
      "|  count|\n",
      "|   mean|\n",
      "| stddev|\n",
      "|    min|\n",
      "|    25%|\n",
      "|    50%|\n",
      "|    75%|\n",
      "|    max|\n",
      "+-------+\n",
      "\n",
      "+-------+-------------------+\n",
      "|summary|AudienceTargetAgeID|\n",
      "+-------+-------------------+\n",
      "|  count|              16112|\n",
      "|   mean| 3.4929245283018866|\n",
      "| stddev| 1.0415963394745125|\n",
      "|    min|                  1|\n",
      "|    25%|                  4|\n",
      "|    50%|                  4|\n",
      "|    75%|                  4|\n",
      "|    max|                  4|\n",
      "+-------+-------------------+\n",
      "\n"
     ]
    }
   ],
   "source": [
    "for i in logs.columns[:3]:\n",
    "    logs.select(i).summary().show() "
   ]
  },
  {
   "cell_type": "markdown",
   "id": "a018819d",
   "metadata": {},
   "source": [
    "Let's limit statistics our want."
   ]
  },
  {
   "cell_type": "code",
   "execution_count": 25,
   "id": "b15b9837",
   "metadata": {},
   "outputs": [
    {
     "name": "stdout",
     "output_type": "stream",
     "text": [
      "+-------+------------+\n",
      "|summary|LogServiceID|\n",
      "+-------+------------+\n",
      "|    min|        3157|\n",
      "|    20%|        3269|\n",
      "|    80%|        3657|\n",
      "|    max|        3925|\n",
      "+-------+------------+\n",
      "\n",
      "+-------+\n",
      "|summary|\n",
      "+-------+\n",
      "|    min|\n",
      "|    20%|\n",
      "|    80%|\n",
      "|    max|\n",
      "+-------+\n",
      "\n",
      "+-------+-------------------+\n",
      "|summary|AudienceTargetAgeID|\n",
      "+-------+-------------------+\n",
      "|    min|                  1|\n",
      "|    20%|                  3|\n",
      "|    80%|                  4|\n",
      "|    max|                  4|\n",
      "+-------+-------------------+\n",
      "\n"
     ]
    }
   ],
   "source": [
    "for i in logs.columns[:3]: \n",
    "    logs.select(i).summary(\"min\", \"20%\", \"80%\", \"max\").show() "
   ]
  },
  {
   "cell_type": "markdown",
   "id": "7652e45e",
   "metadata": {},
   "source": [
    "Thanks for reading. I hope you enjoy it 😀\n",
    "\n",
    "Don't forget to follow us on [YouTube](http://youtube.com/tirendazacademy) | [Medium](http://tirendazacademy.medium.com) | [Twitter](http://twitter.com/tirendazacademy) | [GitHub](http://github.com/tirendazacademy) | [Linkedin](https://www.linkedin.com/in/tirendaz-academy) | [Kaggle](https://www.kaggle.com/tirendazacademy) 😎"
   ]
  }
 ],
 "metadata": {
  "kernelspec": {
   "display_name": "Python 3 (ipykernel)",
   "language": "python",
   "name": "python3"
  },
  "language_info": {
   "codemirror_mode": {
    "name": "ipython",
    "version": 3
   },
   "file_extension": ".py",
   "mimetype": "text/x-python",
   "name": "python",
   "nbconvert_exporter": "python",
   "pygments_lexer": "ipython3",
   "version": "3.10.0"
  }
 },
 "nbformat": 4,
 "nbformat_minor": 5
}
