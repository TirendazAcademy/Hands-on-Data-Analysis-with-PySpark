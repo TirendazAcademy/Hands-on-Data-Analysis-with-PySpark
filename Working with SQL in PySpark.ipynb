{
 "cells": [
  {
   "cell_type": "markdown",
   "id": "8cbd8ad9",
   "metadata": {},
   "source": [
    "#  Working with SQL in PySpark"
   ]
  },
  {
   "cell_type": "markdown",
   "id": "c8ace135",
   "metadata": {},
   "source": [
    "- Spark offers a SQL API that supports ANSI SQL for data manipulation.\n",
    "- The pyspark.sql module uses a lot of SQL vocabulary to perform data manipulation.\n",
    "- Before working with Spark SQL, PySpark’s data frames need to be registered as views or tables.\n",
    "- It's important to notice that PySpark’s own data frame manipulation methods and functions borrow SQL functionality.\n",
    "- You can use Spark SQL queries in a PySpark program through the spark.sql function.\n",
    "-  Spark SQL table references are kept in a Catalog, which contains the metadata for all tables accessible to Spark SQL.\n",
    "-  PySpark will accept SQL-style clauses in where(), expr(), and selectExpr()."
   ]
  },
  {
   "cell_type": "code",
   "execution_count": 1,
   "id": "9140746a",
   "metadata": {},
   "outputs": [],
   "source": [
    "from pyspark.sql import SparkSession\n",
    "from pyspark.sql.utils import AnalysisException \n",
    "import pyspark.sql.functions as F\n",
    "import pyspark.sql.types as T\n",
    "spark = SparkSession.builder.getOrCreate()"
   ]
  },
  {
   "cell_type": "markdown",
   "id": "6d85c79b",
   "metadata": {},
   "source": [
    "## PySpark vs SQL"
   ]
  },
  {
   "cell_type": "markdown",
   "id": "f12d8295",
   "metadata": {},
   "source": [
    "PySpark and SQL use the same keywords, but the order of operations differs. Let me show this."
   ]
  },
  {
   "cell_type": "code",
   "execution_count": 2,
   "id": "29ef4f24",
   "metadata": {},
   "outputs": [],
   "source": [
    "# Reading the data wiht PySpark\n",
    "elements = spark.read.csv(\n",
    "    \"./data/Periodic_Table_Of_Elements.csv\",\n",
    "    header=True,\n",
    "    inferSchema=True,\n",
    ")"
   ]
  },
  {
   "cell_type": "code",
   "execution_count": 3,
   "id": "37fe697a",
   "metadata": {},
   "outputs": [
    {
     "name": "stdout",
     "output_type": "stream",
     "text": [
      "+------+-----+\n",
      "|period|count|\n",
      "+------+-----+\n",
      "|     6|    1|\n",
      "|     4|    1|\n",
      "+------+-----+\n",
      "\n"
     ]
    }
   ],
   "source": [
    "# Data transformation with PySpark\n",
    "elements.where(F.col(\"phase\") == \"liq\").groupby(\"period\").count().show()"
   ]
  },
  {
   "cell_type": "code",
   "execution_count": 4,
   "id": "23463c15",
   "metadata": {},
   "outputs": [
    {
     "data": {
      "text/plain": [
       "\"\\nSELECT\\n    period,\\n    count(*)\\nFROM elements\\nWHERE phase = 'liq'\\nGROUP BY period;\\n\""
      ]
     },
     "execution_count": 4,
     "metadata": {},
     "output_type": "execute_result"
    }
   ],
   "source": [
    "# Data transformation with SQL\n",
    "\"\"\"\n",
    "SELECT\n",
    "    period,\n",
    "    count(*)\n",
    "FROM elements\n",
    "WHERE phase = 'liq'\n",
    "GROUP BY period;\n",
    "\"\"\""
   ]
  },
  {
   "cell_type": "markdown",
   "id": "1f23d20e",
   "metadata": {},
   "source": [
    "## Creating a Spark data frame using SQL."
   ]
  },
  {
   "cell_type": "markdown",
   "id": "ce59baf4",
   "metadata": {},
   "source": [
    "To create a table/view to query with Spark SQL, use the createOrReplaceTempView method. This method takes a single string parameter, which is the name of the table you want to use."
   ]
  },
  {
   "cell_type": "code",
   "execution_count": 5,
   "id": "a34e1096",
   "metadata": {},
   "outputs": [
    {
     "name": "stdout",
     "output_type": "stream",
     "text": [
      "+------+--------+\n",
      "|period|count(1)|\n",
      "+------+--------+\n",
      "|     6|       1|\n",
      "|     4|       1|\n",
      "+------+--------+\n",
      "\n"
     ]
    }
   ],
   "source": [
    "elements.createOrReplaceTempView(\"elements\") \n",
    "spark.sql(\n",
    " \"select period, count(*) from elements where phase='liq' group by period\"\n",
    ").show(5)"
   ]
  },
  {
   "cell_type": "markdown",
   "id": "37451c9c",
   "metadata": {},
   "source": [
    "### Using the Spark catalog"
   ]
  },
  {
   "cell_type": "markdown",
   "id": "a3c3a955",
   "metadata": {},
   "source": [
    "The Spark catalog is an object that allows working with Spark SQL tables and views. A lot of its methods have to do with managing the metadata of those tables, such as their names and the level of caching "
   ]
  },
  {
   "cell_type": "code",
   "execution_count": 6,
   "id": "f8165bc3",
   "metadata": {},
   "outputs": [
    {
     "data": {
      "text/plain": [
       "<pyspark.sql.catalog.Catalog at 0x1bb68ed50c0>"
      ]
     },
     "execution_count": 6,
     "metadata": {},
     "output_type": "execute_result"
    }
   ],
   "source": [
    "# Reaching through the catalog property of our SparkSession.\n",
    "spark.catalog "
   ]
  },
  {
   "cell_type": "code",
   "execution_count": 7,
   "id": "0bc51981",
   "metadata": {},
   "outputs": [
    {
     "data": {
      "text/plain": [
       "[Table(name='elements', database=None, description=None, tableType='TEMPORARY', isTemporary=True)]"
      ]
     },
     "execution_count": 7,
     "metadata": {},
     "output_type": "execute_result"
    }
   ],
   "source": [
    "# Getting a list of table object\n",
    "spark.catalog.listTables() "
   ]
  },
  {
   "cell_type": "code",
   "execution_count": 8,
   "id": "790732b4",
   "metadata": {},
   "outputs": [],
   "source": [
    "# Deleting a view\n",
    "spark.catalog.dropTempView(\"elements\") "
   ]
  },
  {
   "cell_type": "code",
   "execution_count": 9,
   "id": "f70c193d",
   "metadata": {},
   "outputs": [
    {
     "data": {
      "text/plain": [
       "[]"
      ]
     },
     "execution_count": 9,
     "metadata": {},
     "output_type": "execute_result"
    }
   ],
   "source": [
    "# Looking at liste\n",
    "spark.catalog.listTables() "
   ]
  }
 ],
 "metadata": {
  "kernelspec": {
   "display_name": "Python 3 (ipykernel)",
   "language": "python",
   "name": "python3"
  },
  "language_info": {
   "codemirror_mode": {
    "name": "ipython",
    "version": 3
   },
   "file_extension": ".py",
   "mimetype": "text/x-python",
   "name": "python",
   "nbconvert_exporter": "python",
   "pygments_lexer": "ipython3",
   "version": "3.10.0"
  }
 },
 "nbformat": 4,
 "nbformat_minor": 5
}
