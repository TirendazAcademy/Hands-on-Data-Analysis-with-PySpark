{
 "cells": [
  {
   "cell_type": "markdown",
   "id": "b4be0fc9",
   "metadata": {},
   "source": [
    "# Data Analysis with PySpark"
   ]
  },
  {
   "cell_type": "markdown",
   "id": "7bd94369",
   "metadata": {},
   "source": [
    "## What is PySpark?"
   ]
  },
  {
   "cell_type": "markdown",
   "id": "40851406",
   "metadata": {},
   "source": [
    "As you know, Python is a dynamic, general-purpose language. PySpark provides an entry point to Python in the computational model of Spark. PySpark is open source and it is fast, expressive, and versatile. \n",
    "\n",
    "Spark is coded in Scala. However, you can use it with R and Java programming languages. \n",
    "\n",
    "All three major cloud (Amazon Web Services, Google Cloud Platform, and Microsoft Azure) allows you to work with PySpark. "
   ]
  },
  {
   "cell_type": "markdown",
   "id": "7a7e480b",
   "metadata": {},
   "source": [
    "## Hands-on Data Analysis with PySpark"
   ]
  },
  {
   "cell_type": "markdown",
   "id": "c00684b9",
   "metadata": {},
   "source": [
    "This section shows you how to perform a simple NLP analysis with PySpark. Before reading the dataset, you need to create a `SparkSession`. Let's import the SparkSession entry point is located in the `pyspark.sql`. This entry point allows the functionality for data transformation."
   ]
  },
  {
   "cell_type": "code",
   "execution_count": 1,
   "id": "34db6738",
   "metadata": {},
   "outputs": [],
   "source": [
    "from pyspark.sql import SparkSession "
   ]
  },
  {
   "cell_type": "markdown",
   "id": "590b59d0",
   "metadata": {},
   "source": [
    "Note that `SparkSession` is an object, so it has methods associated with it. Let's instantiate SparkSession in order to use PySpark:"
   ]
  },
  {
   "cell_type": "code",
   "execution_count": 2,
   "id": "33dff08c",
   "metadata": {},
   "outputs": [],
   "source": [
    "spark = (SparkSession\n",
    "         .builder\n",
    "         .appName(\"Analyzing the Vocabulary of the Sonnets.\")\n",
    "         .getOrCreate())"
   ]
  },
  {
   "cell_type": "markdown",
   "id": "cdb68b53",
   "metadata": {},
   "source": [
    "Here, a `builder` offers a set of methods to create a highly configurable object and the `getOrCreate` method provides both interactive and batch mode and it help you to avoid the creation of a new SparkSession if one already exists. "
   ]
  },
  {
   "cell_type": "markdown",
   "id": "9354c481",
   "metadata": {},
   "source": [
    "Spark entry point is `sparkContext`. `SparkSession` is a superset of that. In essence, SparkContext is the linl between your Python REPL and the Spark cluster. Let's take a look at the `sparkContext`."
   ]
  },
  {
   "cell_type": "code",
   "execution_count": 3,
   "id": "b50203aa",
   "metadata": {
    "scrolled": true
   },
   "outputs": [
    {
     "data": {
      "text/html": [
       "\n",
       "        <div>\n",
       "            <p><b>SparkContext</b></p>\n",
       "\n",
       "            <p><a href=\"http://DESKTOP-MAB68J5.mshome.net:4040\">Spark UI</a></p>\n",
       "\n",
       "            <dl>\n",
       "              <dt>Version</dt>\n",
       "                <dd><code>v3.0.3</code></dd>\n",
       "              <dt>Master</dt>\n",
       "                <dd><code>local[*]</code></dd>\n",
       "              <dt>AppName</dt>\n",
       "                <dd><code>Analyzing the Vocabulary of The Sonnets.</code></dd>\n",
       "            </dl>\n",
       "        </div>\n",
       "        "
      ],
      "text/plain": [
       "<SparkContext master=local[*] appName=Analyzing the Vocabulary of The Sonnets.>"
      ]
     },
     "execution_count": 3,
     "metadata": {},
     "output_type": "execute_result"
    }
   ],
   "source": [
    "spark.sparkContext"
   ]
  },
  {
   "cell_type": "markdown",
   "id": "a40ecb81",
   "metadata": {},
   "source": [
    "## RDD vs DataFrame"
   ]
  },
  {
   "cell_type": "markdown",
   "id": "f112a800",
   "metadata": {},
   "source": [
    "Before loading the dataset, I want to discuss the RDD (resilient distributed dataset) and data frame structures. PySpark allows you to use  two main structures for storing data when performing manipulations: The RDD and the DataFrame. You can think of the RNN as the most basic abstraction in Spark. It is an immutable distributed collection of objects (or rows). Each record in the RDD is an independent entity. \n",
    "\n",
    "In a nutshell, you can think of a Spark DataFrame as a Pandas DataFrame or a relational database table with rows and named columns. However, a Spark DataFrame uses the memory of several machines instead of a single machine. In this tutorial, I'm going to work with the DataFrames."
   ]
  },
  {
   "cell_type": "markdown",
   "id": "41e6154c",
   "metadata": {},
   "source": [
    "My goal in this data analysis is to find most popular words used in Shakespeare' the sonnets book with PySpark. As you know, data analysis consists of three major steps: reading, transforming, and exporting. Let's get started with data ingestion."
   ]
  },
  {
   "cell_type": "markdown",
   "id": "58d0a53c",
   "metadata": {},
   "source": [
    "## Data Ingestion"
   ]
  },
  {
   "cell_type": "markdown",
   "id": "2975e5de",
   "metadata": {},
   "source": [
    "The dataset I'm going to use is Shakespeare' the sonnets book from Kaggle. Kaggle is a fantastic source for interesting (and free) datasets for research and education. You can access this dataset here. Let's read the dataset with the `spark.read.test` method."
   ]
  },
  {
   "cell_type": "code",
   "execution_count": 3,
   "id": "fd4c06d2",
   "metadata": {},
   "outputs": [],
   "source": [
    "df = spark.read.text(\"shakespeare.txt\")"
   ]
  },
  {
   "cell_type": "markdown",
   "id": "cf5567fc",
   "metadata": {},
   "source": [
    "Let's take a look at the structure of this variable."
   ]
  },
  {
   "cell_type": "code",
   "execution_count": 4,
   "id": "a67f9b3c",
   "metadata": {},
   "outputs": [
    {
     "data": {
      "text/plain": [
       "DataFrame[value: string]"
      ]
     },
     "execution_count": 4,
     "metadata": {},
     "output_type": "execute_result"
    }
   ],
   "source": [
    "df"
   ]
  },
  {
   "cell_type": "markdown",
   "id": "9c9b3dd0",
   "metadata": {},
   "source": [
    "As expected, This is a `DataFrame`. Here, you can also see the name of the columns and their type. Please note that PySpark `DataFrames` consist of a collection of columns. You can use the `printSchema` method to quick overview of features datatype. Let's now use the `printSchema` to display the schema in a tree form."
   ]
  },
  {
   "cell_type": "code",
   "execution_count": 5,
   "id": "e652a406",
   "metadata": {},
   "outputs": [
    {
     "name": "stdout",
     "output_type": "stream",
     "text": [
      "root\n",
      " |-- value: string (nullable = true)\n",
      "\n"
     ]
    }
   ],
   "source": [
    "df.printSchema()"
   ]
  },
  {
   "cell_type": "markdown",
   "id": "11052db3",
   "metadata": {},
   "source": [
    "You can see the same information with the data frame’s `dtypes` attribute. Let me show you this."
   ]
  },
  {
   "cell_type": "code",
   "execution_count": 19,
   "id": "c745fcff",
   "metadata": {},
   "outputs": [
    {
     "data": {
      "text/plain": [
       "[('value', 'string')]"
      ]
     },
     "execution_count": 19,
     "metadata": {},
     "output_type": "execute_result"
    }
   ],
   "source": [
    "df.dtypes"
   ]
  },
  {
   "cell_type": "markdown",
   "id": "0980ba3f",
   "metadata": {},
   "source": [
    "You can also use the `toPandas()` method to return Pyspark DataFrame as Pandas table."
   ]
  },
  {
   "cell_type": "code",
   "execution_count": 6,
   "id": "a5413915",
   "metadata": {},
   "outputs": [
    {
     "data": {
      "text/html": [
       "<div>\n",
       "<style scoped>\n",
       "    .dataframe tbody tr th:only-of-type {\n",
       "        vertical-align: middle;\n",
       "    }\n",
       "\n",
       "    .dataframe tbody tr th {\n",
       "        vertical-align: top;\n",
       "    }\n",
       "\n",
       "    .dataframe thead th {\n",
       "        text-align: right;\n",
       "    }\n",
       "</style>\n",
       "<table border=\"1\" class=\"dataframe\">\n",
       "  <thead>\n",
       "    <tr style=\"text-align: right;\">\n",
       "      <th></th>\n",
       "      <th>value</th>\n",
       "    </tr>\n",
       "  </thead>\n",
       "  <tbody>\n",
       "    <tr>\n",
       "      <th>0</th>\n",
       "      <td>THE SONNETS</td>\n",
       "    </tr>\n",
       "    <tr>\n",
       "      <th>1</th>\n",
       "      <td></td>\n",
       "    </tr>\n",
       "    <tr>\n",
       "      <th>2</th>\n",
       "      <td>by William Shakespeare</td>\n",
       "    </tr>\n",
       "    <tr>\n",
       "      <th>3</th>\n",
       "      <td></td>\n",
       "    </tr>\n",
       "    <tr>\n",
       "      <th>4</th>\n",
       "      <td>From fairest creatures we desire increase,</td>\n",
       "    </tr>\n",
       "    <tr>\n",
       "      <th>5</th>\n",
       "      <td>That thereby beauty's rose might never die,</td>\n",
       "    </tr>\n",
       "    <tr>\n",
       "      <th>6</th>\n",
       "      <td>But as the riper should by time decease,</td>\n",
       "    </tr>\n",
       "    <tr>\n",
       "      <th>7</th>\n",
       "      <td>His tender heir might bear his memory:</td>\n",
       "    </tr>\n",
       "    <tr>\n",
       "      <th>8</th>\n",
       "      <td>But thou contracted to thine own bright eyes,</td>\n",
       "    </tr>\n",
       "    <tr>\n",
       "      <th>9</th>\n",
       "      <td>Feed'st thy light's flame with self-substantia...</td>\n",
       "    </tr>\n",
       "  </tbody>\n",
       "</table>\n",
       "</div>"
      ],
      "text/plain": [
       "                                               value\n",
       "0                                        THE SONNETS\n",
       "1                                                   \n",
       "2                             by William Shakespeare\n",
       "3                                                   \n",
       "4         From fairest creatures we desire increase,\n",
       "5        That thereby beauty's rose might never die,\n",
       "6           But as the riper should by time decease,\n",
       "7             His tender heir might bear his memory:\n",
       "8      But thou contracted to thine own bright eyes,\n",
       "9  Feed'st thy light's flame with self-substantia..."
      ]
     },
     "execution_count": 6,
     "metadata": {},
     "output_type": "execute_result"
    }
   ],
   "source": [
    "df.limit(10).toPandas()"
   ]
  },
  {
   "cell_type": "markdown",
   "id": "e57ce0af",
   "metadata": {},
   "source": [
    "## Exploring Data"
   ]
  },
  {
   "cell_type": "markdown",
   "id": "9e6a590e",
   "metadata": {},
   "source": [
    "It's important to explore data before analyzing data. If you can understand your dataset, you can easily find the patterns in the dataset. The `show` method displays a few rows of the data. Let's take a look at the rows of our data with the `show` method. It shows 20 rows and truncate long values by default."
   ]
  },
  {
   "cell_type": "code",
   "execution_count": 7,
   "id": "62ba2076",
   "metadata": {},
   "outputs": [
    {
     "name": "stdout",
     "output_type": "stream",
     "text": [
      "+--------------------+\n",
      "|               value|\n",
      "+--------------------+\n",
      "|         THE SONNETS|\n",
      "|                    |\n",
      "|by William Shakes...|\n",
      "|                    |\n",
      "|From fairest crea...|\n",
      "|That thereby beau...|\n",
      "|But as the riper ...|\n",
      "|His tender heir m...|\n",
      "|But thou contract...|\n",
      "|Feed'st thy light...|\n",
      "|Making a famine w...|\n",
      "|Thy self thy foe,...|\n",
      "|Thou that art now...|\n",
      "|And only herald t...|\n",
      "|Within thine own ...|\n",
      "|And tender churl ...|\n",
      "|Pity the world, o...|\n",
      "|To eat the world'...|\n",
      "|                    |\n",
      "|When forty winter...|\n",
      "+--------------------+\n",
      "only showing top 20 rows\n",
      "\n"
     ]
    }
   ],
   "source": [
    "df.show()"
   ]
  },
  {
   "cell_type": "markdown",
   "id": "2b2cdec3",
   "metadata": {},
   "source": [
    "You can set the number of row and truncate. Let me show you this."
   ]
  },
  {
   "cell_type": "code",
   "execution_count": 8,
   "id": "64cb8383",
   "metadata": {},
   "outputs": [
    {
     "name": "stdout",
     "output_type": "stream",
     "text": [
      "+-----------------------------------------------------+\n",
      "|                                                value|\n",
      "+-----------------------------------------------------+\n",
      "|                                          THE SONNETS|\n",
      "|                                                     |\n",
      "|                               by William Shakespeare|\n",
      "|                                                     |\n",
      "|           From fairest creatures we desire increase,|\n",
      "|          That thereby beauty's rose might never die,|\n",
      "|             But as the riper should by time decease,|\n",
      "|               His tender heir might bear his memory:|\n",
      "|        But thou contracted to thine own bright eyes,|\n",
      "|Feed'st thy light's flame with self-substantial fuel,|\n",
      "+-----------------------------------------------------+\n",
      "only showing top 10 rows\n",
      "\n"
     ]
    }
   ],
   "source": [
    "df.show(10, truncate=60)"
   ]
  },
  {
   "cell_type": "markdown",
   "id": "87149ef0",
   "metadata": {},
   "source": [
    "## Column transformations"
   ]
  },
  {
   "cell_type": "markdown",
   "id": "2a43b55b",
   "metadata": {},
   "source": [
    "As mentioned, my goal is to count the most used words in the dataset. To do this, I'm going to perform covers as following steps:\n",
    "\n",
    "1. Token — Tokenize each word.\n",
    "2. Clean — Remove any punctuation and/or tokens that aren’t words and then lowercase each word.\n",
    "3. Count — Count the frequency of each word present in the text.\n",
    "\n",
    "To tokenize each word, I'm going to set the `select` method. You can use the `select` method to select one or more columns from your DataFrame like a `SELECT` statement in SQL. Let's get the `value` column with the `col` method and then transform the sentences into the words as an array column with the `split` method. You can also rename transformation column with the `alias` method. Please keep in mind that PySpark’s data preprocessing methods that operate on columns is located in `pyspark.sql.functions`. "
   ]
  },
  {
   "cell_type": "code",
   "execution_count": 11,
   "id": "ab703dcf",
   "metadata": {},
   "outputs": [
    {
     "name": "stdout",
     "output_type": "stream",
     "text": [
      "+--------------------+\n",
      "|                line|\n",
      "+--------------------+\n",
      "|      [THE, SONNETS]|\n",
      "|                  []|\n",
      "|[by, William, Sha...|\n",
      "|                  []|\n",
      "|[From, fairest, c...|\n",
      "+--------------------+\n",
      "only showing top 5 rows\n",
      "\n"
     ]
    }
   ],
   "source": [
    "import pyspark.sql.functions as F\n",
    "lines = df.select(F.split(F.col(\"value\"), \" \").alias(\"line\"))\n",
    "lines.show(5)"
   ]
  },
  {
   "cell_type": "markdown",
   "id": "88d1539f",
   "metadata": {},
   "source": [
    "### Reshaping your data"
   ]
  },
  {
   "cell_type": "markdown",
   "id": "d8ed4d18",
   "metadata": {},
   "source": [
    "PySpark can have columns of nested values, like arrays of elements. The `explode` method allows you to extract the elements into distinct records. Let's create one record for each word with the `explode` function."
   ]
  },
  {
   "cell_type": "code",
   "execution_count": 13,
   "id": "9030679f",
   "metadata": {},
   "outputs": [
    {
     "name": "stdout",
     "output_type": "stream",
     "text": [
      "+-----------+\n",
      "|       word|\n",
      "+-----------+\n",
      "|        THE|\n",
      "|    SONNETS|\n",
      "|           |\n",
      "|         by|\n",
      "|    William|\n",
      "|Shakespeare|\n",
      "|           |\n",
      "|       From|\n",
      "|    fairest|\n",
      "|  creatures|\n",
      "+-----------+\n",
      "only showing top 10 rows\n",
      "\n"
     ]
    }
   ],
   "source": [
    "words = lines.select(F.explode(F.col(\"line\")).alias(\"word\"))\n",
    "words.show(10)"
   ]
  },
  {
   "cell_type": "markdown",
   "id": "a6928a88",
   "metadata": {},
   "source": [
    "## Working with words"
   ]
  },
  {
   "cell_type": "markdown",
   "id": "7dc49aa7",
   "metadata": {},
   "source": [
    "In this section, I'm going to show you how to perform lower the case via the `lower` method and remove punctuation via a regular expression. Let's lower the case of all the words in the dataframe with the `lower` method first."
   ]
  },
  {
   "cell_type": "code",
   "execution_count": 14,
   "id": "cc139410",
   "metadata": {},
   "outputs": [
    {
     "name": "stdout",
     "output_type": "stream",
     "text": [
      "+-----------+\n",
      "| word_lower|\n",
      "+-----------+\n",
      "|        the|\n",
      "|    sonnets|\n",
      "|           |\n",
      "|         by|\n",
      "|    william|\n",
      "|shakespeare|\n",
      "|           |\n",
      "|       from|\n",
      "|    fairest|\n",
      "|  creatures|\n",
      "+-----------+\n",
      "only showing top 10 rows\n",
      "\n"
     ]
    }
   ],
   "source": [
    "words_lower = words.select(F.lower(F.col(\"word\")).alias(\"word_lower\"))\n",
    "words_lower.show(10)"
   ]
  },
  {
   "cell_type": "markdown",
   "id": "189dd76a",
   "metadata": {},
   "source": [
    "After that let's clean our words of any punctuation and other non-useful characters the `regexp_extract` method."
   ]
  },
  {
   "cell_type": "code",
   "execution_count": 15,
   "id": "cbed56ab",
   "metadata": {},
   "outputs": [
    {
     "name": "stdout",
     "output_type": "stream",
     "text": [
      "+-----------+\n",
      "|       word|\n",
      "+-----------+\n",
      "|        the|\n",
      "|    sonnets|\n",
      "|           |\n",
      "|         by|\n",
      "|    william|\n",
      "|shakespeare|\n",
      "|           |\n",
      "|       from|\n",
      "|    fairest|\n",
      "|  creatures|\n",
      "+-----------+\n",
      "only showing top 10 rows\n",
      "\n"
     ]
    }
   ],
   "source": [
    "words_clean = words_lower.select(F.regexp_extract(F.col(\"word_lower\"), \"[a-z]+\", 0).alias(\"word\"))\n",
    "words_clean.show(10)"
   ]
  },
  {
   "cell_type": "markdown",
   "id": "6cdbc3df",
   "metadata": {},
   "source": [
    "## Filtering rows"
   ]
  },
  {
   "cell_type": "markdown",
   "id": "c522e959",
   "metadata": {},
   "source": [
    "You can filter DataFrames using either SQL-style `where` syntax or with `Column` objects. To filter records according to a certain condition, you can use the `where` or `filter` methods. These methods allows you to provide a test that will return `True` or `False` and only the records returning `True` will be kept. Now I'm going to filter the no null words using comparison operators using the `filter` method."
   ]
  },
  {
   "cell_type": "code",
   "execution_count": 16,
   "id": "9ae414d3",
   "metadata": {},
   "outputs": [
    {
     "name": "stdout",
     "output_type": "stream",
     "text": [
      "+-----------+\n",
      "|       word|\n",
      "+-----------+\n",
      "|        the|\n",
      "|    sonnets|\n",
      "|         by|\n",
      "|    william|\n",
      "|shakespeare|\n",
      "|       from|\n",
      "|    fairest|\n",
      "|  creatures|\n",
      "|         we|\n",
      "|     desire|\n",
      "+-----------+\n",
      "only showing top 10 rows\n",
      "\n"
     ]
    }
   ],
   "source": [
    "words_nonull = words_clean.filter(F.col(\"word\") != \"\")\n",
    "words_nonull.show(10)"
   ]
  },
  {
   "cell_type": "markdown",
   "id": "3a28bdea",
   "metadata": {},
   "source": [
    "Nice, the blank cell is gone. Let's now find only the words with more than five characters."
   ]
  },
  {
   "cell_type": "code",
   "execution_count": 18,
   "id": "6b978518",
   "metadata": {},
   "outputs": [
    {
     "name": "stdout",
     "output_type": "stream",
     "text": [
      "+-----------+\n",
      "|       word|\n",
      "+-----------+\n",
      "|    sonnets|\n",
      "|    william|\n",
      "|shakespeare|\n",
      "|    fairest|\n",
      "|  creatures|\n",
      "|     desire|\n",
      "|   increase|\n",
      "|    thereby|\n",
      "|     beauty|\n",
      "|     should|\n",
      "+-----------+\n",
      "only showing top 10 rows\n",
      "\n"
     ]
    }
   ],
   "source": [
    "words_great_three_char = words_clean.filter(length(col(\"word\")) > 5)\n",
    "words_great_three_char.show(10)"
   ]
  },
  {
   "cell_type": "markdown",
   "id": "f0d18d9a",
   "metadata": {},
   "source": [
    "##  Grouping records"
   ]
  },
  {
   "cell_type": "markdown",
   "id": "f067ae29",
   "metadata": {},
   "source": [
    "To count the number of each word, we can group the records. The easiest way to group the record is to use the `groupby` method. Let's only create a groupby object with the `groupby` method."
   ]
  },
  {
   "cell_type": "code",
   "execution_count": 17,
   "id": "24470d7c",
   "metadata": {},
   "outputs": [
    {
     "name": "stdout",
     "output_type": "stream",
     "text": [
      "<pyspark.sql.group.GroupedData object at 0x000002AC99E15C30>\n"
     ]
    }
   ],
   "source": [
    "groups = words_nonull.groupby(F.col(\"word\"))\n",
    "print(groups)"
   ]
  },
  {
   "cell_type": "markdown",
   "id": "b8b2d4a1",
   "metadata": {},
   "source": [
    "The `groupby` method returns a `GroupedData` object that waits for an aggregation method. Using this `GroupedData` object, we can calculate the frequency of the words with the `count` method."
   ]
  },
  {
   "cell_type": "code",
   "execution_count": 20,
   "id": "024dc5c5",
   "metadata": {},
   "outputs": [
    {
     "name": "stdout",
     "output_type": "stream",
     "text": [
      "DataFrame[word: string, count: bigint]\n"
     ]
    }
   ],
   "source": [
    "results = words_nonull.groupby(F.col(\"word\")).count()\n",
    "print(results)"
   ]
  },
  {
   "cell_type": "markdown",
   "id": "4c4c2619",
   "metadata": {},
   "source": [
    "Awesome, we counted the frequency of the words. Let's take a look at the number of these words."
   ]
  },
  {
   "cell_type": "code",
   "execution_count": 21,
   "id": "c29149ff",
   "metadata": {},
   "outputs": [
    {
     "name": "stdout",
     "output_type": "stream",
     "text": [
      "+-------+-----+\n",
      "|   word|count|\n",
      "+-------+-----+\n",
      "|    art|   52|\n",
      "|   some|   31|\n",
      "|  those|   33|\n",
      "|  still|   41|\n",
      "|   hope|    6|\n",
      "| travel|    3|\n",
      "|  cures|    1|\n",
      "| ransom|    2|\n",
      "|  spoil|    1|\n",
      "|tresses|    1|\n",
      "+-------+-----+\n",
      "only showing top 10 rows\n",
      "\n"
     ]
    }
   ],
   "source": [
    "results.show(10)"
   ]
  },
  {
   "cell_type": "markdown",
   "id": "002621e8",
   "metadata": {},
   "source": [
    "## Ordering the results with orderBy"
   ]
  },
  {
   "cell_type": "markdown",
   "id": "3d16b1d0",
   "metadata": {},
   "source": [
    "The `orderBy()` method allows you to order a DataFrame by the values of one or many columns. There are two ways to order. You can use the column names as parameters or can set the `col` function. Let's take a look at these ways."
   ]
  },
  {
   "cell_type": "code",
   "execution_count": 23,
   "id": "99088cad",
   "metadata": {},
   "outputs": [
    {
     "name": "stdout",
     "output_type": "stream",
     "text": [
      "+----+-----+\n",
      "|word|count|\n",
      "+----+-----+\n",
      "| and|  490|\n",
      "| the|  432|\n",
      "|  to|  414|\n",
      "|  my|  393|\n",
      "|  of|  370|\n",
      "|   i|  351|\n",
      "|  in|  323|\n",
      "|that|  323|\n",
      "| thy|  287|\n",
      "|thou|  235|\n",
      "+----+-----+\n",
      "only showing top 10 rows\n",
      "\n"
     ]
    }
   ],
   "source": [
    "results.orderBy(\"count\", ascending=False).show(10)"
   ]
  },
  {
   "cell_type": "markdown",
   "id": "82c305c5",
   "metadata": {},
   "source": [
    "To order values, you can also use the `col` method via the `decs` method."
   ]
  },
  {
   "cell_type": "code",
   "execution_count": 24,
   "id": "ee4edeb5",
   "metadata": {},
   "outputs": [
    {
     "name": "stdout",
     "output_type": "stream",
     "text": [
      "+----+-----+\n",
      "|word|count|\n",
      "+----+-----+\n",
      "| and|  490|\n",
      "| the|  432|\n",
      "|  to|  414|\n",
      "|  my|  393|\n",
      "|  of|  370|\n",
      "|   i|  351|\n",
      "|  in|  323|\n",
      "|that|  323|\n",
      "| thy|  287|\n",
      "|thou|  235|\n",
      "+----+-----+\n",
      "only showing top 10 rows\n",
      "\n"
     ]
    }
   ],
   "source": [
    "results.orderBy(col(\"count\").desc()).show(10)"
   ]
  },
  {
   "cell_type": "markdown",
   "id": "d4525cbf",
   "metadata": {},
   "source": [
    "## Writing data"
   ]
  },
  {
   "cell_type": "markdown",
   "id": "8a9debc8",
   "metadata": {},
   "source": [
    "So far we saw the data on the screen, but you can also want to export your results. To do this, you can use the `write` method. Let's export our results in comma-separated value (CSV) file that is a human-readable format."
   ]
  },
  {
   "cell_type": "code",
   "execution_count": 22,
   "id": "16a959d3",
   "metadata": {},
   "outputs": [
    {
     "ename": "AnalysisException",
     "evalue": "path file:/D:/Videolar/Tirendaz/Books-Notebook-Notes/Pyspark/Hands-on PySpark/my_count.csv already exists.;",
     "output_type": "error",
     "traceback": [
      "\u001b[1;31m---------------------------------------------------------------------------\u001b[0m",
      "\u001b[1;31mAnalysisException\u001b[0m                         Traceback (most recent call last)",
      "\u001b[1;32m~\\AppData\\Local\\Temp/ipykernel_21964/457476465.py\u001b[0m in \u001b[0;36m<module>\u001b[1;34m\u001b[0m\n\u001b[1;32m----> 1\u001b[1;33m \u001b[0mresults\u001b[0m\u001b[1;33m.\u001b[0m\u001b[0mwrite\u001b[0m\u001b[1;33m.\u001b[0m\u001b[0mcsv\u001b[0m\u001b[1;33m(\u001b[0m\u001b[1;34m\"my_count.csv\"\u001b[0m\u001b[1;33m)\u001b[0m\u001b[1;33m\u001b[0m\u001b[1;33m\u001b[0m\u001b[0m\n\u001b[0m",
      "\u001b[1;32m~\\anaconda3\\envs\\pyspark\\lib\\site-packages\\pyspark\\sql\\readwriter.py\u001b[0m in \u001b[0;36mcsv\u001b[1;34m(self, path, mode, compression, sep, quote, escape, header, nullValue, escapeQuotes, quoteAll, dateFormat, timestampFormat, ignoreLeadingWhiteSpace, ignoreTrailingWhiteSpace, charToEscapeQuoteEscaping, encoding, emptyValue, lineSep)\u001b[0m\n\u001b[0;32m   1028\u001b[0m                        \u001b[0mcharToEscapeQuoteEscaping\u001b[0m\u001b[1;33m=\u001b[0m\u001b[0mcharToEscapeQuoteEscaping\u001b[0m\u001b[1;33m,\u001b[0m\u001b[1;33m\u001b[0m\u001b[1;33m\u001b[0m\u001b[0m\n\u001b[0;32m   1029\u001b[0m                        encoding=encoding, emptyValue=emptyValue, lineSep=lineSep)\n\u001b[1;32m-> 1030\u001b[1;33m         \u001b[0mself\u001b[0m\u001b[1;33m.\u001b[0m\u001b[0m_jwrite\u001b[0m\u001b[1;33m.\u001b[0m\u001b[0mcsv\u001b[0m\u001b[1;33m(\u001b[0m\u001b[0mpath\u001b[0m\u001b[1;33m)\u001b[0m\u001b[1;33m\u001b[0m\u001b[1;33m\u001b[0m\u001b[0m\n\u001b[0m\u001b[0;32m   1031\u001b[0m \u001b[1;33m\u001b[0m\u001b[0m\n\u001b[0;32m   1032\u001b[0m     \u001b[1;33m@\u001b[0m\u001b[0msince\u001b[0m\u001b[1;33m(\u001b[0m\u001b[1;36m1.5\u001b[0m\u001b[1;33m)\u001b[0m\u001b[1;33m\u001b[0m\u001b[1;33m\u001b[0m\u001b[0m\n",
      "\u001b[1;32m~\\anaconda3\\envs\\pyspark\\lib\\site-packages\\py4j\\java_gateway.py\u001b[0m in \u001b[0;36m__call__\u001b[1;34m(self, *args)\u001b[0m\n\u001b[0;32m   1302\u001b[0m \u001b[1;33m\u001b[0m\u001b[0m\n\u001b[0;32m   1303\u001b[0m         \u001b[0manswer\u001b[0m \u001b[1;33m=\u001b[0m \u001b[0mself\u001b[0m\u001b[1;33m.\u001b[0m\u001b[0mgateway_client\u001b[0m\u001b[1;33m.\u001b[0m\u001b[0msend_command\u001b[0m\u001b[1;33m(\u001b[0m\u001b[0mcommand\u001b[0m\u001b[1;33m)\u001b[0m\u001b[1;33m\u001b[0m\u001b[1;33m\u001b[0m\u001b[0m\n\u001b[1;32m-> 1304\u001b[1;33m         return_value = get_return_value(\n\u001b[0m\u001b[0;32m   1305\u001b[0m             answer, self.gateway_client, self.target_id, self.name)\n\u001b[0;32m   1306\u001b[0m \u001b[1;33m\u001b[0m\u001b[0m\n",
      "\u001b[1;32m~\\anaconda3\\envs\\pyspark\\lib\\site-packages\\pyspark\\sql\\utils.py\u001b[0m in \u001b[0;36mdeco\u001b[1;34m(*a, **kw)\u001b[0m\n\u001b[0;32m    132\u001b[0m                 \u001b[1;31m# Hide where the exception came from that shows a non-Pythonic\u001b[0m\u001b[1;33m\u001b[0m\u001b[1;33m\u001b[0m\u001b[0m\n\u001b[0;32m    133\u001b[0m                 \u001b[1;31m# JVM exception message.\u001b[0m\u001b[1;33m\u001b[0m\u001b[1;33m\u001b[0m\u001b[0m\n\u001b[1;32m--> 134\u001b[1;33m                 \u001b[0mraise_from\u001b[0m\u001b[1;33m(\u001b[0m\u001b[0mconverted\u001b[0m\u001b[1;33m)\u001b[0m\u001b[1;33m\u001b[0m\u001b[1;33m\u001b[0m\u001b[0m\n\u001b[0m\u001b[0;32m    135\u001b[0m             \u001b[1;32melse\u001b[0m\u001b[1;33m:\u001b[0m\u001b[1;33m\u001b[0m\u001b[1;33m\u001b[0m\u001b[0m\n\u001b[0;32m    136\u001b[0m                 \u001b[1;32mraise\u001b[0m\u001b[1;33m\u001b[0m\u001b[1;33m\u001b[0m\u001b[0m\n",
      "\u001b[1;32m~\\anaconda3\\envs\\pyspark\\lib\\site-packages\\pyspark\\sql\\utils.py\u001b[0m in \u001b[0;36mraise_from\u001b[1;34m(e)\u001b[0m\n",
      "\u001b[1;31mAnalysisException\u001b[0m: path file:/D:/Videolar/Tirendaz/Books-Notebook-Notes/Pyspark/Hands-on PySpark/my_count.csv already exists.;"
     ]
    }
   ],
   "source": [
    "results.write.csv(\"my_count.csv\")"
   ]
  },
  {
   "cell_type": "markdown",
   "id": "63b9a1dc",
   "metadata": {},
   "source": [
    "Note that PySpark creates one file per partition. This is due to PySpark is worked multiple workers. So you have many partitions. Let's take a look at these partitions."
   ]
  },
  {
   "cell_type": "code",
   "execution_count": 26,
   "id": "d0abd7b7",
   "metadata": {},
   "outputs": [
    {
     "name": "stdout",
     "output_type": "stream",
     "text": [
      " Volume in drive D is Yeni Birim\n",
      " Volume Serial Number is B6A7-CDC9\n",
      "\n",
      " Directory of D:\\Videolar\\Tirendaz\\Books-Notebook-Notes\\Pyspark\\Hands-on PySpark\\my_count.csv\n",
      "\n",
      "08/18/2022  08:50 AM    <DIR>          .\n",
      "08/18/2022  08:50 AM    <DIR>          ..\n",
      "08/18/2022  08:50 AM                 8 ._SUCCESS.crc\n",
      "08/18/2022  08:50 AM                12 .part-00000-50f14a9a-3887-4e87-ae73-bbbf8de9d3cf-c000.csv.crc\n",
      "08/18/2022  08:50 AM                12 .part-00001-50f14a9a-3887-4e87-ae73-bbbf8de9d3cf-c000.csv.crc\n",
      "08/18/2022  08:50 AM                12 .part-00002-50f14a9a-3887-4e87-ae73-bbbf8de9d3cf-c000.csv.crc\n",
      "08/18/2022  08:50 AM                12 .part-00003-50f14a9a-3887-4e87-ae73-bbbf8de9d3cf-c000.csv.crc\n",
      "08/18/2022  08:50 AM                12 .part-00004-50f14a9a-3887-4e87-ae73-bbbf8de9d3cf-c000.csv.crc\n",
      "08/18/2022  08:50 AM                12 .part-00005-50f14a9a-3887-4e87-ae73-bbbf8de9d3cf-c000.csv.crc\n",
      "08/18/2022  08:50 AM                12 .part-00006-50f14a9a-3887-4e87-ae73-bbbf8de9d3cf-c000.csv.crc\n",
      "08/18/2022  08:50 AM                12 .part-00007-50f14a9a-3887-4e87-ae73-bbbf8de9d3cf-c000.csv.crc\n",
      "08/18/2022  08:50 AM                12 .part-00008-50f14a9a-3887-4e87-ae73-bbbf8de9d3cf-c000.csv.crc\n",
      "08/18/2022  08:50 AM                12 .part-00009-50f14a9a-3887-4e87-ae73-bbbf8de9d3cf-c000.csv.crc\n",
      "08/18/2022  08:50 AM                12 .part-00010-50f14a9a-3887-4e87-ae73-bbbf8de9d3cf-c000.csv.crc\n",
      "08/18/2022  08:50 AM                12 .part-00011-50f14a9a-3887-4e87-ae73-bbbf8de9d3cf-c000.csv.crc\n",
      "08/18/2022  08:50 AM                12 .part-00012-50f14a9a-3887-4e87-ae73-bbbf8de9d3cf-c000.csv.crc\n",
      "08/18/2022  08:50 AM                12 .part-00013-50f14a9a-3887-4e87-ae73-bbbf8de9d3cf-c000.csv.crc\n",
      "08/18/2022  08:50 AM                12 .part-00014-50f14a9a-3887-4e87-ae73-bbbf8de9d3cf-c000.csv.crc\n",
      "08/18/2022  08:50 AM                12 .part-00015-50f14a9a-3887-4e87-ae73-bbbf8de9d3cf-c000.csv.crc\n",
      "08/18/2022  08:50 AM                12 .part-00016-50f14a9a-3887-4e87-ae73-bbbf8de9d3cf-c000.csv.crc\n",
      "08/18/2022  08:50 AM                12 .part-00017-50f14a9a-3887-4e87-ae73-bbbf8de9d3cf-c000.csv.crc\n",
      "08/18/2022  08:50 AM                12 .part-00018-50f14a9a-3887-4e87-ae73-bbbf8de9d3cf-c000.csv.crc\n",
      "08/18/2022  08:50 AM                12 .part-00019-50f14a9a-3887-4e87-ae73-bbbf8de9d3cf-c000.csv.crc\n",
      "08/18/2022  08:50 AM                12 .part-00020-50f14a9a-3887-4e87-ae73-bbbf8de9d3cf-c000.csv.crc\n",
      "08/18/2022  08:50 AM                12 .part-00021-50f14a9a-3887-4e87-ae73-bbbf8de9d3cf-c000.csv.crc\n",
      "08/18/2022  08:50 AM                12 .part-00022-50f14a9a-3887-4e87-ae73-bbbf8de9d3cf-c000.csv.crc\n",
      "08/18/2022  08:50 AM                12 .part-00023-50f14a9a-3887-4e87-ae73-bbbf8de9d3cf-c000.csv.crc\n",
      "08/18/2022  08:50 AM                12 .part-00024-50f14a9a-3887-4e87-ae73-bbbf8de9d3cf-c000.csv.crc\n",
      "08/18/2022  08:50 AM                12 .part-00025-50f14a9a-3887-4e87-ae73-bbbf8de9d3cf-c000.csv.crc\n",
      "08/18/2022  08:50 AM                12 .part-00026-50f14a9a-3887-4e87-ae73-bbbf8de9d3cf-c000.csv.crc\n",
      "08/18/2022  08:50 AM                12 .part-00027-50f14a9a-3887-4e87-ae73-bbbf8de9d3cf-c000.csv.crc\n",
      "08/18/2022  08:50 AM                12 .part-00028-50f14a9a-3887-4e87-ae73-bbbf8de9d3cf-c000.csv.crc\n",
      "08/18/2022  08:50 AM                12 .part-00029-50f14a9a-3887-4e87-ae73-bbbf8de9d3cf-c000.csv.crc\n",
      "08/18/2022  08:50 AM                12 .part-00030-50f14a9a-3887-4e87-ae73-bbbf8de9d3cf-c000.csv.crc\n",
      "08/18/2022  08:50 AM                12 .part-00031-50f14a9a-3887-4e87-ae73-bbbf8de9d3cf-c000.csv.crc\n",
      "08/18/2022  08:50 AM                12 .part-00032-50f14a9a-3887-4e87-ae73-bbbf8de9d3cf-c000.csv.crc\n",
      "08/18/2022  08:50 AM                12 .part-00033-50f14a9a-3887-4e87-ae73-bbbf8de9d3cf-c000.csv.crc\n",
      "08/18/2022  08:50 AM                12 .part-00034-50f14a9a-3887-4e87-ae73-bbbf8de9d3cf-c000.csv.crc\n",
      "08/18/2022  08:50 AM                12 .part-00035-50f14a9a-3887-4e87-ae73-bbbf8de9d3cf-c000.csv.crc\n",
      "08/18/2022  08:50 AM                12 .part-00036-50f14a9a-3887-4e87-ae73-bbbf8de9d3cf-c000.csv.crc\n",
      "08/18/2022  08:50 AM                12 .part-00037-50f14a9a-3887-4e87-ae73-bbbf8de9d3cf-c000.csv.crc\n",
      "08/18/2022  08:50 AM                12 .part-00038-50f14a9a-3887-4e87-ae73-bbbf8de9d3cf-c000.csv.crc\n",
      "08/18/2022  08:50 AM                12 .part-00039-50f14a9a-3887-4e87-ae73-bbbf8de9d3cf-c000.csv.crc\n",
      "08/18/2022  08:50 AM                12 .part-00040-50f14a9a-3887-4e87-ae73-bbbf8de9d3cf-c000.csv.crc\n",
      "08/18/2022  08:50 AM                12 .part-00041-50f14a9a-3887-4e87-ae73-bbbf8de9d3cf-c000.csv.crc\n",
      "08/18/2022  08:50 AM                12 .part-00042-50f14a9a-3887-4e87-ae73-bbbf8de9d3cf-c000.csv.crc\n",
      "08/18/2022  08:50 AM                12 .part-00043-50f14a9a-3887-4e87-ae73-bbbf8de9d3cf-c000.csv.crc\n",
      "08/18/2022  08:50 AM                12 .part-00044-50f14a9a-3887-4e87-ae73-bbbf8de9d3cf-c000.csv.crc\n",
      "08/18/2022  08:50 AM                12 .part-00045-50f14a9a-3887-4e87-ae73-bbbf8de9d3cf-c000.csv.crc\n",
      "08/18/2022  08:50 AM                12 .part-00046-50f14a9a-3887-4e87-ae73-bbbf8de9d3cf-c000.csv.crc\n",
      "08/18/2022  08:50 AM                12 .part-00047-50f14a9a-3887-4e87-ae73-bbbf8de9d3cf-c000.csv.crc\n",
      "08/18/2022  08:50 AM                12 .part-00048-50f14a9a-3887-4e87-ae73-bbbf8de9d3cf-c000.csv.crc\n",
      "08/18/2022  08:50 AM                12 .part-00049-50f14a9a-3887-4e87-ae73-bbbf8de9d3cf-c000.csv.crc\n",
      "08/18/2022  08:50 AM                12 .part-00050-50f14a9a-3887-4e87-ae73-bbbf8de9d3cf-c000.csv.crc\n",
      "08/18/2022  08:50 AM                12 .part-00051-50f14a9a-3887-4e87-ae73-bbbf8de9d3cf-c000.csv.crc\n",
      "08/18/2022  08:50 AM                12 .part-00052-50f14a9a-3887-4e87-ae73-bbbf8de9d3cf-c000.csv.crc\n",
      "08/18/2022  08:50 AM                12 .part-00053-50f14a9a-3887-4e87-ae73-bbbf8de9d3cf-c000.csv.crc\n",
      "08/18/2022  08:50 AM                12 .part-00054-50f14a9a-3887-4e87-ae73-bbbf8de9d3cf-c000.csv.crc\n",
      "08/18/2022  08:50 AM                12 .part-00055-50f14a9a-3887-4e87-ae73-bbbf8de9d3cf-c000.csv.crc\n",
      "08/18/2022  08:50 AM                12 .part-00056-50f14a9a-3887-4e87-ae73-bbbf8de9d3cf-c000.csv.crc\n",
      "08/18/2022  08:50 AM                12 .part-00057-50f14a9a-3887-4e87-ae73-bbbf8de9d3cf-c000.csv.crc\n",
      "08/18/2022  08:50 AM                12 .part-00058-50f14a9a-3887-4e87-ae73-bbbf8de9d3cf-c000.csv.crc\n",
      "08/18/2022  08:50 AM                12 .part-00059-50f14a9a-3887-4e87-ae73-bbbf8de9d3cf-c000.csv.crc\n",
      "08/18/2022  08:50 AM                12 .part-00060-50f14a9a-3887-4e87-ae73-bbbf8de9d3cf-c000.csv.crc\n",
      "08/18/2022  08:50 AM                12 .part-00061-50f14a9a-3887-4e87-ae73-bbbf8de9d3cf-c000.csv.crc\n",
      "08/18/2022  08:50 AM                12 .part-00062-50f14a9a-3887-4e87-ae73-bbbf8de9d3cf-c000.csv.crc\n",
      "08/18/2022  08:50 AM                12 .part-00063-50f14a9a-3887-4e87-ae73-bbbf8de9d3cf-c000.csv.crc\n",
      "08/18/2022  08:50 AM                12 .part-00064-50f14a9a-3887-4e87-ae73-bbbf8de9d3cf-c000.csv.crc\n",
      "08/18/2022  08:50 AM                12 .part-00065-50f14a9a-3887-4e87-ae73-bbbf8de9d3cf-c000.csv.crc\n",
      "08/18/2022  08:50 AM                12 .part-00066-50f14a9a-3887-4e87-ae73-bbbf8de9d3cf-c000.csv.crc\n",
      "08/18/2022  08:50 AM                12 .part-00067-50f14a9a-3887-4e87-ae73-bbbf8de9d3cf-c000.csv.crc\n",
      "08/18/2022  08:50 AM                12 .part-00068-50f14a9a-3887-4e87-ae73-bbbf8de9d3cf-c000.csv.crc\n",
      "08/18/2022  08:50 AM                12 .part-00069-50f14a9a-3887-4e87-ae73-bbbf8de9d3cf-c000.csv.crc\n",
      "08/18/2022  08:50 AM                12 .part-00070-50f14a9a-3887-4e87-ae73-bbbf8de9d3cf-c000.csv.crc\n",
      "08/18/2022  08:50 AM                12 .part-00071-50f14a9a-3887-4e87-ae73-bbbf8de9d3cf-c000.csv.crc\n",
      "08/18/2022  08:50 AM                12 .part-00072-50f14a9a-3887-4e87-ae73-bbbf8de9d3cf-c000.csv.crc\n",
      "08/18/2022  08:50 AM                12 .part-00073-50f14a9a-3887-4e87-ae73-bbbf8de9d3cf-c000.csv.crc\n",
      "08/18/2022  08:50 AM                12 .part-00074-50f14a9a-3887-4e87-ae73-bbbf8de9d3cf-c000.csv.crc\n",
      "08/18/2022  08:50 AM                12 .part-00075-50f14a9a-3887-4e87-ae73-bbbf8de9d3cf-c000.csv.crc\n",
      "08/18/2022  08:50 AM                12 .part-00076-50f14a9a-3887-4e87-ae73-bbbf8de9d3cf-c000.csv.crc\n",
      "08/18/2022  08:50 AM                12 .part-00077-50f14a9a-3887-4e87-ae73-bbbf8de9d3cf-c000.csv.crc\n",
      "08/18/2022  08:50 AM                12 .part-00078-50f14a9a-3887-4e87-ae73-bbbf8de9d3cf-c000.csv.crc\n",
      "08/18/2022  08:50 AM                12 .part-00079-50f14a9a-3887-4e87-ae73-bbbf8de9d3cf-c000.csv.crc\n",
      "08/18/2022  08:50 AM                12 .part-00080-50f14a9a-3887-4e87-ae73-bbbf8de9d3cf-c000.csv.crc\n",
      "08/18/2022  08:50 AM                12 .part-00081-50f14a9a-3887-4e87-ae73-bbbf8de9d3cf-c000.csv.crc\n",
      "08/18/2022  08:50 AM                12 .part-00082-50f14a9a-3887-4e87-ae73-bbbf8de9d3cf-c000.csv.crc\n",
      "08/18/2022  08:50 AM                12 .part-00083-50f14a9a-3887-4e87-ae73-bbbf8de9d3cf-c000.csv.crc\n",
      "08/18/2022  08:50 AM                12 .part-00084-50f14a9a-3887-4e87-ae73-bbbf8de9d3cf-c000.csv.crc\n",
      "08/18/2022  08:50 AM                12 .part-00085-50f14a9a-3887-4e87-ae73-bbbf8de9d3cf-c000.csv.crc\n",
      "08/18/2022  08:50 AM                12 .part-00086-50f14a9a-3887-4e87-ae73-bbbf8de9d3cf-c000.csv.crc\n",
      "08/18/2022  08:50 AM                12 .part-00087-50f14a9a-3887-4e87-ae73-bbbf8de9d3cf-c000.csv.crc\n",
      "08/18/2022  08:50 AM                12 .part-00088-50f14a9a-3887-4e87-ae73-bbbf8de9d3cf-c000.csv.crc\n",
      "08/18/2022  08:50 AM                12 .part-00089-50f14a9a-3887-4e87-ae73-bbbf8de9d3cf-c000.csv.crc\n",
      "08/18/2022  08:50 AM                12 .part-00090-50f14a9a-3887-4e87-ae73-bbbf8de9d3cf-c000.csv.crc\n",
      "08/18/2022  08:50 AM                12 .part-00091-50f14a9a-3887-4e87-ae73-bbbf8de9d3cf-c000.csv.crc\n",
      "08/18/2022  08:50 AM                12 .part-00092-50f14a9a-3887-4e87-ae73-bbbf8de9d3cf-c000.csv.crc\n",
      "08/18/2022  08:50 AM                12 .part-00093-50f14a9a-3887-4e87-ae73-bbbf8de9d3cf-c000.csv.crc\n",
      "08/18/2022  08:50 AM                12 .part-00094-50f14a9a-3887-4e87-ae73-bbbf8de9d3cf-c000.csv.crc\n",
      "08/18/2022  08:50 AM                12 .part-00095-50f14a9a-3887-4e87-ae73-bbbf8de9d3cf-c000.csv.crc\n",
      "08/18/2022  08:50 AM                12 .part-00096-50f14a9a-3887-4e87-ae73-bbbf8de9d3cf-c000.csv.crc\n",
      "08/18/2022  08:50 AM                12 .part-00097-50f14a9a-3887-4e87-ae73-bbbf8de9d3cf-c000.csv.crc\n",
      "08/18/2022  08:50 AM                12 .part-00098-50f14a9a-3887-4e87-ae73-bbbf8de9d3cf-c000.csv.crc\n",
      "08/18/2022  08:50 AM                12 .part-00099-50f14a9a-3887-4e87-ae73-bbbf8de9d3cf-c000.csv.crc\n",
      "08/18/2022  08:50 AM                12 .part-00100-50f14a9a-3887-4e87-ae73-bbbf8de9d3cf-c000.csv.crc\n",
      "08/18/2022  08:50 AM                12 .part-00101-50f14a9a-3887-4e87-ae73-bbbf8de9d3cf-c000.csv.crc\n",
      "08/18/2022  08:50 AM                12 .part-00102-50f14a9a-3887-4e87-ae73-bbbf8de9d3cf-c000.csv.crc\n",
      "08/18/2022  08:50 AM                12 .part-00103-50f14a9a-3887-4e87-ae73-bbbf8de9d3cf-c000.csv.crc\n",
      "08/18/2022  08:50 AM                12 .part-00104-50f14a9a-3887-4e87-ae73-bbbf8de9d3cf-c000.csv.crc\n",
      "08/18/2022  08:50 AM                12 .part-00105-50f14a9a-3887-4e87-ae73-bbbf8de9d3cf-c000.csv.crc\n",
      "08/18/2022  08:50 AM                12 .part-00106-50f14a9a-3887-4e87-ae73-bbbf8de9d3cf-c000.csv.crc\n",
      "08/18/2022  08:50 AM                12 .part-00107-50f14a9a-3887-4e87-ae73-bbbf8de9d3cf-c000.csv.crc\n",
      "08/18/2022  08:50 AM                12 .part-00108-50f14a9a-3887-4e87-ae73-bbbf8de9d3cf-c000.csv.crc\n",
      "08/18/2022  08:50 AM                12 .part-00109-50f14a9a-3887-4e87-ae73-bbbf8de9d3cf-c000.csv.crc\n",
      "08/18/2022  08:50 AM                12 .part-00110-50f14a9a-3887-4e87-ae73-bbbf8de9d3cf-c000.csv.crc\n",
      "08/18/2022  08:50 AM                12 .part-00111-50f14a9a-3887-4e87-ae73-bbbf8de9d3cf-c000.csv.crc\n",
      "08/18/2022  08:50 AM                12 .part-00112-50f14a9a-3887-4e87-ae73-bbbf8de9d3cf-c000.csv.crc\n",
      "08/18/2022  08:50 AM                12 .part-00113-50f14a9a-3887-4e87-ae73-bbbf8de9d3cf-c000.csv.crc\n",
      "08/18/2022  08:50 AM                12 .part-00114-50f14a9a-3887-4e87-ae73-bbbf8de9d3cf-c000.csv.crc\n",
      "08/18/2022  08:50 AM                12 .part-00115-50f14a9a-3887-4e87-ae73-bbbf8de9d3cf-c000.csv.crc\n",
      "08/18/2022  08:50 AM                12 .part-00116-50f14a9a-3887-4e87-ae73-bbbf8de9d3cf-c000.csv.crc\n",
      "08/18/2022  08:50 AM                12 .part-00117-50f14a9a-3887-4e87-ae73-bbbf8de9d3cf-c000.csv.crc\n",
      "08/18/2022  08:50 AM                12 .part-00118-50f14a9a-3887-4e87-ae73-bbbf8de9d3cf-c000.csv.crc\n",
      "08/18/2022  08:50 AM                12 .part-00119-50f14a9a-3887-4e87-ae73-bbbf8de9d3cf-c000.csv.crc\n",
      "08/18/2022  08:50 AM                12 .part-00120-50f14a9a-3887-4e87-ae73-bbbf8de9d3cf-c000.csv.crc\n",
      "08/18/2022  08:50 AM                12 .part-00121-50f14a9a-3887-4e87-ae73-bbbf8de9d3cf-c000.csv.crc\n",
      "08/18/2022  08:50 AM                12 .part-00122-50f14a9a-3887-4e87-ae73-bbbf8de9d3cf-c000.csv.crc\n",
      "08/18/2022  08:50 AM                12 .part-00123-50f14a9a-3887-4e87-ae73-bbbf8de9d3cf-c000.csv.crc\n",
      "08/18/2022  08:50 AM                12 .part-00124-50f14a9a-3887-4e87-ae73-bbbf8de9d3cf-c000.csv.crc\n",
      "08/18/2022  08:50 AM                12 .part-00125-50f14a9a-3887-4e87-ae73-bbbf8de9d3cf-c000.csv.crc\n",
      "08/18/2022  08:50 AM                12 .part-00126-50f14a9a-3887-4e87-ae73-bbbf8de9d3cf-c000.csv.crc\n",
      "08/18/2022  08:50 AM                12 .part-00127-50f14a9a-3887-4e87-ae73-bbbf8de9d3cf-c000.csv.crc\n",
      "08/18/2022  08:50 AM                12 .part-00128-50f14a9a-3887-4e87-ae73-bbbf8de9d3cf-c000.csv.crc\n",
      "08/18/2022  08:50 AM                12 .part-00129-50f14a9a-3887-4e87-ae73-bbbf8de9d3cf-c000.csv.crc\n",
      "08/18/2022  08:50 AM                12 .part-00130-50f14a9a-3887-4e87-ae73-bbbf8de9d3cf-c000.csv.crc\n",
      "08/18/2022  08:50 AM                12 .part-00131-50f14a9a-3887-4e87-ae73-bbbf8de9d3cf-c000.csv.crc\n",
      "08/18/2022  08:50 AM                12 .part-00132-50f14a9a-3887-4e87-ae73-bbbf8de9d3cf-c000.csv.crc\n",
      "08/18/2022  08:50 AM                12 .part-00133-50f14a9a-3887-4e87-ae73-bbbf8de9d3cf-c000.csv.crc\n",
      "08/18/2022  08:50 AM                12 .part-00134-50f14a9a-3887-4e87-ae73-bbbf8de9d3cf-c000.csv.crc\n",
      "08/18/2022  08:50 AM                12 .part-00135-50f14a9a-3887-4e87-ae73-bbbf8de9d3cf-c000.csv.crc\n",
      "08/18/2022  08:50 AM                12 .part-00136-50f14a9a-3887-4e87-ae73-bbbf8de9d3cf-c000.csv.crc\n",
      "08/18/2022  08:50 AM                12 .part-00137-50f14a9a-3887-4e87-ae73-bbbf8de9d3cf-c000.csv.crc\n",
      "08/18/2022  08:50 AM                12 .part-00138-50f14a9a-3887-4e87-ae73-bbbf8de9d3cf-c000.csv.crc\n",
      "08/18/2022  08:50 AM                12 .part-00139-50f14a9a-3887-4e87-ae73-bbbf8de9d3cf-c000.csv.crc\n",
      "08/18/2022  08:50 AM                12 .part-00140-50f14a9a-3887-4e87-ae73-bbbf8de9d3cf-c000.csv.crc\n",
      "08/18/2022  08:50 AM                12 .part-00141-50f14a9a-3887-4e87-ae73-bbbf8de9d3cf-c000.csv.crc\n",
      "08/18/2022  08:50 AM                12 .part-00142-50f14a9a-3887-4e87-ae73-bbbf8de9d3cf-c000.csv.crc\n",
      "08/18/2022  08:50 AM                12 .part-00143-50f14a9a-3887-4e87-ae73-bbbf8de9d3cf-c000.csv.crc\n",
      "08/18/2022  08:50 AM                12 .part-00144-50f14a9a-3887-4e87-ae73-bbbf8de9d3cf-c000.csv.crc\n",
      "08/18/2022  08:50 AM                12 .part-00145-50f14a9a-3887-4e87-ae73-bbbf8de9d3cf-c000.csv.crc\n",
      "08/18/2022  08:50 AM                12 .part-00146-50f14a9a-3887-4e87-ae73-bbbf8de9d3cf-c000.csv.crc\n",
      "08/18/2022  08:50 AM                12 .part-00147-50f14a9a-3887-4e87-ae73-bbbf8de9d3cf-c000.csv.crc\n",
      "08/18/2022  08:50 AM                12 .part-00148-50f14a9a-3887-4e87-ae73-bbbf8de9d3cf-c000.csv.crc\n",
      "08/18/2022  08:50 AM                12 .part-00149-50f14a9a-3887-4e87-ae73-bbbf8de9d3cf-c000.csv.crc\n",
      "08/18/2022  08:50 AM                12 .part-00150-50f14a9a-3887-4e87-ae73-bbbf8de9d3cf-c000.csv.crc\n",
      "08/18/2022  08:50 AM                12 .part-00151-50f14a9a-3887-4e87-ae73-bbbf8de9d3cf-c000.csv.crc\n",
      "08/18/2022  08:50 AM                12 .part-00152-50f14a9a-3887-4e87-ae73-bbbf8de9d3cf-c000.csv.crc\n",
      "08/18/2022  08:50 AM                12 .part-00153-50f14a9a-3887-4e87-ae73-bbbf8de9d3cf-c000.csv.crc\n",
      "08/18/2022  08:50 AM                12 .part-00154-50f14a9a-3887-4e87-ae73-bbbf8de9d3cf-c000.csv.crc\n",
      "08/18/2022  08:50 AM                12 .part-00155-50f14a9a-3887-4e87-ae73-bbbf8de9d3cf-c000.csv.crc\n",
      "08/18/2022  08:50 AM                12 .part-00156-50f14a9a-3887-4e87-ae73-bbbf8de9d3cf-c000.csv.crc\n",
      "08/18/2022  08:50 AM                12 .part-00157-50f14a9a-3887-4e87-ae73-bbbf8de9d3cf-c000.csv.crc\n",
      "08/18/2022  08:50 AM                12 .part-00158-50f14a9a-3887-4e87-ae73-bbbf8de9d3cf-c000.csv.crc\n",
      "08/18/2022  08:50 AM                12 .part-00159-50f14a9a-3887-4e87-ae73-bbbf8de9d3cf-c000.csv.crc\n",
      "08/18/2022  08:50 AM                12 .part-00160-50f14a9a-3887-4e87-ae73-bbbf8de9d3cf-c000.csv.crc\n",
      "08/18/2022  08:50 AM                12 .part-00161-50f14a9a-3887-4e87-ae73-bbbf8de9d3cf-c000.csv.crc\n",
      "08/18/2022  08:50 AM                12 .part-00162-50f14a9a-3887-4e87-ae73-bbbf8de9d3cf-c000.csv.crc\n",
      "08/18/2022  08:50 AM                12 .part-00163-50f14a9a-3887-4e87-ae73-bbbf8de9d3cf-c000.csv.crc\n",
      "08/18/2022  08:50 AM                12 .part-00164-50f14a9a-3887-4e87-ae73-bbbf8de9d3cf-c000.csv.crc\n",
      "08/18/2022  08:50 AM                12 .part-00165-50f14a9a-3887-4e87-ae73-bbbf8de9d3cf-c000.csv.crc\n",
      "08/18/2022  08:50 AM                12 .part-00166-50f14a9a-3887-4e87-ae73-bbbf8de9d3cf-c000.csv.crc\n",
      "08/18/2022  08:50 AM                12 .part-00167-50f14a9a-3887-4e87-ae73-bbbf8de9d3cf-c000.csv.crc\n",
      "08/18/2022  08:50 AM                12 .part-00168-50f14a9a-3887-4e87-ae73-bbbf8de9d3cf-c000.csv.crc\n",
      "08/18/2022  08:50 AM                12 .part-00169-50f14a9a-3887-4e87-ae73-bbbf8de9d3cf-c000.csv.crc\n",
      "08/18/2022  08:50 AM                12 .part-00170-50f14a9a-3887-4e87-ae73-bbbf8de9d3cf-c000.csv.crc\n",
      "08/18/2022  08:50 AM                12 .part-00171-50f14a9a-3887-4e87-ae73-bbbf8de9d3cf-c000.csv.crc\n",
      "08/18/2022  08:50 AM                12 .part-00172-50f14a9a-3887-4e87-ae73-bbbf8de9d3cf-c000.csv.crc\n",
      "08/18/2022  08:50 AM                12 .part-00173-50f14a9a-3887-4e87-ae73-bbbf8de9d3cf-c000.csv.crc\n",
      "08/18/2022  08:50 AM                12 .part-00174-50f14a9a-3887-4e87-ae73-bbbf8de9d3cf-c000.csv.crc\n",
      "08/18/2022  08:50 AM                12 .part-00175-50f14a9a-3887-4e87-ae73-bbbf8de9d3cf-c000.csv.crc\n",
      "08/18/2022  08:50 AM                12 .part-00176-50f14a9a-3887-4e87-ae73-bbbf8de9d3cf-c000.csv.crc\n",
      "08/18/2022  08:50 AM                12 .part-00177-50f14a9a-3887-4e87-ae73-bbbf8de9d3cf-c000.csv.crc\n",
      "08/18/2022  08:50 AM                12 .part-00178-50f14a9a-3887-4e87-ae73-bbbf8de9d3cf-c000.csv.crc\n",
      "08/18/2022  08:50 AM                12 .part-00179-50f14a9a-3887-4e87-ae73-bbbf8de9d3cf-c000.csv.crc\n",
      "08/18/2022  08:50 AM                12 .part-00180-50f14a9a-3887-4e87-ae73-bbbf8de9d3cf-c000.csv.crc\n",
      "08/18/2022  08:50 AM                12 .part-00181-50f14a9a-3887-4e87-ae73-bbbf8de9d3cf-c000.csv.crc\n",
      "08/18/2022  08:50 AM                12 .part-00182-50f14a9a-3887-4e87-ae73-bbbf8de9d3cf-c000.csv.crc\n",
      "08/18/2022  08:50 AM                12 .part-00183-50f14a9a-3887-4e87-ae73-bbbf8de9d3cf-c000.csv.crc\n",
      "08/18/2022  08:50 AM                12 .part-00184-50f14a9a-3887-4e87-ae73-bbbf8de9d3cf-c000.csv.crc\n",
      "08/18/2022  08:50 AM                12 .part-00185-50f14a9a-3887-4e87-ae73-bbbf8de9d3cf-c000.csv.crc\n",
      "08/18/2022  08:50 AM                12 .part-00186-50f14a9a-3887-4e87-ae73-bbbf8de9d3cf-c000.csv.crc\n",
      "08/18/2022  08:50 AM                12 .part-00187-50f14a9a-3887-4e87-ae73-bbbf8de9d3cf-c000.csv.crc\n",
      "08/18/2022  08:50 AM                12 .part-00188-50f14a9a-3887-4e87-ae73-bbbf8de9d3cf-c000.csv.crc\n",
      "08/18/2022  08:50 AM                12 .part-00189-50f14a9a-3887-4e87-ae73-bbbf8de9d3cf-c000.csv.crc\n",
      "08/18/2022  08:50 AM                12 .part-00190-50f14a9a-3887-4e87-ae73-bbbf8de9d3cf-c000.csv.crc\n",
      "08/18/2022  08:50 AM                12 .part-00191-50f14a9a-3887-4e87-ae73-bbbf8de9d3cf-c000.csv.crc\n",
      "08/18/2022  08:50 AM                12 .part-00192-50f14a9a-3887-4e87-ae73-bbbf8de9d3cf-c000.csv.crc\n",
      "08/18/2022  08:50 AM                12 .part-00193-50f14a9a-3887-4e87-ae73-bbbf8de9d3cf-c000.csv.crc\n",
      "08/18/2022  08:50 AM                12 .part-00194-50f14a9a-3887-4e87-ae73-bbbf8de9d3cf-c000.csv.crc\n",
      "08/18/2022  08:50 AM                12 .part-00195-50f14a9a-3887-4e87-ae73-bbbf8de9d3cf-c000.csv.crc\n",
      "08/18/2022  08:50 AM                12 .part-00196-50f14a9a-3887-4e87-ae73-bbbf8de9d3cf-c000.csv.crc\n",
      "08/18/2022  08:50 AM                12 .part-00197-50f14a9a-3887-4e87-ae73-bbbf8de9d3cf-c000.csv.crc\n",
      "08/18/2022  08:50 AM                12 .part-00198-50f14a9a-3887-4e87-ae73-bbbf8de9d3cf-c000.csv.crc\n",
      "08/18/2022  08:50 AM                12 .part-00199-50f14a9a-3887-4e87-ae73-bbbf8de9d3cf-c000.csv.crc\n",
      "08/18/2022  08:50 AM                 0 _SUCCESS\n",
      "08/18/2022  08:50 AM               136 part-00000-50f14a9a-3887-4e87-ae73-bbbf8de9d3cf-c000.csv\n",
      "08/18/2022  08:50 AM               158 part-00001-50f14a9a-3887-4e87-ae73-bbbf8de9d3cf-c000.csv\n",
      "08/18/2022  08:50 AM               145 part-00002-50f14a9a-3887-4e87-ae73-bbbf8de9d3cf-c000.csv\n",
      "08/18/2022  08:50 AM               157 part-00003-50f14a9a-3887-4e87-ae73-bbbf8de9d3cf-c000.csv\n",
      "08/18/2022  08:50 AM               116 part-00004-50f14a9a-3887-4e87-ae73-bbbf8de9d3cf-c000.csv\n",
      "08/18/2022  08:50 AM               110 part-00005-50f14a9a-3887-4e87-ae73-bbbf8de9d3cf-c000.csv\n",
      "08/18/2022  08:50 AM               113 part-00006-50f14a9a-3887-4e87-ae73-bbbf8de9d3cf-c000.csv\n",
      "08/18/2022  08:50 AM               128 part-00007-50f14a9a-3887-4e87-ae73-bbbf8de9d3cf-c000.csv\n",
      "08/18/2022  08:50 AM                93 part-00008-50f14a9a-3887-4e87-ae73-bbbf8de9d3cf-c000.csv\n",
      "08/18/2022  08:50 AM               104 part-00009-50f14a9a-3887-4e87-ae73-bbbf8de9d3cf-c000.csv\n",
      "08/18/2022  08:50 AM               122 part-00010-50f14a9a-3887-4e87-ae73-bbbf8de9d3cf-c000.csv\n",
      "08/18/2022  08:50 AM               120 part-00011-50f14a9a-3887-4e87-ae73-bbbf8de9d3cf-c000.csv\n",
      "08/18/2022  08:50 AM               114 part-00012-50f14a9a-3887-4e87-ae73-bbbf8de9d3cf-c000.csv\n",
      "08/18/2022  08:50 AM               280 part-00013-50f14a9a-3887-4e87-ae73-bbbf8de9d3cf-c000.csv\n",
      "08/18/2022  08:50 AM               201 part-00014-50f14a9a-3887-4e87-ae73-bbbf8de9d3cf-c000.csv\n",
      "08/18/2022  08:50 AM               143 part-00015-50f14a9a-3887-4e87-ae73-bbbf8de9d3cf-c000.csv\n",
      "08/18/2022  08:50 AM               121 part-00016-50f14a9a-3887-4e87-ae73-bbbf8de9d3cf-c000.csv\n",
      "08/18/2022  08:50 AM               266 part-00017-50f14a9a-3887-4e87-ae73-bbbf8de9d3cf-c000.csv\n",
      "08/18/2022  08:50 AM                72 part-00018-50f14a9a-3887-4e87-ae73-bbbf8de9d3cf-c000.csv\n",
      "08/18/2022  08:50 AM               160 part-00019-50f14a9a-3887-4e87-ae73-bbbf8de9d3cf-c000.csv\n",
      "08/18/2022  08:50 AM               133 part-00020-50f14a9a-3887-4e87-ae73-bbbf8de9d3cf-c000.csv\n",
      "08/18/2022  08:50 AM               164 part-00021-50f14a9a-3887-4e87-ae73-bbbf8de9d3cf-c000.csv\n",
      "08/18/2022  08:50 AM               119 part-00022-50f14a9a-3887-4e87-ae73-bbbf8de9d3cf-c000.csv\n",
      "08/18/2022  08:50 AM               153 part-00023-50f14a9a-3887-4e87-ae73-bbbf8de9d3cf-c000.csv\n",
      "08/18/2022  08:50 AM               154 part-00024-50f14a9a-3887-4e87-ae73-bbbf8de9d3cf-c000.csv\n",
      "08/18/2022  08:50 AM               123 part-00025-50f14a9a-3887-4e87-ae73-bbbf8de9d3cf-c000.csv\n",
      "08/18/2022  08:50 AM               126 part-00026-50f14a9a-3887-4e87-ae73-bbbf8de9d3cf-c000.csv\n",
      "08/18/2022  08:50 AM               154 part-00027-50f14a9a-3887-4e87-ae73-bbbf8de9d3cf-c000.csv\n",
      "08/18/2022  08:50 AM               136 part-00028-50f14a9a-3887-4e87-ae73-bbbf8de9d3cf-c000.csv\n",
      "08/18/2022  08:50 AM               158 part-00029-50f14a9a-3887-4e87-ae73-bbbf8de9d3cf-c000.csv\n",
      "08/18/2022  08:50 AM               281 part-00030-50f14a9a-3887-4e87-ae73-bbbf8de9d3cf-c000.csv\n",
      "08/18/2022  08:50 AM               217 part-00031-50f14a9a-3887-4e87-ae73-bbbf8de9d3cf-c000.csv\n",
      "08/18/2022  08:50 AM               197 part-00032-50f14a9a-3887-4e87-ae73-bbbf8de9d3cf-c000.csv\n",
      "08/18/2022  08:50 AM               222 part-00033-50f14a9a-3887-4e87-ae73-bbbf8de9d3cf-c000.csv\n",
      "08/18/2022  08:50 AM               259 part-00034-50f14a9a-3887-4e87-ae73-bbbf8de9d3cf-c000.csv\n",
      "08/18/2022  08:50 AM               153 part-00035-50f14a9a-3887-4e87-ae73-bbbf8de9d3cf-c000.csv\n",
      "08/18/2022  08:50 AM               145 part-00036-50f14a9a-3887-4e87-ae73-bbbf8de9d3cf-c000.csv\n",
      "08/18/2022  08:50 AM                80 part-00037-50f14a9a-3887-4e87-ae73-bbbf8de9d3cf-c000.csv\n",
      "08/18/2022  08:50 AM               164 part-00038-50f14a9a-3887-4e87-ae73-bbbf8de9d3cf-c000.csv\n",
      "08/18/2022  08:50 AM                80 part-00039-50f14a9a-3887-4e87-ae73-bbbf8de9d3cf-c000.csv\n",
      "08/18/2022  08:50 AM               126 part-00040-50f14a9a-3887-4e87-ae73-bbbf8de9d3cf-c000.csv\n",
      "08/18/2022  08:50 AM               205 part-00041-50f14a9a-3887-4e87-ae73-bbbf8de9d3cf-c000.csv\n",
      "08/18/2022  08:50 AM               182 part-00042-50f14a9a-3887-4e87-ae73-bbbf8de9d3cf-c000.csv\n",
      "08/18/2022  08:50 AM               137 part-00043-50f14a9a-3887-4e87-ae73-bbbf8de9d3cf-c000.csv\n",
      "08/18/2022  08:50 AM                86 part-00044-50f14a9a-3887-4e87-ae73-bbbf8de9d3cf-c000.csv\n",
      "08/18/2022  08:50 AM               171 part-00045-50f14a9a-3887-4e87-ae73-bbbf8de9d3cf-c000.csv\n",
      "08/18/2022  08:50 AM               141 part-00046-50f14a9a-3887-4e87-ae73-bbbf8de9d3cf-c000.csv\n",
      "08/18/2022  08:50 AM               126 part-00047-50f14a9a-3887-4e87-ae73-bbbf8de9d3cf-c000.csv\n",
      "08/18/2022  08:50 AM                80 part-00048-50f14a9a-3887-4e87-ae73-bbbf8de9d3cf-c000.csv\n",
      "08/18/2022  08:50 AM               154 part-00049-50f14a9a-3887-4e87-ae73-bbbf8de9d3cf-c000.csv\n",
      "08/18/2022  08:50 AM               144 part-00050-50f14a9a-3887-4e87-ae73-bbbf8de9d3cf-c000.csv\n"
     ]
    },
    {
     "name": "stdout",
     "output_type": "stream",
     "text": [
      "08/18/2022  08:50 AM                95 part-00051-50f14a9a-3887-4e87-ae73-bbbf8de9d3cf-c000.csv\n",
      "08/18/2022  08:50 AM               139 part-00052-50f14a9a-3887-4e87-ae73-bbbf8de9d3cf-c000.csv\n",
      "08/18/2022  08:50 AM               170 part-00053-50f14a9a-3887-4e87-ae73-bbbf8de9d3cf-c000.csv\n",
      "08/18/2022  08:50 AM               120 part-00054-50f14a9a-3887-4e87-ae73-bbbf8de9d3cf-c000.csv\n",
      "08/18/2022  08:50 AM                90 part-00055-50f14a9a-3887-4e87-ae73-bbbf8de9d3cf-c000.csv\n",
      "08/18/2022  08:50 AM               130 part-00056-50f14a9a-3887-4e87-ae73-bbbf8de9d3cf-c000.csv\n",
      "08/18/2022  08:50 AM               159 part-00057-50f14a9a-3887-4e87-ae73-bbbf8de9d3cf-c000.csv\n",
      "08/18/2022  08:50 AM               119 part-00058-50f14a9a-3887-4e87-ae73-bbbf8de9d3cf-c000.csv\n",
      "08/18/2022  08:50 AM               170 part-00059-50f14a9a-3887-4e87-ae73-bbbf8de9d3cf-c000.csv\n",
      "08/18/2022  08:50 AM               117 part-00060-50f14a9a-3887-4e87-ae73-bbbf8de9d3cf-c000.csv\n",
      "08/18/2022  08:50 AM               157 part-00061-50f14a9a-3887-4e87-ae73-bbbf8de9d3cf-c000.csv\n",
      "08/18/2022  08:50 AM               142 part-00062-50f14a9a-3887-4e87-ae73-bbbf8de9d3cf-c000.csv\n",
      "08/18/2022  08:50 AM               193 part-00063-50f14a9a-3887-4e87-ae73-bbbf8de9d3cf-c000.csv\n",
      "08/18/2022  08:50 AM               146 part-00064-50f14a9a-3887-4e87-ae73-bbbf8de9d3cf-c000.csv\n",
      "08/18/2022  08:50 AM               194 part-00065-50f14a9a-3887-4e87-ae73-bbbf8de9d3cf-c000.csv\n",
      "08/18/2022  08:50 AM               154 part-00066-50f14a9a-3887-4e87-ae73-bbbf8de9d3cf-c000.csv\n",
      "08/18/2022  08:50 AM               156 part-00067-50f14a9a-3887-4e87-ae73-bbbf8de9d3cf-c000.csv\n",
      "08/18/2022  08:50 AM                89 part-00068-50f14a9a-3887-4e87-ae73-bbbf8de9d3cf-c000.csv\n",
      "08/18/2022  08:50 AM               134 part-00069-50f14a9a-3887-4e87-ae73-bbbf8de9d3cf-c000.csv\n",
      "08/18/2022  08:50 AM               122 part-00070-50f14a9a-3887-4e87-ae73-bbbf8de9d3cf-c000.csv\n",
      "08/18/2022  08:50 AM               126 part-00071-50f14a9a-3887-4e87-ae73-bbbf8de9d3cf-c000.csv\n",
      "08/18/2022  08:50 AM               191 part-00072-50f14a9a-3887-4e87-ae73-bbbf8de9d3cf-c000.csv\n",
      "08/18/2022  08:50 AM               134 part-00073-50f14a9a-3887-4e87-ae73-bbbf8de9d3cf-c000.csv\n",
      "08/18/2022  08:50 AM               104 part-00074-50f14a9a-3887-4e87-ae73-bbbf8de9d3cf-c000.csv\n",
      "08/18/2022  08:50 AM               227 part-00075-50f14a9a-3887-4e87-ae73-bbbf8de9d3cf-c000.csv\n",
      "08/18/2022  08:50 AM               163 part-00076-50f14a9a-3887-4e87-ae73-bbbf8de9d3cf-c000.csv\n",
      "08/18/2022  08:50 AM               180 part-00077-50f14a9a-3887-4e87-ae73-bbbf8de9d3cf-c000.csv\n",
      "08/18/2022  08:50 AM               214 part-00078-50f14a9a-3887-4e87-ae73-bbbf8de9d3cf-c000.csv\n",
      "08/18/2022  08:50 AM               143 part-00079-50f14a9a-3887-4e87-ae73-bbbf8de9d3cf-c000.csv\n",
      "08/18/2022  08:50 AM               130 part-00080-50f14a9a-3887-4e87-ae73-bbbf8de9d3cf-c000.csv\n",
      "08/18/2022  08:50 AM               156 part-00081-50f14a9a-3887-4e87-ae73-bbbf8de9d3cf-c000.csv\n",
      "08/18/2022  08:50 AM               179 part-00082-50f14a9a-3887-4e87-ae73-bbbf8de9d3cf-c000.csv\n",
      "08/18/2022  08:50 AM               115 part-00083-50f14a9a-3887-4e87-ae73-bbbf8de9d3cf-c000.csv\n",
      "08/18/2022  08:50 AM               137 part-00084-50f14a9a-3887-4e87-ae73-bbbf8de9d3cf-c000.csv\n",
      "08/18/2022  08:50 AM               136 part-00085-50f14a9a-3887-4e87-ae73-bbbf8de9d3cf-c000.csv\n",
      "08/18/2022  08:50 AM               132 part-00086-50f14a9a-3887-4e87-ae73-bbbf8de9d3cf-c000.csv\n",
      "08/18/2022  08:50 AM               121 part-00087-50f14a9a-3887-4e87-ae73-bbbf8de9d3cf-c000.csv\n",
      "08/18/2022  08:50 AM               147 part-00088-50f14a9a-3887-4e87-ae73-bbbf8de9d3cf-c000.csv\n",
      "08/18/2022  08:50 AM                91 part-00089-50f14a9a-3887-4e87-ae73-bbbf8de9d3cf-c000.csv\n",
      "08/18/2022  08:50 AM               192 part-00090-50f14a9a-3887-4e87-ae73-bbbf8de9d3cf-c000.csv\n",
      "08/18/2022  08:50 AM               191 part-00091-50f14a9a-3887-4e87-ae73-bbbf8de9d3cf-c000.csv\n",
      "08/18/2022  08:50 AM                93 part-00092-50f14a9a-3887-4e87-ae73-bbbf8de9d3cf-c000.csv\n",
      "08/18/2022  08:50 AM               134 part-00093-50f14a9a-3887-4e87-ae73-bbbf8de9d3cf-c000.csv\n",
      "08/18/2022  08:50 AM               144 part-00094-50f14a9a-3887-4e87-ae73-bbbf8de9d3cf-c000.csv\n",
      "08/18/2022  08:50 AM               156 part-00095-50f14a9a-3887-4e87-ae73-bbbf8de9d3cf-c000.csv\n",
      "08/18/2022  08:50 AM               178 part-00096-50f14a9a-3887-4e87-ae73-bbbf8de9d3cf-c000.csv\n",
      "08/18/2022  08:50 AM               215 part-00097-50f14a9a-3887-4e87-ae73-bbbf8de9d3cf-c000.csv\n",
      "08/18/2022  08:50 AM               117 part-00098-50f14a9a-3887-4e87-ae73-bbbf8de9d3cf-c000.csv\n",
      "08/18/2022  08:50 AM               172 part-00099-50f14a9a-3887-4e87-ae73-bbbf8de9d3cf-c000.csv\n",
      "08/18/2022  08:50 AM               204 part-00100-50f14a9a-3887-4e87-ae73-bbbf8de9d3cf-c000.csv\n",
      "08/18/2022  08:50 AM               153 part-00101-50f14a9a-3887-4e87-ae73-bbbf8de9d3cf-c000.csv\n",
      "08/18/2022  08:50 AM               169 part-00102-50f14a9a-3887-4e87-ae73-bbbf8de9d3cf-c000.csv\n",
      "08/18/2022  08:50 AM               102 part-00103-50f14a9a-3887-4e87-ae73-bbbf8de9d3cf-c000.csv\n",
      "08/18/2022  08:50 AM               130 part-00104-50f14a9a-3887-4e87-ae73-bbbf8de9d3cf-c000.csv\n",
      "08/18/2022  08:50 AM               187 part-00105-50f14a9a-3887-4e87-ae73-bbbf8de9d3cf-c000.csv\n",
      "08/18/2022  08:50 AM               199 part-00106-50f14a9a-3887-4e87-ae73-bbbf8de9d3cf-c000.csv\n",
      "08/18/2022  08:50 AM               242 part-00107-50f14a9a-3887-4e87-ae73-bbbf8de9d3cf-c000.csv\n",
      "08/18/2022  08:50 AM               163 part-00108-50f14a9a-3887-4e87-ae73-bbbf8de9d3cf-c000.csv\n",
      "08/18/2022  08:50 AM               170 part-00109-50f14a9a-3887-4e87-ae73-bbbf8de9d3cf-c000.csv\n",
      "08/18/2022  08:50 AM               253 part-00110-50f14a9a-3887-4e87-ae73-bbbf8de9d3cf-c000.csv\n",
      "08/18/2022  08:50 AM                76 part-00111-50f14a9a-3887-4e87-ae73-bbbf8de9d3cf-c000.csv\n",
      "08/18/2022  08:50 AM               197 part-00112-50f14a9a-3887-4e87-ae73-bbbf8de9d3cf-c000.csv\n",
      "08/18/2022  08:50 AM               223 part-00113-50f14a9a-3887-4e87-ae73-bbbf8de9d3cf-c000.csv\n",
      "08/18/2022  08:50 AM               129 part-00114-50f14a9a-3887-4e87-ae73-bbbf8de9d3cf-c000.csv\n",
      "08/18/2022  08:50 AM               110 part-00115-50f14a9a-3887-4e87-ae73-bbbf8de9d3cf-c000.csv\n",
      "08/18/2022  08:50 AM               187 part-00116-50f14a9a-3887-4e87-ae73-bbbf8de9d3cf-c000.csv\n",
      "08/18/2022  08:50 AM                84 part-00117-50f14a9a-3887-4e87-ae73-bbbf8de9d3cf-c000.csv\n",
      "08/18/2022  08:50 AM               147 part-00118-50f14a9a-3887-4e87-ae73-bbbf8de9d3cf-c000.csv\n",
      "08/18/2022  08:50 AM                96 part-00119-50f14a9a-3887-4e87-ae73-bbbf8de9d3cf-c000.csv\n",
      "08/18/2022  08:50 AM               167 part-00120-50f14a9a-3887-4e87-ae73-bbbf8de9d3cf-c000.csv\n",
      "08/18/2022  08:50 AM               188 part-00121-50f14a9a-3887-4e87-ae73-bbbf8de9d3cf-c000.csv\n",
      "08/18/2022  08:50 AM               161 part-00122-50f14a9a-3887-4e87-ae73-bbbf8de9d3cf-c000.csv\n",
      "08/18/2022  08:50 AM               171 part-00123-50f14a9a-3887-4e87-ae73-bbbf8de9d3cf-c000.csv\n",
      "08/18/2022  08:50 AM               155 part-00124-50f14a9a-3887-4e87-ae73-bbbf8de9d3cf-c000.csv\n",
      "08/18/2022  08:50 AM               112 part-00125-50f14a9a-3887-4e87-ae73-bbbf8de9d3cf-c000.csv\n",
      "08/18/2022  08:50 AM               151 part-00126-50f14a9a-3887-4e87-ae73-bbbf8de9d3cf-c000.csv\n",
      "08/18/2022  08:50 AM               211 part-00127-50f14a9a-3887-4e87-ae73-bbbf8de9d3cf-c000.csv\n",
      "08/18/2022  08:50 AM               106 part-00128-50f14a9a-3887-4e87-ae73-bbbf8de9d3cf-c000.csv\n",
      "08/18/2022  08:50 AM               185 part-00129-50f14a9a-3887-4e87-ae73-bbbf8de9d3cf-c000.csv\n",
      "08/18/2022  08:50 AM               142 part-00130-50f14a9a-3887-4e87-ae73-bbbf8de9d3cf-c000.csv\n",
      "08/18/2022  08:50 AM               163 part-00131-50f14a9a-3887-4e87-ae73-bbbf8de9d3cf-c000.csv\n",
      "08/18/2022  08:50 AM                94 part-00132-50f14a9a-3887-4e87-ae73-bbbf8de9d3cf-c000.csv\n",
      "08/18/2022  08:50 AM               240 part-00133-50f14a9a-3887-4e87-ae73-bbbf8de9d3cf-c000.csv\n",
      "08/18/2022  08:50 AM                85 part-00134-50f14a9a-3887-4e87-ae73-bbbf8de9d3cf-c000.csv\n",
      "08/18/2022  08:50 AM               159 part-00135-50f14a9a-3887-4e87-ae73-bbbf8de9d3cf-c000.csv\n",
      "08/18/2022  08:50 AM               178 part-00136-50f14a9a-3887-4e87-ae73-bbbf8de9d3cf-c000.csv\n",
      "08/18/2022  08:50 AM               156 part-00137-50f14a9a-3887-4e87-ae73-bbbf8de9d3cf-c000.csv\n",
      "08/18/2022  08:50 AM               155 part-00138-50f14a9a-3887-4e87-ae73-bbbf8de9d3cf-c000.csv\n",
      "08/18/2022  08:50 AM               194 part-00139-50f14a9a-3887-4e87-ae73-bbbf8de9d3cf-c000.csv\n",
      "08/18/2022  08:50 AM               174 part-00140-50f14a9a-3887-4e87-ae73-bbbf8de9d3cf-c000.csv\n",
      "08/18/2022  08:50 AM               206 part-00141-50f14a9a-3887-4e87-ae73-bbbf8de9d3cf-c000.csv\n",
      "08/18/2022  08:50 AM               154 part-00142-50f14a9a-3887-4e87-ae73-bbbf8de9d3cf-c000.csv\n",
      "08/18/2022  08:50 AM               130 part-00143-50f14a9a-3887-4e87-ae73-bbbf8de9d3cf-c000.csv\n",
      "08/18/2022  08:50 AM               155 part-00144-50f14a9a-3887-4e87-ae73-bbbf8de9d3cf-c000.csv\n",
      "08/18/2022  08:50 AM               122 part-00145-50f14a9a-3887-4e87-ae73-bbbf8de9d3cf-c000.csv\n",
      "08/18/2022  08:50 AM               113 part-00146-50f14a9a-3887-4e87-ae73-bbbf8de9d3cf-c000.csv\n",
      "08/18/2022  08:50 AM               136 part-00147-50f14a9a-3887-4e87-ae73-bbbf8de9d3cf-c000.csv\n",
      "08/18/2022  08:50 AM               163 part-00148-50f14a9a-3887-4e87-ae73-bbbf8de9d3cf-c000.csv\n",
      "08/18/2022  08:50 AM               158 part-00149-50f14a9a-3887-4e87-ae73-bbbf8de9d3cf-c000.csv\n",
      "08/18/2022  08:50 AM               145 part-00150-50f14a9a-3887-4e87-ae73-bbbf8de9d3cf-c000.csv\n",
      "08/18/2022  08:50 AM                88 part-00151-50f14a9a-3887-4e87-ae73-bbbf8de9d3cf-c000.csv\n",
      "08/18/2022  08:50 AM               130 part-00152-50f14a9a-3887-4e87-ae73-bbbf8de9d3cf-c000.csv\n",
      "08/18/2022  08:50 AM               163 part-00153-50f14a9a-3887-4e87-ae73-bbbf8de9d3cf-c000.csv\n",
      "08/18/2022  08:50 AM                96 part-00154-50f14a9a-3887-4e87-ae73-bbbf8de9d3cf-c000.csv\n",
      "08/18/2022  08:50 AM               172 part-00155-50f14a9a-3887-4e87-ae73-bbbf8de9d3cf-c000.csv\n",
      "08/18/2022  08:50 AM               222 part-00156-50f14a9a-3887-4e87-ae73-bbbf8de9d3cf-c000.csv\n",
      "08/18/2022  08:50 AM               107 part-00157-50f14a9a-3887-4e87-ae73-bbbf8de9d3cf-c000.csv\n",
      "08/18/2022  08:50 AM                80 part-00158-50f14a9a-3887-4e87-ae73-bbbf8de9d3cf-c000.csv\n",
      "08/18/2022  08:50 AM               232 part-00159-50f14a9a-3887-4e87-ae73-bbbf8de9d3cf-c000.csv\n",
      "08/18/2022  08:50 AM               147 part-00160-50f14a9a-3887-4e87-ae73-bbbf8de9d3cf-c000.csv\n",
      "08/18/2022  08:50 AM               176 part-00161-50f14a9a-3887-4e87-ae73-bbbf8de9d3cf-c000.csv\n",
      "08/18/2022  08:50 AM               166 part-00162-50f14a9a-3887-4e87-ae73-bbbf8de9d3cf-c000.csv\n",
      "08/18/2022  08:50 AM               177 part-00163-50f14a9a-3887-4e87-ae73-bbbf8de9d3cf-c000.csv\n",
      "08/18/2022  08:50 AM               193 part-00164-50f14a9a-3887-4e87-ae73-bbbf8de9d3cf-c000.csv\n",
      "08/18/2022  08:50 AM               158 part-00165-50f14a9a-3887-4e87-ae73-bbbf8de9d3cf-c000.csv\n",
      "08/18/2022  08:50 AM               215 part-00166-50f14a9a-3887-4e87-ae73-bbbf8de9d3cf-c000.csv\n",
      "08/18/2022  08:50 AM               215 part-00167-50f14a9a-3887-4e87-ae73-bbbf8de9d3cf-c000.csv\n",
      "08/18/2022  08:50 AM               127 part-00168-50f14a9a-3887-4e87-ae73-bbbf8de9d3cf-c000.csv\n",
      "08/18/2022  08:50 AM                79 part-00169-50f14a9a-3887-4e87-ae73-bbbf8de9d3cf-c000.csv\n",
      "08/18/2022  08:50 AM               144 part-00170-50f14a9a-3887-4e87-ae73-bbbf8de9d3cf-c000.csv\n",
      "08/18/2022  08:50 AM               125 part-00171-50f14a9a-3887-4e87-ae73-bbbf8de9d3cf-c000.csv\n",
      "08/18/2022  08:50 AM               148 part-00172-50f14a9a-3887-4e87-ae73-bbbf8de9d3cf-c000.csv\n",
      "08/18/2022  08:50 AM               137 part-00173-50f14a9a-3887-4e87-ae73-bbbf8de9d3cf-c000.csv\n",
      "08/18/2022  08:50 AM               145 part-00174-50f14a9a-3887-4e87-ae73-bbbf8de9d3cf-c000.csv\n",
      "08/18/2022  08:50 AM               122 part-00175-50f14a9a-3887-4e87-ae73-bbbf8de9d3cf-c000.csv\n",
      "08/18/2022  08:50 AM               146 part-00176-50f14a9a-3887-4e87-ae73-bbbf8de9d3cf-c000.csv\n",
      "08/18/2022  08:50 AM               172 part-00177-50f14a9a-3887-4e87-ae73-bbbf8de9d3cf-c000.csv\n",
      "08/18/2022  08:50 AM               169 part-00178-50f14a9a-3887-4e87-ae73-bbbf8de9d3cf-c000.csv\n",
      "08/18/2022  08:50 AM               180 part-00179-50f14a9a-3887-4e87-ae73-bbbf8de9d3cf-c000.csv\n",
      "08/18/2022  08:50 AM               145 part-00180-50f14a9a-3887-4e87-ae73-bbbf8de9d3cf-c000.csv\n",
      "08/18/2022  08:50 AM               177 part-00181-50f14a9a-3887-4e87-ae73-bbbf8de9d3cf-c000.csv\n",
      "08/18/2022  08:50 AM               172 part-00182-50f14a9a-3887-4e87-ae73-bbbf8de9d3cf-c000.csv\n",
      "08/18/2022  08:50 AM               248 part-00183-50f14a9a-3887-4e87-ae73-bbbf8de9d3cf-c000.csv\n",
      "08/18/2022  08:50 AM               180 part-00184-50f14a9a-3887-4e87-ae73-bbbf8de9d3cf-c000.csv\n",
      "08/18/2022  08:50 AM               264 part-00185-50f14a9a-3887-4e87-ae73-bbbf8de9d3cf-c000.csv\n",
      "08/18/2022  08:50 AM               149 part-00186-50f14a9a-3887-4e87-ae73-bbbf8de9d3cf-c000.csv\n",
      "08/18/2022  08:50 AM               145 part-00187-50f14a9a-3887-4e87-ae73-bbbf8de9d3cf-c000.csv\n",
      "08/18/2022  08:50 AM               217 part-00188-50f14a9a-3887-4e87-ae73-bbbf8de9d3cf-c000.csv\n",
      "08/18/2022  08:50 AM               246 part-00189-50f14a9a-3887-4e87-ae73-bbbf8de9d3cf-c000.csv\n",
      "08/18/2022  08:50 AM               242 part-00190-50f14a9a-3887-4e87-ae73-bbbf8de9d3cf-c000.csv\n",
      "08/18/2022  08:50 AM               129 part-00191-50f14a9a-3887-4e87-ae73-bbbf8de9d3cf-c000.csv\n",
      "08/18/2022  08:50 AM               154 part-00192-50f14a9a-3887-4e87-ae73-bbbf8de9d3cf-c000.csv\n",
      "08/18/2022  08:50 AM               178 part-00193-50f14a9a-3887-4e87-ae73-bbbf8de9d3cf-c000.csv\n",
      "08/18/2022  08:50 AM               191 part-00194-50f14a9a-3887-4e87-ae73-bbbf8de9d3cf-c000.csv\n",
      "08/18/2022  08:50 AM               143 part-00195-50f14a9a-3887-4e87-ae73-bbbf8de9d3cf-c000.csv\n",
      "08/18/2022  08:50 AM               116 part-00196-50f14a9a-3887-4e87-ae73-bbbf8de9d3cf-c000.csv\n",
      "08/18/2022  08:50 AM               152 part-00197-50f14a9a-3887-4e87-ae73-bbbf8de9d3cf-c000.csv\n",
      "08/18/2022  08:50 AM               255 part-00198-50f14a9a-3887-4e87-ae73-bbbf8de9d3cf-c000.csv\n",
      "08/18/2022  08:50 AM               132 part-00199-50f14a9a-3887-4e87-ae73-bbbf8de9d3cf-c000.csv\n",
      "             402 File(s)         33,367 bytes\n",
      "               2 Dir(s)  84,648,488,960 bytes free\n"
     ]
    }
   ],
   "source": [
    "ls my_count.csv"
   ]
  },
  {
   "cell_type": "markdown",
   "id": "938a55c7",
   "metadata": {},
   "source": [
    "You can reduce the number of partitions with the `coalesce` method and set your desired number of partitions. I'm going to put one file per partition."
   ]
  },
  {
   "cell_type": "code",
   "execution_count": 27,
   "id": "e77eab96",
   "metadata": {},
   "outputs": [],
   "source": [
    "results.coalesce(1).write.csv(\"my_single_partition.csv\")"
   ]
  },
  {
   "cell_type": "markdown",
   "id": "73f0239a",
   "metadata": {},
   "source": [
    "Let's take a look at this file."
   ]
  },
  {
   "cell_type": "code",
   "execution_count": 28,
   "id": "337def8e",
   "metadata": {},
   "outputs": [
    {
     "name": "stdout",
     "output_type": "stream",
     "text": [
      " Volume in drive D is Yeni Birim\n",
      " Volume Serial Number is B6A7-CDC9\n",
      "\n",
      " Directory of D:\\Videolar\\Tirendaz\\Books-Notebook-Notes\\Pyspark\\Hands-on PySpark\\my_single_partition.csv\n",
      "\n",
      "08/18/2022  08:51 AM    <DIR>          .\n",
      "08/18/2022  08:51 AM    <DIR>          ..\n",
      "08/18/2022  08:51 AM                 8 ._SUCCESS.crc\n",
      "08/18/2022  08:51 AM               252 .part-00000-9feb981b-09b0-41d5-a9e2-1c0f04dc8a17-c000.csv.crc\n",
      "08/18/2022  08:51 AM                 0 _SUCCESS\n",
      "08/18/2022  08:51 AM            30,959 part-00000-9feb981b-09b0-41d5-a9e2-1c0f04dc8a17-c000.csv\n",
      "               4 File(s)         31,219 bytes\n",
      "               2 Dir(s)  84,648,456,192 bytes free\n"
     ]
    }
   ],
   "source": [
    "ls my_single_partition.csv"
   ]
  },
  {
   "cell_type": "markdown",
   "id": "032ea598",
   "metadata": {},
   "source": [
    "Nice we wrote our record in a CSV file."
   ]
  },
  {
   "cell_type": "markdown",
   "id": "15b11f70",
   "metadata": {},
   "source": [
    "## Conclusion"
   ]
  },
  {
   "cell_type": "markdown",
   "id": "13620c11",
   "metadata": {},
   "source": [
    "In this notebook, I showed you how to use PySpark for analyzing a data. I hope you enjoy it. "
   ]
  },
  {
   "cell_type": "markdown",
   "id": "f3684157",
   "metadata": {},
   "source": [
    "Don't forget to follow us on [YouTube](http://youtube.com/tirendazacademy) | [Medium](http://tirendazacademy.medium.com) | [Twitter](http://twitter.com/tirendazacademy) | [GitHub](http://github.com/tirendazacademy) | [Linkedin](https://www.linkedin.com/in/tirendaz-academy) | [Kaggle](https://www.kaggle.com/tirendazacademy) 😎"
   ]
  }
 ],
 "metadata": {
  "kernelspec": {
   "display_name": "Python 3 (ipykernel)",
   "language": "python",
   "name": "python3"
  },
  "language_info": {
   "codemirror_mode": {
    "name": "ipython",
    "version": 3
   },
   "file_extension": ".py",
   "mimetype": "text/x-python",
   "name": "python",
   "nbconvert_exporter": "python",
   "pygments_lexer": "ipython3",
   "version": "3.10.0"
  }
 },
 "nbformat": 4,
 "nbformat_minor": 5
}
