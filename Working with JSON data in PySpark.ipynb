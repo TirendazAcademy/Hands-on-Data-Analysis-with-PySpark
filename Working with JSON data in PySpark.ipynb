{
 "cells": [
  {
   "cell_type": "markdown",
   "id": "4f99cf61",
   "metadata": {},
   "source": [
    "# Working with JSON data in PySpark"
   ]
  },
  {
   "cell_type": "markdown",
   "id": "54456b0a",
   "metadata": {},
   "source": [
    "- JSON stands for JavaScript Object Notation. JSON data is a long-standing data interchange format that became massively popular for its readability and its relatively small size. \n",
    "\n",
    "- JSON consists of key and value pair. Keys are always strings, and values can take numerical, Boolean, string, or null values."
   ]
  },
  {
   "cell_type": "markdown",
   "id": "67ff0e8a",
   "metadata": {},
   "source": [
    "## 1. Data Ingestion"
   ]
  },
  {
   "cell_type": "code",
   "execution_count": 7,
   "id": "bb80406b",
   "metadata": {},
   "outputs": [],
   "source": [
    "# Creating a SparkSession\n",
    "from pyspark.sql import SparkSession\n",
    "spark = SparkSession.builder.getOrCreate()"
   ]
  },
  {
   "cell_type": "code",
   "execution_count": 8,
   "id": "5d69123e",
   "metadata": {},
   "outputs": [],
   "source": [
    "# Loading a file\n",
    "shows = spark.read.json(\"./data/shows/shows-silicon-valley.json\") \n",
    "shows.count()"
   ]
  },
  {
   "cell_type": "code",
   "execution_count": 10,
   "id": "f12d9fa6",
   "metadata": {},
   "outputs": [],
   "source": [
    "# Loading many files \n",
    "three_shows = spark.read.json(\"./data/shows/shows-*.json\", multiLine=True)\n",
    "three_shows.count()"
   ]
  },
  {
   "cell_type": "markdown",
   "id": "ceebc5eb",
   "metadata": {},
   "source": [
    "## 2. Breaking the second dimension with complex data types"
   ]
  },
  {
   "cell_type": "code",
   "execution_count": 16,
   "id": "e00da79d",
   "metadata": {},
   "outputs": [
    {
     "name": "stdout",
     "output_type": "stream",
     "text": [
      "root\n",
      " |-- _embedded: struct (nullable = true)\n",
      " |    |-- episodes: array (nullable = true)\n",
      " |    |    |-- element: struct (containsNull = true)\n",
      " |    |    |    |-- _links: struct (nullable = true)\n",
      " |    |    |    |    |-- self: struct (nullable = true)\n",
      " |    |    |    |    |    |-- href: string (nullable = true)\n",
      " |    |    |    |-- airdate: string (nullable = true)\n",
      " |    |    |    |-- airstamp: string (nullable = true)\n",
      " |    |    |    |-- airtime: string (nullable = true)\n",
      " |    |    |    |-- id: long (nullable = true)\n",
      " |    |    |    |-- image: struct (nullable = true)\n",
      " |    |    |    |    |-- medium: string (nullable = true)\n",
      " |    |    |    |    |-- original: string (nullable = true)\n",
      " |    |    |    |-- name: string (nullable = true)\n",
      " |    |    |    |-- number: long (nullable = true)\n",
      " |    |    |    |-- runtime: long (nullable = true)\n",
      " |    |    |    |-- season: long (nullable = true)\n",
      " |    |    |    |-- summary: string (nullable = true)\n",
      " |    |    |    |-- url: string (nullable = true)\n",
      " |-- _links: struct (nullable = true)\n",
      " |    |-- previousepisode: struct (nullable = true)\n",
      " |    |    |-- href: string (nullable = true)\n",
      " |    |-- self: struct (nullable = true)\n",
      " |    |    |-- href: string (nullable = true)\n",
      " |-- externals: struct (nullable = true)\n",
      " |    |-- imdb: string (nullable = true)\n",
      " |    |-- thetvdb: long (nullable = true)\n",
      " |    |-- tvrage: long (nullable = true)\n",
      " |-- genres: array (nullable = true)\n",
      " |    |-- element: string (containsNull = true)\n",
      " |-- id: long (nullable = true)\n",
      " |-- image: struct (nullable = true)\n",
      " |    |-- medium: string (nullable = true)\n",
      " |    |-- original: string (nullable = true)\n",
      " |-- language: string (nullable = true)\n",
      " |-- name: string (nullable = true)\n",
      " |-- network: struct (nullable = true)\n",
      " |    |-- country: struct (nullable = true)\n",
      " |    |    |-- code: string (nullable = true)\n",
      " |    |    |-- name: string (nullable = true)\n",
      " |    |    |-- timezone: string (nullable = true)\n",
      " |    |-- id: long (nullable = true)\n",
      " |    |-- name: string (nullable = true)\n",
      " |-- officialSite: string (nullable = true)\n",
      " |-- premiered: string (nullable = true)\n",
      " |-- rating: struct (nullable = true)\n",
      " |    |-- average: double (nullable = true)\n",
      " |-- runtime: long (nullable = true)\n",
      " |-- schedule: struct (nullable = true)\n",
      " |    |-- days: array (nullable = true)\n",
      " |    |    |-- element: string (containsNull = true)\n",
      " |    |-- time: string (nullable = true)\n",
      " |-- status: string (nullable = true)\n",
      " |-- summary: string (nullable = true)\n",
      " |-- type: string (nullable = true)\n",
      " |-- updated: long (nullable = true)\n",
      " |-- url: string (nullable = true)\n",
      " |-- webChannel: string (nullable = true)\n",
      " |-- weight: long (nullable = true)\n",
      "\n"
     ]
    }
   ],
   "source": [
    "shows.printSchema()"
   ]
  },
  {
   "cell_type": "code",
   "execution_count": 17,
   "id": "22c51ed1",
   "metadata": {},
   "outputs": [
    {
     "name": "stdout",
     "output_type": "stream",
     "text": [
      "['_embedded', '_links', 'externals', 'genres', 'id', 'image', 'language', 'name', 'network', 'officialSite', 'premiered', 'rating', 'runtime', 'schedule', 'status', 'summary', 'type', 'updated', 'url', 'webChannel', 'weight']\n"
     ]
    }
   ],
   "source": [
    "print(shows.columns)"
   ]
  },
  {
   "cell_type": "markdown",
   "id": "b3981659",
   "metadata": {},
   "source": [
    "## 2.1 When you have more than one value: The array"
   ]
  },
  {
   "cell_type": "markdown",
   "id": "8130ebbc",
   "metadata": {},
   "source": [
    "PySpark arrays are containers for values of the same type. To work a little with the array, let's get a subset from the show dataset."
   ]
  },
  {
   "cell_type": "code",
   "execution_count": 29,
   "id": "b6bf813d",
   "metadata": {},
   "outputs": [
    {
     "name": "stdout",
     "output_type": "stream",
     "text": [
      "+--------------+--------+\n",
      "|          name|  genres|\n",
      "+--------------+--------+\n",
      "|Silicon Valley|[Comedy]|\n",
      "+--------------+--------+\n",
      "\n"
     ]
    }
   ],
   "source": [
    "# Selecting two columns\n",
    "array_subset = shows.select(\"name\", \"genres\")\n",
    "array_subset.show()"
   ]
  },
  {
   "cell_type": "markdown",
   "id": "672a6f27",
   "metadata": {},
   "source": [
    "To take to the value inside the array, you need to extract them. There are many ways to exract elements from an array. Let me show that."
   ]
  },
  {
   "cell_type": "code",
   "execution_count": 19,
   "id": "1c349a6e",
   "metadata": {},
   "outputs": [
    {
     "name": "stdout",
     "output_type": "stream",
     "text": [
      "+--------------+-------------+-------------+--------------+--------------+\n",
      "|          name|dot_and_index|col_and_index|dot_and_method|col_and_method|\n",
      "+--------------+-------------+-------------+--------------+--------------+\n",
      "|Silicon Valley|       Comedy|       Comedy|        Comedy|        Comedy|\n",
      "+--------------+-------------+-------------+--------------+--------------+\n",
      "\n"
     ]
    }
   ],
   "source": [
    "import pyspark.sql.functions as F\n",
    "array_subset = array_subset.select(\n",
    "    \"name\",\n",
    "    array_subset.genres[0].alias(\"dot_and_index\"), \n",
    "    F.col(\"genres\")[0].alias(\"col_and_index\"),\n",
    "    array_subset.genres.getItem(0).alias(\"dot_and_method\"), \n",
    "    F.col(\"genres\").getItem(0).alias(\"col_and_method\"),\n",
    ")\n",
    "array_subset.show()"
   ]
  },
  {
   "cell_type": "markdown",
   "id": "aed31fdf",
   "metadata": {},
   "source": [
    "Let's take a look at how to perform multiple operations on an array column."
   ]
  },
  {
   "cell_type": "code",
   "execution_count": 20,
   "id": "64dd9252",
   "metadata": {},
   "outputs": [
    {
     "name": "stdout",
     "output_type": "stream",
     "text": [
      "+--------------+-----------------------+----------------------------------------+\n",
      "|name          |Some_Genres            |Repeated_Genres                         |\n",
      "+--------------+-----------------------+----------------------------------------+\n",
      "|Silicon Valley|[Comedy, Horror, Drama]|[Comedy, Comedy, Comedy, Comedy, Comedy]|\n",
      "+--------------+-----------------------+----------------------------------------+\n",
      "\n"
     ]
    }
   ],
   "source": [
    "array_subset_repeated = array_subset.select(\n",
    "    \"name\",\n",
    "    # lit() is used to create scalar columns.\n",
    "    F.lit(\"Comedy\").alias(\"one\"),\n",
    "    F.lit(\"Horror\").alias(\"two\"),\n",
    "    F.lit(\"Drama\").alias(\"three\"),\n",
    "    F.col(\"dot_and_index\"),\n",
    ").select(\n",
    "    \"name\",\n",
    "    # The array method is used to create an array.\n",
    "    F.array(\"one\", \"two\", \"three\").alias(\"Some_Genres\"), \n",
    "    # The array_repeat is used to repeat the values five times within an array.\n",
    "    F.array_repeat(\"dot_and_index\", 5).alias(\"Repeated_Genres\"), \n",
    ")\n",
    "array_subset_repeated.show(1, False)"
   ]
  },
  {
   "cell_type": "code",
   "execution_count": 21,
   "id": "eef42887",
   "metadata": {},
   "outputs": [
    {
     "name": "stdout",
     "output_type": "stream",
     "text": [
      "+--------------+-----------------+---------------------+\n",
      "|          name|size(Some_Genres)|size(Repeated_Genres)|\n",
      "+--------------+-----------------+---------------------+\n",
      "|Silicon Valley|                3|                    5|\n",
      "+--------------+-----------------+---------------------+\n",
      "\n"
     ]
    }
   ],
   "source": [
    "# Using the size method\n",
    "array_subset_repeated.select(\n",
    "    \"name\", \n",
    "    # The size method is used to compute a number of elements.\n",
    "    F.size(\"Some_Genres\"), F.size(\"Repeated_Genres\") \n",
    ").show()"
   ]
  },
  {
   "cell_type": "code",
   "execution_count": 22,
   "id": "d04e89ce",
   "metadata": {},
   "outputs": [
    {
     "name": "stdout",
     "output_type": "stream",
     "text": [
      "+--------------+---------------------------+-------------------------------+\n",
      "|name          |array_distinct(Some_Genres)|array_distinct(Repeated_Genres)|\n",
      "+--------------+---------------------------+-------------------------------+\n",
      "|Silicon Valley|[Comedy, Horror, Drama]    |[Comedy]                       |\n",
      "+--------------+---------------------------+-------------------------------+\n",
      "\n"
     ]
    }
   ],
   "source": [
    "# Using the array_distrinct method\n",
    "array_subset_repeated.select(\n",
    "    \"name\",\n",
    "    # The array_distrinct method is used to remove duplicate values.\n",
    "    F.array_distinct(\"Some_Genres\"),\n",
    "    F.array_distinct(\"Repeated_Genres\"), \n",
    ").show(1, False)"
   ]
  },
  {
   "cell_type": "code",
   "execution_count": 23,
   "id": "a809625c",
   "metadata": {},
   "outputs": [],
   "source": [
    "# Using the array_intersect method.\n",
    "array_subset_repeated = array_subset_repeated.select(\n",
    "    \"name\",\n",
    "    # The array_intersect method is used to look at intersect values.\n",
    "    F.array_intersect(\"Some_Genres\", \"Repeated_Genres\").alias(\"Genres\"),\n",
    ")\n",
    "array_subset_repeated.show()"
   ]
  },
  {
   "cell_type": "code",
   "execution_count": 25,
   "id": "2ca86e87",
   "metadata": {},
   "outputs": [
    {
     "name": "stdout",
     "output_type": "stream",
     "text": [
      "+--------+------------------------------+\n",
      "|  Genres|array_position(Genres, Comedy)|\n",
      "+--------+------------------------------+\n",
      "|[Comedy]|                             1|\n",
      "+--------+------------------------------+\n",
      "\n"
     ]
    }
   ],
   "source": [
    "# Using the array_position method\n",
    "array_subset_repeated.select(\n",
    "    \"Genres\", \n",
    "    # The array_position method is used to look at the position of a value in array.\n",
    "    F.array_position(\"Genres\", \"Comedy\")\n",
    ").show()"
   ]
  },
  {
   "cell_type": "markdown",
   "id": "ae78e1a7",
   "metadata": {},
   "source": [
    "### 2.2 The map type: Keys and values within a column"
   ]
  },
  {
   "cell_type": "markdown",
   "id": "d19ba936",
   "metadata": {},
   "source": [
    "A map has keys and values just like in a dictionary. One of the easiest ways to create a map is from two columns of type array."
   ]
  },
  {
   "cell_type": "code",
   "execution_count": 31,
   "id": "a3ec9180",
   "metadata": {},
   "outputs": [
    {
     "name": "stdout",
     "output_type": "stream",
     "text": [
      "+--------------------+--------------------+\n",
      "|                keys|              values|\n",
      "+--------------------+--------------------+\n",
      "|[name, language, ...|[Silicon Valley, ...|\n",
      "+--------------------+--------------------+\n",
      "\n"
     ]
    }
   ],
   "source": [
    "# Creating a map\n",
    "columns = [\"name\", \"language\", \"type\"]\n",
    "shows_map = shows.select(\n",
    "    *[F.lit(column) for column in columns],\n",
    "    F.array(*columns).alias(\"values\"),\n",
    ")\n",
    "shows_map = shows_map.select(F.array(*columns).alias(\"keys\"), \"values\")\n",
    "shows_map.show(1)"
   ]
  },
  {
   "cell_type": "code",
   "execution_count": 32,
   "id": "b19993c7",
   "metadata": {},
   "outputs": [],
   "source": [
    "shows_map = shows_map.select(\n",
    "    F.map_from_arrays(\"keys\", \"values\").alias(\"mapped\")\n",
    ")"
   ]
  },
  {
   "cell_type": "code",
   "execution_count": 33,
   "id": "e330af81",
   "metadata": {},
   "outputs": [
    {
     "name": "stdout",
     "output_type": "stream",
     "text": [
      "root\n",
      " |-- mapped: map (nullable = false)\n",
      " |    |-- key: string\n",
      " |    |-- value: string (valueContainsNull = true)\n",
      "\n"
     ]
    }
   ],
   "source": [
    "shows_map.printSchema()"
   ]
  },
  {
   "cell_type": "code",
   "execution_count": 34,
   "id": "d8e8fa66",
   "metadata": {},
   "outputs": [
    {
     "name": "stdout",
     "output_type": "stream",
     "text": [
      "+---------------------------------------------------------------+\n",
      "|mapped                                                         |\n",
      "+---------------------------------------------------------------+\n",
      "|[name -> Silicon Valley, language -> English, type -> Scripted]|\n",
      "+---------------------------------------------------------------+\n",
      "\n"
     ]
    }
   ],
   "source": [
    "shows_map.show(1, False)"
   ]
  },
  {
   "cell_type": "code",
   "execution_count": 35,
   "id": "ca75455b",
   "metadata": {},
   "outputs": [
    {
     "name": "stdout",
     "output_type": "stream",
     "text": [
      "+--------------+--------------+--------------+\n",
      "|          name|  mapped[name]|  mapped[name]|\n",
      "+--------------+--------------+--------------+\n",
      "|Silicon Valley|Silicon Valley|Silicon Valley|\n",
      "+--------------+--------------+--------------+\n",
      "\n"
     ]
    }
   ],
   "source": [
    "shows_map.select(\n",
    "    F.col(\"mapped.name\"), \n",
    "    F.col(\"mapped\")[\"name\"], \n",
    "    shows_map.mapped[\"name\"], \n",
    ").show()"
   ]
  },
  {
   "cell_type": "markdown",
   "id": "16ca99bf",
   "metadata": {},
   "source": [
    "You can get the value corresponding to a key using the dot notation within the col function."
   ]
  },
  {
   "cell_type": "code",
   "execution_count": 37,
   "id": "1fd7832b",
   "metadata": {},
   "outputs": [
    {
     "name": "stdout",
     "output_type": "stream",
     "text": [
      "+--------------+--------------+--------------+\n",
      "|          name|  mapped[name]|  mapped[name]|\n",
      "+--------------+--------------+--------------+\n",
      "|Silicon Valley|Silicon Valley|Silicon Valley|\n",
      "+--------------+--------------+--------------+\n",
      "\n"
     ]
    }
   ],
   "source": [
    "shows_map.select(\n",
    "    F.col(\"mapped.name\"), \n",
    "    F.col(\"mapped\")[\"name\"], \n",
    "    shows_map.mapped[\"name\"], \n",
    ").show()"
   ]
  },
  {
   "cell_type": "code",
   "execution_count": null,
   "id": "8aabe35c",
   "metadata": {},
   "outputs": [],
   "source": []
  }
 ],
 "metadata": {
  "kernelspec": {
   "display_name": "Python 3 (ipykernel)",
   "language": "python",
   "name": "python3"
  },
  "language_info": {
   "codemirror_mode": {
    "name": "ipython",
    "version": 3
   },
   "file_extension": ".py",
   "mimetype": "text/x-python",
   "name": "python",
   "nbconvert_exporter": "python",
   "pygments_lexer": "ipython3",
   "version": "3.10.0"
  }
 },
 "nbformat": 4,
 "nbformat_minor": 5
}
