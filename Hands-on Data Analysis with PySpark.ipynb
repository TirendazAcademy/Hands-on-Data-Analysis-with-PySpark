{
 "cells": [
  {
   "cell_type": "markdown",
   "id": "b4be0fc9",
   "metadata": {},
   "source": [
    "# Data Analysis with PySpark"
   ]
  },
  {
   "cell_type": "markdown",
   "id": "7bd94369",
   "metadata": {},
   "source": [
    "## What is PySpark?"
   ]
  },
  {
   "cell_type": "markdown",
   "id": "40851406",
   "metadata": {},
   "source": [
    "As you know, Python is a dynamic, general-purpose language. PySpark provides an entry point to Python in the computational model of Spark. PySpark is open source and it is fast, expressive, and versatile. \n",
    "\n",
    "Spark is coded in Scala. However, you can use it with R and Java programming languages. \n",
    "\n",
    "All three major cloud (Amazon Web Services, Google Cloud Platform, and Microsoft Azure) allows you to work with PySpark. "
   ]
  },
  {
   "cell_type": "markdown",
   "id": "7a7e480b",
   "metadata": {},
   "source": [
    "## Hands-on Data Analysis with PySpark"
   ]
  },
  {
   "cell_type": "markdown",
   "id": "c00684b9",
   "metadata": {},
   "source": [
    "Let's import the SparkSession entry point is located in the pyspark.sql package. This entry point allows the functionality for data transformation."
   ]
  },
  {
   "cell_type": "code",
   "execution_count": 1,
   "id": "34db6738",
   "metadata": {},
   "outputs": [],
   "source": [
    "from pyspark.sql import SparkSession "
   ]
  },
  {
   "cell_type": "markdown",
   "id": "279de66f",
   "metadata": {},
   "source": [
    "Let's create a builder pattern through the SparkSession.builder object. Please keep in mind that a builder pattern offers a set of methods to create a highly configurable object without having multiple constructors. Here, the .getOrCreate() method allows you to work in both interactive and batch mode by avoiding the creation of a new SparkSession if one already exists. "
   ]
  },
  {
   "cell_type": "code",
   "execution_count": 2,
   "id": "33dff08c",
   "metadata": {},
   "outputs": [],
   "source": [
    "spark = (SparkSession\n",
    "         .builder\n",
    "         .appName(\"Analyzing the vocabulary of Pride and Prejudice.\")\n",
    "         .getOrCreate())"
   ]
  },
  {
   "cell_type": "markdown",
   "id": "9354c481",
   "metadata": {},
   "source": [
    "Spark entry point is SparkContext.SparkSession is a superset of that. Let's take a look at the sparkContext."
   ]
  },
  {
   "cell_type": "code",
   "execution_count": 3,
   "id": "b50203aa",
   "metadata": {
    "scrolled": true
   },
   "outputs": [
    {
     "data": {
      "text/html": [
       "\n",
       "        <div>\n",
       "            <p><b>SparkContext</b></p>\n",
       "\n",
       "            <p><a href=\"http://kubernetes.docker.internal:4040\">Spark UI</a></p>\n",
       "\n",
       "            <dl>\n",
       "              <dt>Version</dt>\n",
       "                <dd><code>v3.0.3</code></dd>\n",
       "              <dt>Master</dt>\n",
       "                <dd><code>local[*]</code></dd>\n",
       "              <dt>AppName</dt>\n",
       "                <dd><code>Analyzing the vocabulary of Pride and Prejudice.</code></dd>\n",
       "            </dl>\n",
       "        </div>\n",
       "        "
      ],
      "text/plain": [
       "<SparkContext master=local[*] appName=Analyzing the vocabulary of Pride and Prejudice.>"
      ]
     },
     "execution_count": 3,
     "metadata": {},
     "output_type": "execute_result"
    }
   ],
   "source": [
    "spark.sparkContext"
   ]
  },
  {
   "cell_type": "markdown",
   "id": "41e6154c",
   "metadata": {},
   "source": [
    "You can usually perform data analysis three major steps: reading, transforming, and exporting. Let me show these steps."
   ]
  },
  {
   "cell_type": "markdown",
   "id": "58d0a53c",
   "metadata": {},
   "source": [
    "## Data Ingestion"
   ]
  },
  {
   "cell_type": "markdown",
   "id": "2975e5de",
   "metadata": {},
   "source": [
    "Let's read the dataset with the `spark.read.test` method."
   ]
  },
  {
   "cell_type": "code",
   "execution_count": 4,
   "id": "a67f9b3c",
   "metadata": {},
   "outputs": [],
   "source": [
    "book = spark.read.text(\"./data/gutenberg_books/1342-0.txt\")"
   ]
  },
  {
   "cell_type": "markdown",
   "id": "12710dc3",
   "metadata": {},
   "source": [
    "Let me look at this variable. "
   ]
  },
  {
   "cell_type": "code",
   "execution_count": 5,
   "id": "d8b4d296",
   "metadata": {},
   "outputs": [
    {
     "data": {
      "text/plain": [
       "DataFrame[value: string]"
      ]
     },
     "execution_count": 5,
     "metadata": {},
     "output_type": "execute_result"
    }
   ],
   "source": [
    "book"
   ]
  },
  {
   "cell_type": "markdown",
   "id": "9c9b3dd0",
   "metadata": {},
   "source": [
    "You can see the name of the columns and their type. Please note that PySpark data frames consist of a collection of columns. Let's now use the `printSchema` to display the schema in a tree form."
   ]
  },
  {
   "cell_type": "code",
   "execution_count": 6,
   "id": "e652a406",
   "metadata": {},
   "outputs": [
    {
     "name": "stdout",
     "output_type": "stream",
     "text": [
      "root\n",
      " |-- value: string (nullable = true)\n",
      "\n"
     ]
    }
   ],
   "source": [
    "book.printSchema()"
   ]
  },
  {
   "cell_type": "markdown",
   "id": "11052db3",
   "metadata": {},
   "source": [
    "You can see the same information wiht the data frame’s `dtypes` attribute. Let me show you this."
   ]
  },
  {
   "cell_type": "code",
   "execution_count": 7,
   "id": "c745fcff",
   "metadata": {},
   "outputs": [
    {
     "name": "stdout",
     "output_type": "stream",
     "text": [
      "[('value', 'string')]\n"
     ]
    }
   ],
   "source": [
    "print(book.dtypes)"
   ]
  },
  {
   "cell_type": "markdown",
   "id": "e57ce0af",
   "metadata": {},
   "source": [
    "## Exploring Data"
   ]
  },
  {
   "cell_type": "markdown",
   "id": "9e6a590e",
   "metadata": {},
   "source": [
    "Let's take a look at our data with the `show` method. It shows 20 rows and truncate long values by default"
   ]
  },
  {
   "cell_type": "code",
   "execution_count": 8,
   "id": "62ba2076",
   "metadata": {},
   "outputs": [
    {
     "name": "stdout",
     "output_type": "stream",
     "text": [
      "+--------------------+\n",
      "|               value|\n",
      "+--------------------+\n",
      "|The Project Guten...|\n",
      "|                    |\n",
      "|This eBook is for...|\n",
      "|almost no restric...|\n",
      "|re-use it under t...|\n",
      "|with this eBook o...|\n",
      "|                    |\n",
      "|                    |\n",
      "|Title: Pride and ...|\n",
      "|                    |\n",
      "| Author: Jane Austen|\n",
      "|                    |\n",
      "|Posting Date: Aug...|\n",
      "|Release Date: Jun...|\n",
      "|Last Updated: Mar...|\n",
      "|                    |\n",
      "|   Language: English|\n",
      "|                    |\n",
      "|Character set enc...|\n",
      "|                    |\n",
      "+--------------------+\n",
      "only showing top 20 rows\n",
      "\n"
     ]
    }
   ],
   "source": [
    "book.show()"
   ]
  },
  {
   "cell_type": "markdown",
   "id": "2b2cdec3",
   "metadata": {},
   "source": [
    "You can set the number of row and truncate. Let me show you this."
   ]
  },
  {
   "cell_type": "code",
   "execution_count": 9,
   "id": "64cb8383",
   "metadata": {},
   "outputs": [
    {
     "name": "stdout",
     "output_type": "stream",
     "text": [
      "+------------------------------------------------------------+\n",
      "|                                                       value|\n",
      "+------------------------------------------------------------+\n",
      "|The Project Gutenberg EBook of Pride and Prejudice, by Ja...|\n",
      "|                                                            |\n",
      "|This eBook is for the use of anyone anywhere at no cost a...|\n",
      "|almost no restrictions whatsoever.  You may copy it, give...|\n",
      "|re-use it under the terms of the Project Gutenberg Licens...|\n",
      "|              with this eBook or online at www.gutenberg.org|\n",
      "|                                                            |\n",
      "|                                                            |\n",
      "|                                  Title: Pride and Prejudice|\n",
      "|                                                            |\n",
      "+------------------------------------------------------------+\n",
      "only showing top 10 rows\n",
      "\n"
     ]
    }
   ],
   "source": [
    "book.show(10, truncate=60)"
   ]
  },
  {
   "cell_type": "markdown",
   "id": "87149ef0",
   "metadata": {},
   "source": [
    "## Column transformations"
   ]
  },
  {
   "cell_type": "markdown",
   "id": "2a43b55b",
   "metadata": {},
   "source": [
    "Let's split our lines of text into words with the `select` method and then count them. Let me first split the values the `split` method and rename transformation column with the `alias` method.  Please keep in mind that PySpark’s data preprocessing methods that operate on columns is located in `pyspark\n",
    ".sql.functions`. "
   ]
  },
  {
   "cell_type": "code",
   "execution_count": 10,
   "id": "ab703dcf",
   "metadata": {},
   "outputs": [
    {
     "name": "stdout",
     "output_type": "stream",
     "text": [
      "+--------------------+\n",
      "|                line|\n",
      "+--------------------+\n",
      "|[The, Project, Gu...|\n",
      "|                  []|\n",
      "|[This, eBook, is,...|\n",
      "|[almost, no, rest...|\n",
      "|[re-use, it, unde...|\n",
      "+--------------------+\n",
      "only showing top 5 rows\n",
      "\n"
     ]
    }
   ],
   "source": [
    "from pyspark.sql.functions import split\n",
    "lines = book.select(split(book.value, \" \").alias(\"line\"))\n",
    "lines.show(5)"
   ]
  },
  {
   "cell_type": "markdown",
   "id": "e09a2e34",
   "metadata": {},
   "source": [
    "### Using the select method"
   ]
  },
  {
   "cell_type": "markdown",
   "id": "39174781",
   "metadata": {},
   "source": [
    "You can select columns or transformed columns via the `select` method.There are many ways to select a column using the `select` method. Let's take a look at these ways."
   ]
  },
  {
   "cell_type": "code",
   "execution_count": 11,
   "id": "1d2d9709",
   "metadata": {},
   "outputs": [
    {
     "name": "stdout",
     "output_type": "stream",
     "text": [
      "DataFrame[value: string]\n",
      "DataFrame[value: string]\n",
      "DataFrame[value: string]\n",
      "DataFrame[value: string]\n"
     ]
    }
   ],
   "source": [
    "from pyspark.sql.functions import col\n",
    "print(book.select(book.value))\n",
    "print(book.select(book[\"value\"]))\n",
    "print(book.select(col(\"value\")))\n",
    "print(book.select(\"value\"))"
   ]
  },
  {
   "cell_type": "markdown",
   "id": "4e1e19bc",
   "metadata": {},
   "source": [
    "### Renaming the columns"
   ]
  },
  {
   "cell_type": "markdown",
   "id": "c5ca5662",
   "metadata": {},
   "source": [
    "When performing a transformation on your columns, you can rename the column with the `alia` and `withColumnRenamed` methods. I showed you how to use the `alias` method. Let's take a look at the `withColumnRenamed` method."
   ]
  },
  {
   "cell_type": "code",
   "execution_count": 12,
   "id": "26439e5b",
   "metadata": {},
   "outputs": [
    {
     "name": "stdout",
     "output_type": "stream",
     "text": [
      "+--------------------+\n",
      "|                line|\n",
      "+--------------------+\n",
      "|[The, Project, Gu...|\n",
      "|                  []|\n",
      "|[This, eBook, is,...|\n",
      "|[almost, no, rest...|\n",
      "|[re-use, it, unde...|\n",
      "|[with, this, eBoo...|\n",
      "|                  []|\n",
      "|                  []|\n",
      "|[Title:, Pride, a...|\n",
      "|                  []|\n",
      "+--------------------+\n",
      "only showing top 10 rows\n",
      "\n"
     ]
    }
   ],
   "source": [
    "lines = book.select(split(book.value, \" \"))\n",
    "lines=lines.withColumnRenamed(\"split(value,  , -1)\", \"line\")\n",
    "lines.show(10)"
   ]
  },
  {
   "cell_type": "markdown",
   "id": "88d1539f",
   "metadata": {},
   "source": [
    "### Reshaping your data"
   ]
  },
  {
   "cell_type": "markdown",
   "id": "d8ed4d18",
   "metadata": {},
   "source": [
    "PySpark can have columns of nested values, like arrays of elements. The `explode` method allows you to extract the elements into distinct records. Let's create one record for each word with the `explode` function."
   ]
  },
  {
   "cell_type": "code",
   "execution_count": 13,
   "id": "9030679f",
   "metadata": {},
   "outputs": [
    {
     "name": "stdout",
     "output_type": "stream",
     "text": [
      "+----------+\n",
      "|      word|\n",
      "+----------+\n",
      "|       The|\n",
      "|   Project|\n",
      "| Gutenberg|\n",
      "|     EBook|\n",
      "|        of|\n",
      "|     Pride|\n",
      "|       and|\n",
      "|Prejudice,|\n",
      "|        by|\n",
      "|      Jane|\n",
      "+----------+\n",
      "only showing top 10 rows\n",
      "\n"
     ]
    }
   ],
   "source": [
    "from pyspark.sql.functions import explode, col\n",
    "words = lines.select(explode(col(\"line\")).alias(\"word\"))\n",
    "words.show(10)"
   ]
  },
  {
   "cell_type": "markdown",
   "id": "7dfedaa1",
   "metadata": {},
   "source": [
    "### Finding the number of character in each row"
   ]
  },
  {
   "cell_type": "markdown",
   "id": "f1c90a10",
   "metadata": {},
   "source": [
    "Let's take a look at the number of the characters in each row via the `lenght` method."
   ]
  },
  {
   "cell_type": "code",
   "execution_count": 14,
   "id": "640ceb50",
   "metadata": {},
   "outputs": [
    {
     "name": "stdout",
     "output_type": "stream",
     "text": [
      "+--------------+\n",
      "|number_of_char|\n",
      "+--------------+\n",
      "|            66|\n",
      "|             0|\n",
      "|            64|\n",
      "|            68|\n",
      "|            67|\n",
      "|            46|\n",
      "|             0|\n",
      "|             0|\n",
      "|            26|\n",
      "|             0|\n",
      "+--------------+\n",
      "only showing top 10 rows\n",
      "\n"
     ]
    }
   ],
   "source": [
    "from pyspark.sql.functions import length\n",
    "number_of_char = book.select(length(col(\"value\"))).withColumnRenamed(\"length(value)\", \"number_of_char\")\n",
    "number_of_char.show(10)"
   ]
  },
  {
   "cell_type": "markdown",
   "id": "a6928a88",
   "metadata": {},
   "source": [
    "## Working with words"
   ]
  },
  {
   "cell_type": "markdown",
   "id": "7dc49aa7",
   "metadata": {},
   "source": [
    "Let's lower the case of all the words in the dataframe with the `lower` method."
   ]
  },
  {
   "cell_type": "code",
   "execution_count": 15,
   "id": "cc139410",
   "metadata": {},
   "outputs": [
    {
     "name": "stdout",
     "output_type": "stream",
     "text": [
      "+----------+\n",
      "|word_lower|\n",
      "+----------+\n",
      "|       the|\n",
      "|   project|\n",
      "| gutenberg|\n",
      "|     ebook|\n",
      "|        of|\n",
      "|     pride|\n",
      "|       and|\n",
      "|prejudice,|\n",
      "|        by|\n",
      "|      jane|\n",
      "+----------+\n",
      "only showing top 10 rows\n",
      "\n"
     ]
    }
   ],
   "source": [
    "from pyspark.sql.functions import lower\n",
    "words_lower = words.select(lower(col(\"word\")).alias(\"word_lower\"))\n",
    "words_lower.show(10)"
   ]
  },
  {
   "cell_type": "markdown",
   "id": "189dd76a",
   "metadata": {},
   "source": [
    "Let's clean our words of any punctuation and other non-useful characters the `regexp_extract` method."
   ]
  },
  {
   "cell_type": "code",
   "execution_count": 16,
   "id": "cbed56ab",
   "metadata": {},
   "outputs": [
    {
     "name": "stdout",
     "output_type": "stream",
     "text": [
      "+---------+\n",
      "|     word|\n",
      "+---------+\n",
      "|      the|\n",
      "|  project|\n",
      "|gutenberg|\n",
      "|    ebook|\n",
      "|       of|\n",
      "|    pride|\n",
      "|      and|\n",
      "|prejudice|\n",
      "|       by|\n",
      "|     jane|\n",
      "+---------+\n",
      "only showing top 10 rows\n",
      "\n"
     ]
    }
   ],
   "source": [
    "from pyspark.sql.functions import regexp_extract\n",
    "words_clean = words_lower.select(regexp_extract(col(\"word_lower\"), \"[a-z]+\", 0).alias(\"word\"))\n",
    "words_clean.show(10)"
   ]
  },
  {
   "cell_type": "markdown",
   "id": "6cdbc3df",
   "metadata": {},
   "source": [
    "## Filtering rows"
   ]
  },
  {
   "cell_type": "markdown",
   "id": "c522e959",
   "metadata": {},
   "source": [
    "You can filter columns with the `where` or `filter` methods. These methods allows you to provide a test that will return `True` or `False` and only the records returning `True` will be kept. Let me show you how to filter records from a dataframe. To do this, I'm going to use the `filter` method. Here I want to filter the no null words using comparison operators."
   ]
  },
  {
   "cell_type": "code",
   "execution_count": 17,
   "id": "9ae414d3",
   "metadata": {},
   "outputs": [
    {
     "name": "stdout",
     "output_type": "stream",
     "text": [
      "+---------+\n",
      "|     word|\n",
      "+---------+\n",
      "|      the|\n",
      "|  project|\n",
      "|gutenberg|\n",
      "|    ebook|\n",
      "|       of|\n",
      "|    pride|\n",
      "|      and|\n",
      "|prejudice|\n",
      "|       by|\n",
      "|     jane|\n",
      "+---------+\n",
      "only showing top 10 rows\n",
      "\n"
     ]
    }
   ],
   "source": [
    "words_nonull = words_clean.filter(col(\"word\") != \"\")\n",
    "words_nonull.show(10)"
   ]
  },
  {
   "cell_type": "markdown",
   "id": "3a28bdea",
   "metadata": {},
   "source": [
    "Nice, the blank cell is gone. Let's now find only the words with more than five characters."
   ]
  },
  {
   "cell_type": "code",
   "execution_count": 18,
   "id": "6b978518",
   "metadata": {},
   "outputs": [
    {
     "name": "stdout",
     "output_type": "stream",
     "text": [
      "+------------+\n",
      "|        word|\n",
      "+------------+\n",
      "|     project|\n",
      "|   gutenberg|\n",
      "|   prejudice|\n",
      "|      austen|\n",
      "|      anyone|\n",
      "|    anywhere|\n",
      "|      almost|\n",
      "|restrictions|\n",
      "|  whatsoever|\n",
      "|     project|\n",
      "+------------+\n",
      "only showing top 10 rows\n",
      "\n"
     ]
    }
   ],
   "source": [
    "words_great_three_char = words_clean.filter(length(col(\"word\")) > 5)\n",
    "words_great_three_char.show(10)"
   ]
  },
  {
   "cell_type": "markdown",
   "id": "ec3a1871",
   "metadata": {},
   "source": [
    "Let’s remove the words of, the, and by from your list of words the `where` and `isin` methods."
   ]
  },
  {
   "cell_type": "code",
   "execution_count": 19,
   "id": "30e08073",
   "metadata": {},
   "outputs": [
    {
     "name": "stdout",
     "output_type": "stream",
     "text": [
      "+---------+\n",
      "|     word|\n",
      "+---------+\n",
      "|  project|\n",
      "|gutenberg|\n",
      "|    ebook|\n",
      "|    pride|\n",
      "|      and|\n",
      "|prejudice|\n",
      "|     jane|\n",
      "|   austen|\n",
      "|     this|\n",
      "|    ebook|\n",
      "+---------+\n",
      "only showing top 10 rows\n",
      "\n"
     ]
    }
   ],
   "source": [
    "words_no_is_not_the_if = (words_nonull.where(~col(\"word\").isin([\"of\", \"the\", \"by\"])))\n",
    "words_no_is_not_the_if.show(10)"
   ]
  },
  {
   "cell_type": "markdown",
   "id": "f0d18d9a",
   "metadata": {},
   "source": [
    "##  Grouping records"
   ]
  },
  {
   "cell_type": "markdown",
   "id": "f067ae29",
   "metadata": {},
   "source": [
    "The easiest way to group record is to use the `groupby` method. Let's only create a groupby object with the `groupby` method."
   ]
  },
  {
   "cell_type": "code",
   "execution_count": 20,
   "id": "24470d7c",
   "metadata": {},
   "outputs": [
    {
     "name": "stdout",
     "output_type": "stream",
     "text": [
      "<pyspark.sql.group.GroupedData object at 0x000002D05FA0B040>\n"
     ]
    }
   ],
   "source": [
    "groups = words_nonull.groupby(col(\"word\"))\n",
    "print(groups)"
   ]
  },
  {
   "cell_type": "markdown",
   "id": "b8b2d4a1",
   "metadata": {},
   "source": [
    "The `groupby` method returns a `GroupedData` object that waits for an aggregation method. Using this `GroupedData` object, let me calculate the frequency of the words with the `count` method."
   ]
  },
  {
   "cell_type": "code",
   "execution_count": 21,
   "id": "024dc5c5",
   "metadata": {},
   "outputs": [
    {
     "name": "stdout",
     "output_type": "stream",
     "text": [
      "DataFrame[word: string, count: bigint]\n"
     ]
    }
   ],
   "source": [
    "results = words_nonull.groupby(col(\"word\")).count()\n",
    "print(results)"
   ]
  },
  {
   "cell_type": "markdown",
   "id": "4c4c2619",
   "metadata": {},
   "source": [
    "Awesome. We counted the frequency of the words. Let's take a look at the number of these words."
   ]
  },
  {
   "cell_type": "code",
   "execution_count": 22,
   "id": "c29149ff",
   "metadata": {},
   "outputs": [
    {
     "name": "stdout",
     "output_type": "stream",
     "text": [
      "+---------+-----+\n",
      "|     word|count|\n",
      "+---------+-----+\n",
      "|   online|    4|\n",
      "|     some|  209|\n",
      "|    still|   72|\n",
      "|      few|   72|\n",
      "|     hope|  122|\n",
      "|    those|   60|\n",
      "| cautious|    4|\n",
      "|imitation|    1|\n",
      "|      art|    3|\n",
      "|  solaced|    1|\n",
      "+---------+-----+\n",
      "only showing top 10 rows\n",
      "\n"
     ]
    }
   ],
   "source": [
    "results.show(10)"
   ]
  },
  {
   "cell_type": "markdown",
   "id": "002621e8",
   "metadata": {},
   "source": [
    "## Ordering the results with orderBy"
   ]
  },
  {
   "cell_type": "markdown",
   "id": "3d16b1d0",
   "metadata": {},
   "source": [
    "The `orderBy()` method allows you to order a dataframe by the values of one or many columns. There are two ways to order. You can use the column names as parameters or can set the `col` function. Let me show you."
   ]
  },
  {
   "cell_type": "code",
   "execution_count": 23,
   "id": "99088cad",
   "metadata": {},
   "outputs": [
    {
     "name": "stdout",
     "output_type": "stream",
     "text": [
      "+----+-----+\n",
      "|word|count|\n",
      "+----+-----+\n",
      "| the| 4496|\n",
      "|  to| 4235|\n",
      "|  of| 3719|\n",
      "| and| 3602|\n",
      "| her| 2223|\n",
      "|   a| 1997|\n",
      "|  in| 1910|\n",
      "| was| 1844|\n",
      "|   i| 1752|\n",
      "| she| 1703|\n",
      "+----+-----+\n",
      "only showing top 10 rows\n",
      "\n"
     ]
    }
   ],
   "source": [
    "results.orderBy(\"count\", ascending=False).show(10)"
   ]
  },
  {
   "cell_type": "markdown",
   "id": "82c305c5",
   "metadata": {},
   "source": [
    "To order values, you can also use the `col` method via the `decs` method."
   ]
  },
  {
   "cell_type": "code",
   "execution_count": 24,
   "id": "ee4edeb5",
   "metadata": {},
   "outputs": [
    {
     "name": "stdout",
     "output_type": "stream",
     "text": [
      "+----+-----+\n",
      "|word|count|\n",
      "+----+-----+\n",
      "| the| 4496|\n",
      "|  to| 4235|\n",
      "|  of| 3719|\n",
      "| and| 3602|\n",
      "| her| 2223|\n",
      "|   a| 1997|\n",
      "|  in| 1910|\n",
      "| was| 1844|\n",
      "|   i| 1752|\n",
      "| she| 1703|\n",
      "+----+-----+\n",
      "only showing top 10 rows\n",
      "\n"
     ]
    }
   ],
   "source": [
    "results.orderBy(col(\"count\").desc()).show(10)"
   ]
  },
  {
   "cell_type": "markdown",
   "id": "d4525cbf",
   "metadata": {},
   "source": [
    "## Writing data"
   ]
  },
  {
   "cell_type": "markdown",
   "id": "8a9debc8",
   "metadata": {},
   "source": [
    "You can also export your results. To do this, you can use the `write` method. Let's export our results in comma-separated value (CSV) file that is a human-readable format."
   ]
  },
  {
   "cell_type": "code",
   "execution_count": 27,
   "id": "16a959d3",
   "metadata": {},
   "outputs": [],
   "source": [
    "results.write.csv(\"my_count.csv\")"
   ]
  },
  {
   "cell_type": "markdown",
   "id": "63b9a1dc",
   "metadata": {},
   "source": [
    "Note that PySpark creates one file per partition. This is due to PySpark is worked multiple workers. So you have many partitions. Let's take a look at these partitions."
   ]
  },
  {
   "cell_type": "code",
   "execution_count": 38,
   "id": "d0abd7b7",
   "metadata": {},
   "outputs": [
    {
     "name": "stdout",
     "output_type": "stream",
     "text": [
      " Volume in drive D is Yeni Birim\n",
      " Volume Serial Number is B6A7-CDC9\n",
      "\n",
      " Directory of D:\\My-Works\\Github-Book\\BigData\\DataAnalysisWithPythonAndPySpark-trunk\\simple_count.csv\n",
      "\n",
      "08/17/2022  09:41 AM    <DIR>          .\n",
      "08/17/2022  09:41 AM    <DIR>          ..\n",
      "08/17/2022  09:41 AM                 8 ._SUCCESS.crc\n",
      "08/17/2022  09:41 AM                12 .part-00000-7f1cfd1e-936a-4ad7-b196-63c15e3025c5-c000.csv.crc\n",
      "08/17/2022  09:41 AM                12 .part-00001-7f1cfd1e-936a-4ad7-b196-63c15e3025c5-c000.csv.crc\n",
      "08/17/2022  09:41 AM                12 .part-00002-7f1cfd1e-936a-4ad7-b196-63c15e3025c5-c000.csv.crc\n",
      "08/17/2022  09:41 AM                12 .part-00003-7f1cfd1e-936a-4ad7-b196-63c15e3025c5-c000.csv.crc\n",
      "08/17/2022  09:41 AM                12 .part-00004-7f1cfd1e-936a-4ad7-b196-63c15e3025c5-c000.csv.crc\n",
      "08/17/2022  09:41 AM                12 .part-00005-7f1cfd1e-936a-4ad7-b196-63c15e3025c5-c000.csv.crc\n",
      "08/17/2022  09:41 AM                12 .part-00006-7f1cfd1e-936a-4ad7-b196-63c15e3025c5-c000.csv.crc\n",
      "08/17/2022  09:41 AM                12 .part-00007-7f1cfd1e-936a-4ad7-b196-63c15e3025c5-c000.csv.crc\n",
      "08/17/2022  09:41 AM                12 .part-00008-7f1cfd1e-936a-4ad7-b196-63c15e3025c5-c000.csv.crc\n",
      "08/17/2022  09:41 AM                12 .part-00009-7f1cfd1e-936a-4ad7-b196-63c15e3025c5-c000.csv.crc\n",
      "08/17/2022  09:41 AM                12 .part-00010-7f1cfd1e-936a-4ad7-b196-63c15e3025c5-c000.csv.crc\n",
      "08/17/2022  09:41 AM                12 .part-00011-7f1cfd1e-936a-4ad7-b196-63c15e3025c5-c000.csv.crc\n",
      "08/17/2022  09:41 AM                12 .part-00012-7f1cfd1e-936a-4ad7-b196-63c15e3025c5-c000.csv.crc\n",
      "08/17/2022  09:41 AM                16 .part-00013-7f1cfd1e-936a-4ad7-b196-63c15e3025c5-c000.csv.crc\n",
      "08/17/2022  09:41 AM                12 .part-00014-7f1cfd1e-936a-4ad7-b196-63c15e3025c5-c000.csv.crc\n",
      "08/17/2022  09:41 AM                12 .part-00015-7f1cfd1e-936a-4ad7-b196-63c15e3025c5-c000.csv.crc\n",
      "08/17/2022  09:41 AM                12 .part-00016-7f1cfd1e-936a-4ad7-b196-63c15e3025c5-c000.csv.crc\n",
      "08/17/2022  09:41 AM                12 .part-00017-7f1cfd1e-936a-4ad7-b196-63c15e3025c5-c000.csv.crc\n",
      "08/17/2022  09:41 AM                12 .part-00018-7f1cfd1e-936a-4ad7-b196-63c15e3025c5-c000.csv.crc\n",
      "08/17/2022  09:41 AM                12 .part-00019-7f1cfd1e-936a-4ad7-b196-63c15e3025c5-c000.csv.crc\n",
      "08/17/2022  09:41 AM                12 .part-00020-7f1cfd1e-936a-4ad7-b196-63c15e3025c5-c000.csv.crc\n",
      "08/17/2022  09:41 AM                12 .part-00021-7f1cfd1e-936a-4ad7-b196-63c15e3025c5-c000.csv.crc\n",
      "08/17/2022  09:41 AM                12 .part-00022-7f1cfd1e-936a-4ad7-b196-63c15e3025c5-c000.csv.crc\n",
      "08/17/2022  09:41 AM                12 .part-00023-7f1cfd1e-936a-4ad7-b196-63c15e3025c5-c000.csv.crc\n",
      "08/17/2022  09:41 AM                12 .part-00024-7f1cfd1e-936a-4ad7-b196-63c15e3025c5-c000.csv.crc\n",
      "08/17/2022  09:41 AM                12 .part-00025-7f1cfd1e-936a-4ad7-b196-63c15e3025c5-c000.csv.crc\n",
      "08/17/2022  09:41 AM                12 .part-00026-7f1cfd1e-936a-4ad7-b196-63c15e3025c5-c000.csv.crc\n",
      "08/17/2022  09:41 AM                12 .part-00027-7f1cfd1e-936a-4ad7-b196-63c15e3025c5-c000.csv.crc\n",
      "08/17/2022  09:41 AM                12 .part-00028-7f1cfd1e-936a-4ad7-b196-63c15e3025c5-c000.csv.crc\n",
      "08/17/2022  09:41 AM                12 .part-00029-7f1cfd1e-936a-4ad7-b196-63c15e3025c5-c000.csv.crc\n",
      "08/17/2022  09:41 AM                16 .part-00030-7f1cfd1e-936a-4ad7-b196-63c15e3025c5-c000.csv.crc\n",
      "08/17/2022  09:41 AM                12 .part-00031-7f1cfd1e-936a-4ad7-b196-63c15e3025c5-c000.csv.crc\n",
      "08/17/2022  09:41 AM                12 .part-00032-7f1cfd1e-936a-4ad7-b196-63c15e3025c5-c000.csv.crc\n",
      "08/17/2022  09:41 AM                12 .part-00033-7f1cfd1e-936a-4ad7-b196-63c15e3025c5-c000.csv.crc\n",
      "08/17/2022  09:41 AM                12 .part-00034-7f1cfd1e-936a-4ad7-b196-63c15e3025c5-c000.csv.crc\n",
      "08/17/2022  09:41 AM                12 .part-00035-7f1cfd1e-936a-4ad7-b196-63c15e3025c5-c000.csv.crc\n",
      "08/17/2022  09:41 AM                12 .part-00036-7f1cfd1e-936a-4ad7-b196-63c15e3025c5-c000.csv.crc\n",
      "08/17/2022  09:41 AM                12 .part-00037-7f1cfd1e-936a-4ad7-b196-63c15e3025c5-c000.csv.crc\n",
      "08/17/2022  09:41 AM                12 .part-00038-7f1cfd1e-936a-4ad7-b196-63c15e3025c5-c000.csv.crc\n",
      "08/17/2022  09:41 AM                12 .part-00039-7f1cfd1e-936a-4ad7-b196-63c15e3025c5-c000.csv.crc\n",
      "08/17/2022  09:41 AM                12 .part-00040-7f1cfd1e-936a-4ad7-b196-63c15e3025c5-c000.csv.crc\n",
      "08/17/2022  09:41 AM                12 .part-00041-7f1cfd1e-936a-4ad7-b196-63c15e3025c5-c000.csv.crc\n",
      "08/17/2022  09:41 AM                12 .part-00042-7f1cfd1e-936a-4ad7-b196-63c15e3025c5-c000.csv.crc\n",
      "08/17/2022  09:41 AM                12 .part-00043-7f1cfd1e-936a-4ad7-b196-63c15e3025c5-c000.csv.crc\n",
      "08/17/2022  09:41 AM                12 .part-00044-7f1cfd1e-936a-4ad7-b196-63c15e3025c5-c000.csv.crc\n",
      "08/17/2022  09:41 AM                12 .part-00045-7f1cfd1e-936a-4ad7-b196-63c15e3025c5-c000.csv.crc\n",
      "08/17/2022  09:41 AM                12 .part-00046-7f1cfd1e-936a-4ad7-b196-63c15e3025c5-c000.csv.crc\n",
      "08/17/2022  09:41 AM                12 .part-00047-7f1cfd1e-936a-4ad7-b196-63c15e3025c5-c000.csv.crc\n",
      "08/17/2022  09:41 AM                12 .part-00048-7f1cfd1e-936a-4ad7-b196-63c15e3025c5-c000.csv.crc\n",
      "08/17/2022  09:41 AM                12 .part-00049-7f1cfd1e-936a-4ad7-b196-63c15e3025c5-c000.csv.crc\n",
      "08/17/2022  09:41 AM                12 .part-00050-7f1cfd1e-936a-4ad7-b196-63c15e3025c5-c000.csv.crc\n",
      "08/17/2022  09:41 AM                12 .part-00051-7f1cfd1e-936a-4ad7-b196-63c15e3025c5-c000.csv.crc\n",
      "08/17/2022  09:41 AM                12 .part-00052-7f1cfd1e-936a-4ad7-b196-63c15e3025c5-c000.csv.crc\n",
      "08/17/2022  09:41 AM                16 .part-00053-7f1cfd1e-936a-4ad7-b196-63c15e3025c5-c000.csv.crc\n",
      "08/17/2022  09:41 AM                12 .part-00054-7f1cfd1e-936a-4ad7-b196-63c15e3025c5-c000.csv.crc\n",
      "08/17/2022  09:41 AM                12 .part-00055-7f1cfd1e-936a-4ad7-b196-63c15e3025c5-c000.csv.crc\n",
      "08/17/2022  09:41 AM                12 .part-00056-7f1cfd1e-936a-4ad7-b196-63c15e3025c5-c000.csv.crc\n",
      "08/17/2022  09:41 AM                12 .part-00057-7f1cfd1e-936a-4ad7-b196-63c15e3025c5-c000.csv.crc\n",
      "08/17/2022  09:41 AM                12 .part-00058-7f1cfd1e-936a-4ad7-b196-63c15e3025c5-c000.csv.crc\n",
      "08/17/2022  09:41 AM                12 .part-00059-7f1cfd1e-936a-4ad7-b196-63c15e3025c5-c000.csv.crc\n",
      "08/17/2022  09:41 AM                12 .part-00060-7f1cfd1e-936a-4ad7-b196-63c15e3025c5-c000.csv.crc\n",
      "08/17/2022  09:41 AM                12 .part-00061-7f1cfd1e-936a-4ad7-b196-63c15e3025c5-c000.csv.crc\n",
      "08/17/2022  09:41 AM                12 .part-00062-7f1cfd1e-936a-4ad7-b196-63c15e3025c5-c000.csv.crc\n",
      "08/17/2022  09:41 AM                12 .part-00063-7f1cfd1e-936a-4ad7-b196-63c15e3025c5-c000.csv.crc\n",
      "08/17/2022  09:41 AM                12 .part-00064-7f1cfd1e-936a-4ad7-b196-63c15e3025c5-c000.csv.crc\n",
      "08/17/2022  09:41 AM                12 .part-00065-7f1cfd1e-936a-4ad7-b196-63c15e3025c5-c000.csv.crc\n",
      "08/17/2022  09:41 AM                12 .part-00066-7f1cfd1e-936a-4ad7-b196-63c15e3025c5-c000.csv.crc\n",
      "08/17/2022  09:41 AM                12 .part-00067-7f1cfd1e-936a-4ad7-b196-63c15e3025c5-c000.csv.crc\n",
      "08/17/2022  09:41 AM                12 .part-00068-7f1cfd1e-936a-4ad7-b196-63c15e3025c5-c000.csv.crc\n",
      "08/17/2022  09:41 AM                12 .part-00069-7f1cfd1e-936a-4ad7-b196-63c15e3025c5-c000.csv.crc\n",
      "08/17/2022  09:41 AM                12 .part-00070-7f1cfd1e-936a-4ad7-b196-63c15e3025c5-c000.csv.crc\n",
      "08/17/2022  09:41 AM                12 .part-00071-7f1cfd1e-936a-4ad7-b196-63c15e3025c5-c000.csv.crc\n",
      "08/17/2022  09:41 AM                12 .part-00072-7f1cfd1e-936a-4ad7-b196-63c15e3025c5-c000.csv.crc\n",
      "08/17/2022  09:41 AM                12 .part-00073-7f1cfd1e-936a-4ad7-b196-63c15e3025c5-c000.csv.crc\n",
      "08/17/2022  09:41 AM                12 .part-00074-7f1cfd1e-936a-4ad7-b196-63c15e3025c5-c000.csv.crc\n",
      "08/17/2022  09:41 AM                12 .part-00075-7f1cfd1e-936a-4ad7-b196-63c15e3025c5-c000.csv.crc\n",
      "08/17/2022  09:41 AM                12 .part-00076-7f1cfd1e-936a-4ad7-b196-63c15e3025c5-c000.csv.crc\n",
      "08/17/2022  09:41 AM                12 .part-00077-7f1cfd1e-936a-4ad7-b196-63c15e3025c5-c000.csv.crc\n",
      "08/17/2022  09:41 AM                12 .part-00078-7f1cfd1e-936a-4ad7-b196-63c15e3025c5-c000.csv.crc\n",
      "08/17/2022  09:41 AM                12 .part-00079-7f1cfd1e-936a-4ad7-b196-63c15e3025c5-c000.csv.crc\n",
      "08/17/2022  09:41 AM                12 .part-00080-7f1cfd1e-936a-4ad7-b196-63c15e3025c5-c000.csv.crc\n",
      "08/17/2022  09:41 AM                12 .part-00081-7f1cfd1e-936a-4ad7-b196-63c15e3025c5-c000.csv.crc\n",
      "08/17/2022  09:41 AM                12 .part-00082-7f1cfd1e-936a-4ad7-b196-63c15e3025c5-c000.csv.crc\n",
      "08/17/2022  09:41 AM                12 .part-00083-7f1cfd1e-936a-4ad7-b196-63c15e3025c5-c000.csv.crc\n",
      "08/17/2022  09:41 AM                12 .part-00084-7f1cfd1e-936a-4ad7-b196-63c15e3025c5-c000.csv.crc\n",
      "08/17/2022  09:41 AM                12 .part-00085-7f1cfd1e-936a-4ad7-b196-63c15e3025c5-c000.csv.crc\n",
      "08/17/2022  09:41 AM                12 .part-00086-7f1cfd1e-936a-4ad7-b196-63c15e3025c5-c000.csv.crc\n",
      "08/17/2022  09:41 AM                12 .part-00087-7f1cfd1e-936a-4ad7-b196-63c15e3025c5-c000.csv.crc\n",
      "08/17/2022  09:41 AM                12 .part-00088-7f1cfd1e-936a-4ad7-b196-63c15e3025c5-c000.csv.crc\n",
      "08/17/2022  09:41 AM                12 .part-00089-7f1cfd1e-936a-4ad7-b196-63c15e3025c5-c000.csv.crc\n",
      "08/17/2022  09:41 AM                12 .part-00090-7f1cfd1e-936a-4ad7-b196-63c15e3025c5-c000.csv.crc\n",
      "08/17/2022  09:41 AM                12 .part-00091-7f1cfd1e-936a-4ad7-b196-63c15e3025c5-c000.csv.crc\n",
      "08/17/2022  09:41 AM                12 .part-00092-7f1cfd1e-936a-4ad7-b196-63c15e3025c5-c000.csv.crc\n",
      "08/17/2022  09:41 AM                12 .part-00093-7f1cfd1e-936a-4ad7-b196-63c15e3025c5-c000.csv.crc\n",
      "08/17/2022  09:41 AM                12 .part-00094-7f1cfd1e-936a-4ad7-b196-63c15e3025c5-c000.csv.crc\n",
      "08/17/2022  09:41 AM                16 .part-00095-7f1cfd1e-936a-4ad7-b196-63c15e3025c5-c000.csv.crc\n",
      "08/17/2022  09:41 AM                12 .part-00096-7f1cfd1e-936a-4ad7-b196-63c15e3025c5-c000.csv.crc\n",
      "08/17/2022  09:41 AM                12 .part-00097-7f1cfd1e-936a-4ad7-b196-63c15e3025c5-c000.csv.crc\n",
      "08/17/2022  09:41 AM                12 .part-00098-7f1cfd1e-936a-4ad7-b196-63c15e3025c5-c000.csv.crc\n",
      "08/17/2022  09:41 AM                12 .part-00099-7f1cfd1e-936a-4ad7-b196-63c15e3025c5-c000.csv.crc\n",
      "08/17/2022  09:41 AM                12 .part-00100-7f1cfd1e-936a-4ad7-b196-63c15e3025c5-c000.csv.crc\n",
      "08/17/2022  09:41 AM                12 .part-00101-7f1cfd1e-936a-4ad7-b196-63c15e3025c5-c000.csv.crc\n",
      "08/17/2022  09:41 AM                12 .part-00102-7f1cfd1e-936a-4ad7-b196-63c15e3025c5-c000.csv.crc\n",
      "08/17/2022  09:41 AM                12 .part-00103-7f1cfd1e-936a-4ad7-b196-63c15e3025c5-c000.csv.crc\n",
      "08/17/2022  09:41 AM                12 .part-00104-7f1cfd1e-936a-4ad7-b196-63c15e3025c5-c000.csv.crc\n",
      "08/17/2022  09:41 AM                12 .part-00105-7f1cfd1e-936a-4ad7-b196-63c15e3025c5-c000.csv.crc\n",
      "08/17/2022  09:41 AM                12 .part-00106-7f1cfd1e-936a-4ad7-b196-63c15e3025c5-c000.csv.crc\n",
      "08/17/2022  09:41 AM                12 .part-00107-7f1cfd1e-936a-4ad7-b196-63c15e3025c5-c000.csv.crc\n",
      "08/17/2022  09:41 AM                12 .part-00108-7f1cfd1e-936a-4ad7-b196-63c15e3025c5-c000.csv.crc\n",
      "08/17/2022  09:41 AM                16 .part-00109-7f1cfd1e-936a-4ad7-b196-63c15e3025c5-c000.csv.crc\n",
      "08/17/2022  09:41 AM                16 .part-00110-7f1cfd1e-936a-4ad7-b196-63c15e3025c5-c000.csv.crc\n",
      "08/17/2022  09:41 AM                12 .part-00111-7f1cfd1e-936a-4ad7-b196-63c15e3025c5-c000.csv.crc\n",
      "08/17/2022  09:41 AM                12 .part-00112-7f1cfd1e-936a-4ad7-b196-63c15e3025c5-c000.csv.crc\n",
      "08/17/2022  09:41 AM                12 .part-00113-7f1cfd1e-936a-4ad7-b196-63c15e3025c5-c000.csv.crc\n",
      "08/17/2022  09:41 AM                12 .part-00114-7f1cfd1e-936a-4ad7-b196-63c15e3025c5-c000.csv.crc\n",
      "08/17/2022  09:41 AM                12 .part-00115-7f1cfd1e-936a-4ad7-b196-63c15e3025c5-c000.csv.crc\n",
      "08/17/2022  09:41 AM                12 .part-00116-7f1cfd1e-936a-4ad7-b196-63c15e3025c5-c000.csv.crc\n",
      "08/17/2022  09:41 AM                12 .part-00117-7f1cfd1e-936a-4ad7-b196-63c15e3025c5-c000.csv.crc\n",
      "08/17/2022  09:41 AM                12 .part-00118-7f1cfd1e-936a-4ad7-b196-63c15e3025c5-c000.csv.crc\n",
      "08/17/2022  09:41 AM                12 .part-00119-7f1cfd1e-936a-4ad7-b196-63c15e3025c5-c000.csv.crc\n",
      "08/17/2022  09:41 AM                12 .part-00120-7f1cfd1e-936a-4ad7-b196-63c15e3025c5-c000.csv.crc\n",
      "08/17/2022  09:41 AM                12 .part-00121-7f1cfd1e-936a-4ad7-b196-63c15e3025c5-c000.csv.crc\n",
      "08/17/2022  09:41 AM                12 .part-00122-7f1cfd1e-936a-4ad7-b196-63c15e3025c5-c000.csv.crc\n",
      "08/17/2022  09:41 AM                12 .part-00123-7f1cfd1e-936a-4ad7-b196-63c15e3025c5-c000.csv.crc\n",
      "08/17/2022  09:41 AM                12 .part-00124-7f1cfd1e-936a-4ad7-b196-63c15e3025c5-c000.csv.crc\n",
      "08/17/2022  09:41 AM                12 .part-00125-7f1cfd1e-936a-4ad7-b196-63c15e3025c5-c000.csv.crc\n",
      "08/17/2022  09:41 AM                12 .part-00126-7f1cfd1e-936a-4ad7-b196-63c15e3025c5-c000.csv.crc\n",
      "08/17/2022  09:41 AM                12 .part-00127-7f1cfd1e-936a-4ad7-b196-63c15e3025c5-c000.csv.crc\n",
      "08/17/2022  09:41 AM                12 .part-00128-7f1cfd1e-936a-4ad7-b196-63c15e3025c5-c000.csv.crc\n",
      "08/17/2022  09:41 AM                12 .part-00129-7f1cfd1e-936a-4ad7-b196-63c15e3025c5-c000.csv.crc\n",
      "08/17/2022  09:41 AM                12 .part-00130-7f1cfd1e-936a-4ad7-b196-63c15e3025c5-c000.csv.crc\n",
      "08/17/2022  09:41 AM                12 .part-00131-7f1cfd1e-936a-4ad7-b196-63c15e3025c5-c000.csv.crc\n",
      "08/17/2022  09:41 AM                12 .part-00132-7f1cfd1e-936a-4ad7-b196-63c15e3025c5-c000.csv.crc\n",
      "08/17/2022  09:41 AM                12 .part-00133-7f1cfd1e-936a-4ad7-b196-63c15e3025c5-c000.csv.crc\n",
      "08/17/2022  09:41 AM                12 .part-00134-7f1cfd1e-936a-4ad7-b196-63c15e3025c5-c000.csv.crc\n",
      "08/17/2022  09:41 AM                12 .part-00135-7f1cfd1e-936a-4ad7-b196-63c15e3025c5-c000.csv.crc\n",
      "08/17/2022  09:41 AM                12 .part-00136-7f1cfd1e-936a-4ad7-b196-63c15e3025c5-c000.csv.crc\n",
      "08/17/2022  09:41 AM                16 .part-00137-7f1cfd1e-936a-4ad7-b196-63c15e3025c5-c000.csv.crc\n",
      "08/17/2022  09:41 AM                12 .part-00138-7f1cfd1e-936a-4ad7-b196-63c15e3025c5-c000.csv.crc\n",
      "08/17/2022  09:41 AM                12 .part-00139-7f1cfd1e-936a-4ad7-b196-63c15e3025c5-c000.csv.crc\n",
      "08/17/2022  09:41 AM                12 .part-00140-7f1cfd1e-936a-4ad7-b196-63c15e3025c5-c000.csv.crc\n",
      "08/17/2022  09:41 AM                12 .part-00141-7f1cfd1e-936a-4ad7-b196-63c15e3025c5-c000.csv.crc\n",
      "08/17/2022  09:41 AM                12 .part-00142-7f1cfd1e-936a-4ad7-b196-63c15e3025c5-c000.csv.crc\n",
      "08/17/2022  09:41 AM                12 .part-00143-7f1cfd1e-936a-4ad7-b196-63c15e3025c5-c000.csv.crc\n",
      "08/17/2022  09:41 AM                12 .part-00144-7f1cfd1e-936a-4ad7-b196-63c15e3025c5-c000.csv.crc\n",
      "08/17/2022  09:41 AM                12 .part-00145-7f1cfd1e-936a-4ad7-b196-63c15e3025c5-c000.csv.crc\n",
      "08/17/2022  09:41 AM                12 .part-00146-7f1cfd1e-936a-4ad7-b196-63c15e3025c5-c000.csv.crc\n",
      "08/17/2022  09:41 AM                12 .part-00147-7f1cfd1e-936a-4ad7-b196-63c15e3025c5-c000.csv.crc\n",
      "08/17/2022  09:41 AM                12 .part-00148-7f1cfd1e-936a-4ad7-b196-63c15e3025c5-c000.csv.crc\n",
      "08/17/2022  09:41 AM                12 .part-00149-7f1cfd1e-936a-4ad7-b196-63c15e3025c5-c000.csv.crc\n",
      "08/17/2022  09:41 AM                12 .part-00150-7f1cfd1e-936a-4ad7-b196-63c15e3025c5-c000.csv.crc\n",
      "08/17/2022  09:41 AM                12 .part-00151-7f1cfd1e-936a-4ad7-b196-63c15e3025c5-c000.csv.crc\n",
      "08/17/2022  09:41 AM                12 .part-00152-7f1cfd1e-936a-4ad7-b196-63c15e3025c5-c000.csv.crc\n",
      "08/17/2022  09:41 AM                12 .part-00153-7f1cfd1e-936a-4ad7-b196-63c15e3025c5-c000.csv.crc\n",
      "08/17/2022  09:41 AM                12 .part-00154-7f1cfd1e-936a-4ad7-b196-63c15e3025c5-c000.csv.crc\n",
      "08/17/2022  09:41 AM                12 .part-00155-7f1cfd1e-936a-4ad7-b196-63c15e3025c5-c000.csv.crc\n",
      "08/17/2022  09:41 AM                12 .part-00156-7f1cfd1e-936a-4ad7-b196-63c15e3025c5-c000.csv.crc\n",
      "08/17/2022  09:41 AM                12 .part-00157-7f1cfd1e-936a-4ad7-b196-63c15e3025c5-c000.csv.crc\n",
      "08/17/2022  09:41 AM                12 .part-00158-7f1cfd1e-936a-4ad7-b196-63c15e3025c5-c000.csv.crc\n",
      "08/17/2022  09:41 AM                12 .part-00159-7f1cfd1e-936a-4ad7-b196-63c15e3025c5-c000.csv.crc\n",
      "08/17/2022  09:41 AM                12 .part-00160-7f1cfd1e-936a-4ad7-b196-63c15e3025c5-c000.csv.crc\n",
      "08/17/2022  09:41 AM                12 .part-00161-7f1cfd1e-936a-4ad7-b196-63c15e3025c5-c000.csv.crc\n",
      "08/17/2022  09:41 AM                12 .part-00162-7f1cfd1e-936a-4ad7-b196-63c15e3025c5-c000.csv.crc\n",
      "08/17/2022  09:41 AM                12 .part-00163-7f1cfd1e-936a-4ad7-b196-63c15e3025c5-c000.csv.crc\n",
      "08/17/2022  09:41 AM                12 .part-00164-7f1cfd1e-936a-4ad7-b196-63c15e3025c5-c000.csv.crc\n",
      "08/17/2022  09:41 AM                12 .part-00165-7f1cfd1e-936a-4ad7-b196-63c15e3025c5-c000.csv.crc\n",
      "08/17/2022  09:41 AM                12 .part-00166-7f1cfd1e-936a-4ad7-b196-63c15e3025c5-c000.csv.crc\n",
      "08/17/2022  09:41 AM                12 .part-00167-7f1cfd1e-936a-4ad7-b196-63c15e3025c5-c000.csv.crc\n",
      "08/17/2022  09:41 AM                12 .part-00168-7f1cfd1e-936a-4ad7-b196-63c15e3025c5-c000.csv.crc\n",
      "08/17/2022  09:41 AM                12 .part-00169-7f1cfd1e-936a-4ad7-b196-63c15e3025c5-c000.csv.crc\n",
      "08/17/2022  09:41 AM                12 .part-00170-7f1cfd1e-936a-4ad7-b196-63c15e3025c5-c000.csv.crc\n",
      "08/17/2022  09:41 AM                12 .part-00171-7f1cfd1e-936a-4ad7-b196-63c15e3025c5-c000.csv.crc\n",
      "08/17/2022  09:41 AM                12 .part-00172-7f1cfd1e-936a-4ad7-b196-63c15e3025c5-c000.csv.crc\n",
      "08/17/2022  09:41 AM                12 .part-00173-7f1cfd1e-936a-4ad7-b196-63c15e3025c5-c000.csv.crc\n",
      "08/17/2022  09:41 AM                12 .part-00174-7f1cfd1e-936a-4ad7-b196-63c15e3025c5-c000.csv.crc\n",
      "08/17/2022  09:41 AM                12 .part-00175-7f1cfd1e-936a-4ad7-b196-63c15e3025c5-c000.csv.crc\n",
      "08/17/2022  09:41 AM                12 .part-00176-7f1cfd1e-936a-4ad7-b196-63c15e3025c5-c000.csv.crc\n",
      "08/17/2022  09:41 AM                12 .part-00177-7f1cfd1e-936a-4ad7-b196-63c15e3025c5-c000.csv.crc\n",
      "08/17/2022  09:41 AM                12 .part-00178-7f1cfd1e-936a-4ad7-b196-63c15e3025c5-c000.csv.crc\n",
      "08/17/2022  09:41 AM                12 .part-00179-7f1cfd1e-936a-4ad7-b196-63c15e3025c5-c000.csv.crc\n",
      "08/17/2022  09:41 AM                12 .part-00180-7f1cfd1e-936a-4ad7-b196-63c15e3025c5-c000.csv.crc\n",
      "08/17/2022  09:41 AM                12 .part-00181-7f1cfd1e-936a-4ad7-b196-63c15e3025c5-c000.csv.crc\n",
      "08/17/2022  09:41 AM                12 .part-00182-7f1cfd1e-936a-4ad7-b196-63c15e3025c5-c000.csv.crc\n",
      "08/17/2022  09:41 AM                12 .part-00183-7f1cfd1e-936a-4ad7-b196-63c15e3025c5-c000.csv.crc\n",
      "08/17/2022  09:41 AM                12 .part-00184-7f1cfd1e-936a-4ad7-b196-63c15e3025c5-c000.csv.crc\n",
      "08/17/2022  09:41 AM                12 .part-00185-7f1cfd1e-936a-4ad7-b196-63c15e3025c5-c000.csv.crc\n",
      "08/17/2022  09:41 AM                12 .part-00186-7f1cfd1e-936a-4ad7-b196-63c15e3025c5-c000.csv.crc\n",
      "08/17/2022  09:41 AM                12 .part-00187-7f1cfd1e-936a-4ad7-b196-63c15e3025c5-c000.csv.crc\n",
      "08/17/2022  09:41 AM                12 .part-00188-7f1cfd1e-936a-4ad7-b196-63c15e3025c5-c000.csv.crc\n",
      "08/17/2022  09:41 AM                12 .part-00189-7f1cfd1e-936a-4ad7-b196-63c15e3025c5-c000.csv.crc\n",
      "08/17/2022  09:41 AM                12 .part-00190-7f1cfd1e-936a-4ad7-b196-63c15e3025c5-c000.csv.crc\n",
      "08/17/2022  09:41 AM                12 .part-00191-7f1cfd1e-936a-4ad7-b196-63c15e3025c5-c000.csv.crc\n",
      "08/17/2022  09:41 AM                12 .part-00192-7f1cfd1e-936a-4ad7-b196-63c15e3025c5-c000.csv.crc\n",
      "08/17/2022  09:41 AM                16 .part-00193-7f1cfd1e-936a-4ad7-b196-63c15e3025c5-c000.csv.crc\n",
      "08/17/2022  09:41 AM                12 .part-00194-7f1cfd1e-936a-4ad7-b196-63c15e3025c5-c000.csv.crc\n",
      "08/17/2022  09:41 AM                12 .part-00195-7f1cfd1e-936a-4ad7-b196-63c15e3025c5-c000.csv.crc\n",
      "08/17/2022  09:41 AM                16 .part-00196-7f1cfd1e-936a-4ad7-b196-63c15e3025c5-c000.csv.crc\n",
      "08/17/2022  09:41 AM                12 .part-00197-7f1cfd1e-936a-4ad7-b196-63c15e3025c5-c000.csv.crc\n",
      "08/17/2022  09:41 AM                12 .part-00198-7f1cfd1e-936a-4ad7-b196-63c15e3025c5-c000.csv.crc\n",
      "08/17/2022  09:41 AM                12 .part-00199-7f1cfd1e-936a-4ad7-b196-63c15e3025c5-c000.csv.crc\n",
      "08/17/2022  09:41 AM                 0 _SUCCESS\n",
      "08/17/2022  09:41 AM               498 part-00000-7f1cfd1e-936a-4ad7-b196-63c15e3025c5-c000.csv\n",
      "08/17/2022  09:41 AM               412 part-00001-7f1cfd1e-936a-4ad7-b196-63c15e3025c5-c000.csv\n",
      "08/17/2022  09:41 AM               211 part-00002-7f1cfd1e-936a-4ad7-b196-63c15e3025c5-c000.csv\n",
      "08/17/2022  09:41 AM               401 part-00003-7f1cfd1e-936a-4ad7-b196-63c15e3025c5-c000.csv\n",
      "08/17/2022  09:41 AM               271 part-00004-7f1cfd1e-936a-4ad7-b196-63c15e3025c5-c000.csv\n",
      "08/17/2022  09:41 AM               269 part-00005-7f1cfd1e-936a-4ad7-b196-63c15e3025c5-c000.csv\n",
      "08/17/2022  09:41 AM               321 part-00006-7f1cfd1e-936a-4ad7-b196-63c15e3025c5-c000.csv\n",
      "08/17/2022  09:41 AM               363 part-00007-7f1cfd1e-936a-4ad7-b196-63c15e3025c5-c000.csv\n",
      "08/17/2022  09:41 AM               426 part-00008-7f1cfd1e-936a-4ad7-b196-63c15e3025c5-c000.csv\n",
      "08/17/2022  09:41 AM               340 part-00009-7f1cfd1e-936a-4ad7-b196-63c15e3025c5-c000.csv\n",
      "08/17/2022  09:41 AM               249 part-00010-7f1cfd1e-936a-4ad7-b196-63c15e3025c5-c000.csv\n",
      "08/17/2022  09:41 AM               437 part-00011-7f1cfd1e-936a-4ad7-b196-63c15e3025c5-c000.csv\n",
      "08/17/2022  09:41 AM               446 part-00012-7f1cfd1e-936a-4ad7-b196-63c15e3025c5-c000.csv\n",
      "08/17/2022  09:41 AM               554 part-00013-7f1cfd1e-936a-4ad7-b196-63c15e3025c5-c000.csv\n",
      "08/17/2022  09:41 AM               244 part-00014-7f1cfd1e-936a-4ad7-b196-63c15e3025c5-c000.csv\n",
      "08/17/2022  09:41 AM               257 part-00015-7f1cfd1e-936a-4ad7-b196-63c15e3025c5-c000.csv\n",
      "08/17/2022  09:41 AM               339 part-00016-7f1cfd1e-936a-4ad7-b196-63c15e3025c5-c000.csv\n",
      "08/17/2022  09:41 AM               399 part-00017-7f1cfd1e-936a-4ad7-b196-63c15e3025c5-c000.csv\n",
      "08/17/2022  09:41 AM               224 part-00018-7f1cfd1e-936a-4ad7-b196-63c15e3025c5-c000.csv\n",
      "08/17/2022  09:41 AM               348 part-00019-7f1cfd1e-936a-4ad7-b196-63c15e3025c5-c000.csv\n",
      "08/17/2022  09:41 AM               439 part-00020-7f1cfd1e-936a-4ad7-b196-63c15e3025c5-c000.csv\n",
      "08/17/2022  09:41 AM               311 part-00021-7f1cfd1e-936a-4ad7-b196-63c15e3025c5-c000.csv\n",
      "08/17/2022  09:41 AM               358 part-00022-7f1cfd1e-936a-4ad7-b196-63c15e3025c5-c000.csv\n",
      "08/17/2022  09:41 AM               388 part-00023-7f1cfd1e-936a-4ad7-b196-63c15e3025c5-c000.csv\n",
      "08/17/2022  09:41 AM               379 part-00024-7f1cfd1e-936a-4ad7-b196-63c15e3025c5-c000.csv\n",
      "08/17/2022  09:41 AM               511 part-00025-7f1cfd1e-936a-4ad7-b196-63c15e3025c5-c000.csv\n",
      "08/17/2022  09:41 AM               325 part-00026-7f1cfd1e-936a-4ad7-b196-63c15e3025c5-c000.csv\n",
      "08/17/2022  09:41 AM               383 part-00027-7f1cfd1e-936a-4ad7-b196-63c15e3025c5-c000.csv\n",
      "08/17/2022  09:41 AM               464 part-00028-7f1cfd1e-936a-4ad7-b196-63c15e3025c5-c000.csv\n",
      "08/17/2022  09:41 AM               404 part-00029-7f1cfd1e-936a-4ad7-b196-63c15e3025c5-c000.csv\n",
      "08/17/2022  09:41 AM               553 part-00030-7f1cfd1e-936a-4ad7-b196-63c15e3025c5-c000.csv\n",
      "08/17/2022  09:41 AM               351 part-00031-7f1cfd1e-936a-4ad7-b196-63c15e3025c5-c000.csv\n",
      "08/17/2022  09:41 AM               442 part-00032-7f1cfd1e-936a-4ad7-b196-63c15e3025c5-c000.csv\n",
      "08/17/2022  09:41 AM               467 part-00033-7f1cfd1e-936a-4ad7-b196-63c15e3025c5-c000.csv\n",
      "08/17/2022  09:41 AM               502 part-00034-7f1cfd1e-936a-4ad7-b196-63c15e3025c5-c000.csv\n",
      "08/17/2022  09:41 AM               412 part-00035-7f1cfd1e-936a-4ad7-b196-63c15e3025c5-c000.csv\n",
      "08/17/2022  09:41 AM               353 part-00036-7f1cfd1e-936a-4ad7-b196-63c15e3025c5-c000.csv\n",
      "08/17/2022  09:41 AM               301 part-00037-7f1cfd1e-936a-4ad7-b196-63c15e3025c5-c000.csv\n",
      "08/17/2022  09:41 AM               351 part-00038-7f1cfd1e-936a-4ad7-b196-63c15e3025c5-c000.csv\n",
      "08/17/2022  09:41 AM               374 part-00039-7f1cfd1e-936a-4ad7-b196-63c15e3025c5-c000.csv\n",
      "08/17/2022  09:41 AM               385 part-00040-7f1cfd1e-936a-4ad7-b196-63c15e3025c5-c000.csv\n",
      "08/17/2022  09:41 AM               455 part-00041-7f1cfd1e-936a-4ad7-b196-63c15e3025c5-c000.csv\n",
      "08/17/2022  09:41 AM               462 part-00042-7f1cfd1e-936a-4ad7-b196-63c15e3025c5-c000.csv\n",
      "08/17/2022  09:41 AM               297 part-00043-7f1cfd1e-936a-4ad7-b196-63c15e3025c5-c000.csv\n",
      "08/17/2022  09:41 AM               320 part-00044-7f1cfd1e-936a-4ad7-b196-63c15e3025c5-c000.csv\n",
      "08/17/2022  09:41 AM               383 part-00045-7f1cfd1e-936a-4ad7-b196-63c15e3025c5-c000.csv\n",
      "08/17/2022  09:41 AM               477 part-00046-7f1cfd1e-936a-4ad7-b196-63c15e3025c5-c000.csv\n",
      "08/17/2022  09:41 AM               324 part-00047-7f1cfd1e-936a-4ad7-b196-63c15e3025c5-c000.csv\n",
      "08/17/2022  09:41 AM               438 part-00048-7f1cfd1e-936a-4ad7-b196-63c15e3025c5-c000.csv\n",
      "08/17/2022  09:41 AM               283 part-00049-7f1cfd1e-936a-4ad7-b196-63c15e3025c5-c000.csv\n",
      "08/17/2022  09:41 AM               402 part-00050-7f1cfd1e-936a-4ad7-b196-63c15e3025c5-c000.csv\n",
      "08/17/2022  09:41 AM               239 part-00051-7f1cfd1e-936a-4ad7-b196-63c15e3025c5-c000.csv\n",
      "08/17/2022  09:41 AM               433 part-00052-7f1cfd1e-936a-4ad7-b196-63c15e3025c5-c000.csv\n",
      "08/17/2022  09:41 AM               522 part-00053-7f1cfd1e-936a-4ad7-b196-63c15e3025c5-c000.csv\n",
      "08/17/2022  09:41 AM               264 part-00054-7f1cfd1e-936a-4ad7-b196-63c15e3025c5-c000.csv\n",
      "08/17/2022  09:41 AM               393 part-00055-7f1cfd1e-936a-4ad7-b196-63c15e3025c5-c000.csv\n",
      "08/17/2022  09:41 AM               282 part-00056-7f1cfd1e-936a-4ad7-b196-63c15e3025c5-c000.csv\n",
      "08/17/2022  09:41 AM               435 part-00057-7f1cfd1e-936a-4ad7-b196-63c15e3025c5-c000.csv\n",
      "08/17/2022  09:41 AM               202 part-00058-7f1cfd1e-936a-4ad7-b196-63c15e3025c5-c000.csv\n",
      "08/17/2022  09:41 AM               313 part-00059-7f1cfd1e-936a-4ad7-b196-63c15e3025c5-c000.csv\n",
      "08/17/2022  09:41 AM               420 part-00060-7f1cfd1e-936a-4ad7-b196-63c15e3025c5-c000.csv\n",
      "08/17/2022  09:41 AM               344 part-00061-7f1cfd1e-936a-4ad7-b196-63c15e3025c5-c000.csv\n",
      "08/17/2022  09:41 AM               347 part-00062-7f1cfd1e-936a-4ad7-b196-63c15e3025c5-c000.csv\n",
      "08/17/2022  09:41 AM               376 part-00063-7f1cfd1e-936a-4ad7-b196-63c15e3025c5-c000.csv\n",
      "08/17/2022  09:41 AM               331 part-00064-7f1cfd1e-936a-4ad7-b196-63c15e3025c5-c000.csv\n",
      "08/17/2022  09:41 AM               427 part-00065-7f1cfd1e-936a-4ad7-b196-63c15e3025c5-c000.csv\n",
      "08/17/2022  09:41 AM               413 part-00066-7f1cfd1e-936a-4ad7-b196-63c15e3025c5-c000.csv\n",
      "08/17/2022  09:41 AM               392 part-00067-7f1cfd1e-936a-4ad7-b196-63c15e3025c5-c000.csv\n",
      "08/17/2022  09:41 AM               355 part-00068-7f1cfd1e-936a-4ad7-b196-63c15e3025c5-c000.csv\n",
      "08/17/2022  09:41 AM               399 part-00069-7f1cfd1e-936a-4ad7-b196-63c15e3025c5-c000.csv\n",
      "08/17/2022  09:41 AM               435 part-00070-7f1cfd1e-936a-4ad7-b196-63c15e3025c5-c000.csv\n",
      "08/17/2022  09:41 AM               346 part-00071-7f1cfd1e-936a-4ad7-b196-63c15e3025c5-c000.csv\n",
      "08/17/2022  09:41 AM               394 part-00072-7f1cfd1e-936a-4ad7-b196-63c15e3025c5-c000.csv\n",
      "08/17/2022  09:41 AM               322 part-00073-7f1cfd1e-936a-4ad7-b196-63c15e3025c5-c000.csv\n",
      "08/17/2022  09:41 AM               249 part-00074-7f1cfd1e-936a-4ad7-b196-63c15e3025c5-c000.csv\n",
      "08/17/2022  09:41 AM               349 part-00075-7f1cfd1e-936a-4ad7-b196-63c15e3025c5-c000.csv\n",
      "08/17/2022  09:41 AM               361 part-00076-7f1cfd1e-936a-4ad7-b196-63c15e3025c5-c000.csv\n",
      "08/17/2022  09:41 AM               403 part-00077-7f1cfd1e-936a-4ad7-b196-63c15e3025c5-c000.csv\n",
      "08/17/2022  09:41 AM               406 part-00078-7f1cfd1e-936a-4ad7-b196-63c15e3025c5-c000.csv\n",
      "08/17/2022  09:41 AM               400 part-00079-7f1cfd1e-936a-4ad7-b196-63c15e3025c5-c000.csv\n",
      "08/17/2022  09:41 AM               500 part-00080-7f1cfd1e-936a-4ad7-b196-63c15e3025c5-c000.csv\n",
      "08/17/2022  09:41 AM               439 part-00081-7f1cfd1e-936a-4ad7-b196-63c15e3025c5-c000.csv\n",
      "08/17/2022  09:41 AM               453 part-00082-7f1cfd1e-936a-4ad7-b196-63c15e3025c5-c000.csv\n",
      "08/17/2022  09:41 AM               369 part-00083-7f1cfd1e-936a-4ad7-b196-63c15e3025c5-c000.csv\n",
      "08/17/2022  09:41 AM               340 part-00084-7f1cfd1e-936a-4ad7-b196-63c15e3025c5-c000.csv\n",
      "08/17/2022  09:41 AM               433 part-00085-7f1cfd1e-936a-4ad7-b196-63c15e3025c5-c000.csv\n",
      "08/17/2022  09:41 AM               236 part-00086-7f1cfd1e-936a-4ad7-b196-63c15e3025c5-c000.csv\n",
      "08/17/2022  09:41 AM               286 part-00087-7f1cfd1e-936a-4ad7-b196-63c15e3025c5-c000.csv\n",
      "08/17/2022  09:41 AM               450 part-00088-7f1cfd1e-936a-4ad7-b196-63c15e3025c5-c000.csv\n",
      "08/17/2022  09:41 AM               307 part-00089-7f1cfd1e-936a-4ad7-b196-63c15e3025c5-c000.csv\n",
      "08/17/2022  09:41 AM               372 part-00090-7f1cfd1e-936a-4ad7-b196-63c15e3025c5-c000.csv\n",
      "08/17/2022  09:41 AM               428 part-00091-7f1cfd1e-936a-4ad7-b196-63c15e3025c5-c000.csv\n",
      "08/17/2022  09:41 AM               343 part-00092-7f1cfd1e-936a-4ad7-b196-63c15e3025c5-c000.csv\n",
      "08/17/2022  09:41 AM               353 part-00093-7f1cfd1e-936a-4ad7-b196-63c15e3025c5-c000.csv\n",
      "08/17/2022  09:41 AM               393 part-00094-7f1cfd1e-936a-4ad7-b196-63c15e3025c5-c000.csv\n",
      "08/17/2022  09:41 AM               531 part-00095-7f1cfd1e-936a-4ad7-b196-63c15e3025c5-c000.csv\n",
      "08/17/2022  09:41 AM               386 part-00096-7f1cfd1e-936a-4ad7-b196-63c15e3025c5-c000.csv\n",
      "08/17/2022  09:41 AM               406 part-00097-7f1cfd1e-936a-4ad7-b196-63c15e3025c5-c000.csv\n",
      "08/17/2022  09:41 AM               319 part-00098-7f1cfd1e-936a-4ad7-b196-63c15e3025c5-c000.csv\n",
      "08/17/2022  09:41 AM               397 part-00099-7f1cfd1e-936a-4ad7-b196-63c15e3025c5-c000.csv\n",
      "08/17/2022  09:41 AM               350 part-00100-7f1cfd1e-936a-4ad7-b196-63c15e3025c5-c000.csv\n",
      "08/17/2022  09:41 AM               379 part-00101-7f1cfd1e-936a-4ad7-b196-63c15e3025c5-c000.csv\n",
      "08/17/2022  09:41 AM               398 part-00102-7f1cfd1e-936a-4ad7-b196-63c15e3025c5-c000.csv\n",
      "08/17/2022  09:41 AM               307 part-00103-7f1cfd1e-936a-4ad7-b196-63c15e3025c5-c000.csv\n",
      "08/17/2022  09:41 AM               403 part-00104-7f1cfd1e-936a-4ad7-b196-63c15e3025c5-c000.csv\n",
      "08/17/2022  09:41 AM               436 part-00105-7f1cfd1e-936a-4ad7-b196-63c15e3025c5-c000.csv\n",
      "08/17/2022  09:41 AM               380 part-00106-7f1cfd1e-936a-4ad7-b196-63c15e3025c5-c000.csv\n",
      "08/17/2022  09:41 AM               303 part-00107-7f1cfd1e-936a-4ad7-b196-63c15e3025c5-c000.csv\n",
      "08/17/2022  09:41 AM               372 part-00108-7f1cfd1e-936a-4ad7-b196-63c15e3025c5-c000.csv\n",
      "08/17/2022  09:41 AM               520 part-00109-7f1cfd1e-936a-4ad7-b196-63c15e3025c5-c000.csv\n",
      "08/17/2022  09:41 AM               514 part-00110-7f1cfd1e-936a-4ad7-b196-63c15e3025c5-c000.csv\n",
      "08/17/2022  09:41 AM               297 part-00111-7f1cfd1e-936a-4ad7-b196-63c15e3025c5-c000.csv\n",
      "08/17/2022  09:41 AM               362 part-00112-7f1cfd1e-936a-4ad7-b196-63c15e3025c5-c000.csv\n",
      "08/17/2022  09:41 AM               428 part-00113-7f1cfd1e-936a-4ad7-b196-63c15e3025c5-c000.csv\n",
      "08/17/2022  09:41 AM               397 part-00114-7f1cfd1e-936a-4ad7-b196-63c15e3025c5-c000.csv\n",
      "08/17/2022  09:41 AM               357 part-00115-7f1cfd1e-936a-4ad7-b196-63c15e3025c5-c000.csv\n",
      "08/17/2022  09:41 AM               434 part-00116-7f1cfd1e-936a-4ad7-b196-63c15e3025c5-c000.csv\n",
      "08/17/2022  09:41 AM               380 part-00117-7f1cfd1e-936a-4ad7-b196-63c15e3025c5-c000.csv\n",
      "08/17/2022  09:41 AM               471 part-00118-7f1cfd1e-936a-4ad7-b196-63c15e3025c5-c000.csv\n",
      "08/17/2022  09:41 AM               346 part-00119-7f1cfd1e-936a-4ad7-b196-63c15e3025c5-c000.csv\n",
      "08/17/2022  09:41 AM               445 part-00120-7f1cfd1e-936a-4ad7-b196-63c15e3025c5-c000.csv\n",
      "08/17/2022  09:41 AM               473 part-00121-7f1cfd1e-936a-4ad7-b196-63c15e3025c5-c000.csv\n",
      "08/17/2022  09:41 AM               319 part-00122-7f1cfd1e-936a-4ad7-b196-63c15e3025c5-c000.csv\n",
      "08/17/2022  09:41 AM               425 part-00123-7f1cfd1e-936a-4ad7-b196-63c15e3025c5-c000.csv\n",
      "08/17/2022  09:41 AM               298 part-00124-7f1cfd1e-936a-4ad7-b196-63c15e3025c5-c000.csv\n",
      "08/17/2022  09:41 AM               427 part-00125-7f1cfd1e-936a-4ad7-b196-63c15e3025c5-c000.csv\n",
      "08/17/2022  09:41 AM               293 part-00126-7f1cfd1e-936a-4ad7-b196-63c15e3025c5-c000.csv\n",
      "08/17/2022  09:41 AM               502 part-00127-7f1cfd1e-936a-4ad7-b196-63c15e3025c5-c000.csv\n",
      "08/17/2022  09:41 AM               498 part-00128-7f1cfd1e-936a-4ad7-b196-63c15e3025c5-c000.csv\n",
      "08/17/2022  09:41 AM               390 part-00129-7f1cfd1e-936a-4ad7-b196-63c15e3025c5-c000.csv\n",
      "08/17/2022  09:41 AM               383 part-00130-7f1cfd1e-936a-4ad7-b196-63c15e3025c5-c000.csv\n",
      "08/17/2022  09:41 AM               378 part-00131-7f1cfd1e-936a-4ad7-b196-63c15e3025c5-c000.csv\n",
      "08/17/2022  09:41 AM               292 part-00132-7f1cfd1e-936a-4ad7-b196-63c15e3025c5-c000.csv\n",
      "08/17/2022  09:41 AM               392 part-00133-7f1cfd1e-936a-4ad7-b196-63c15e3025c5-c000.csv\n",
      "08/17/2022  09:41 AM               364 part-00134-7f1cfd1e-936a-4ad7-b196-63c15e3025c5-c000.csv\n",
      "08/17/2022  09:41 AM               421 part-00135-7f1cfd1e-936a-4ad7-b196-63c15e3025c5-c000.csv\n",
      "08/17/2022  09:41 AM               433 part-00136-7f1cfd1e-936a-4ad7-b196-63c15e3025c5-c000.csv\n",
      "08/17/2022  09:41 AM               538 part-00137-7f1cfd1e-936a-4ad7-b196-63c15e3025c5-c000.csv\n",
      "08/17/2022  09:41 AM               407 part-00138-7f1cfd1e-936a-4ad7-b196-63c15e3025c5-c000.csv\n",
      "08/17/2022  09:41 AM               431 part-00139-7f1cfd1e-936a-4ad7-b196-63c15e3025c5-c000.csv\n",
      "08/17/2022  09:41 AM               302 part-00140-7f1cfd1e-936a-4ad7-b196-63c15e3025c5-c000.csv\n",
      "08/17/2022  09:41 AM               422 part-00141-7f1cfd1e-936a-4ad7-b196-63c15e3025c5-c000.csv\n",
      "08/17/2022  09:41 AM               356 part-00142-7f1cfd1e-936a-4ad7-b196-63c15e3025c5-c000.csv\n",
      "08/17/2022  09:41 AM               329 part-00143-7f1cfd1e-936a-4ad7-b196-63c15e3025c5-c000.csv\n",
      "08/17/2022  09:41 AM               303 part-00144-7f1cfd1e-936a-4ad7-b196-63c15e3025c5-c000.csv\n",
      "08/17/2022  09:41 AM               389 part-00145-7f1cfd1e-936a-4ad7-b196-63c15e3025c5-c000.csv\n",
      "08/17/2022  09:41 AM               316 part-00146-7f1cfd1e-936a-4ad7-b196-63c15e3025c5-c000.csv\n",
      "08/17/2022  09:41 AM               443 part-00147-7f1cfd1e-936a-4ad7-b196-63c15e3025c5-c000.csv\n",
      "08/17/2022  09:41 AM               364 part-00148-7f1cfd1e-936a-4ad7-b196-63c15e3025c5-c000.csv\n",
      "08/17/2022  09:41 AM               325 part-00149-7f1cfd1e-936a-4ad7-b196-63c15e3025c5-c000.csv\n",
      "08/17/2022  09:41 AM               296 part-00150-7f1cfd1e-936a-4ad7-b196-63c15e3025c5-c000.csv\n",
      "08/17/2022  09:41 AM               345 part-00151-7f1cfd1e-936a-4ad7-b196-63c15e3025c5-c000.csv\n",
      "08/17/2022  09:41 AM               356 part-00152-7f1cfd1e-936a-4ad7-b196-63c15e3025c5-c000.csv\n",
      "08/17/2022  09:41 AM               350 part-00153-7f1cfd1e-936a-4ad7-b196-63c15e3025c5-c000.csv\n",
      "08/17/2022  09:41 AM               313 part-00154-7f1cfd1e-936a-4ad7-b196-63c15e3025c5-c000.csv\n",
      "08/17/2022  09:41 AM               472 part-00155-7f1cfd1e-936a-4ad7-b196-63c15e3025c5-c000.csv\n",
      "08/17/2022  09:41 AM               449 part-00156-7f1cfd1e-936a-4ad7-b196-63c15e3025c5-c000.csv\n",
      "08/17/2022  09:41 AM               480 part-00157-7f1cfd1e-936a-4ad7-b196-63c15e3025c5-c000.csv\n",
      "08/17/2022  09:41 AM               351 part-00158-7f1cfd1e-936a-4ad7-b196-63c15e3025c5-c000.csv\n",
      "08/17/2022  09:41 AM               446 part-00159-7f1cfd1e-936a-4ad7-b196-63c15e3025c5-c000.csv\n",
      "08/17/2022  09:41 AM               282 part-00160-7f1cfd1e-936a-4ad7-b196-63c15e3025c5-c000.csv\n",
      "08/17/2022  09:41 AM               487 part-00161-7f1cfd1e-936a-4ad7-b196-63c15e3025c5-c000.csv\n",
      "08/17/2022  09:41 AM               360 part-00162-7f1cfd1e-936a-4ad7-b196-63c15e3025c5-c000.csv\n",
      "08/17/2022  09:41 AM               415 part-00163-7f1cfd1e-936a-4ad7-b196-63c15e3025c5-c000.csv\n",
      "08/17/2022  09:41 AM               451 part-00164-7f1cfd1e-936a-4ad7-b196-63c15e3025c5-c000.csv\n",
      "08/17/2022  09:41 AM               321 part-00165-7f1cfd1e-936a-4ad7-b196-63c15e3025c5-c000.csv\n",
      "08/17/2022  09:41 AM               450 part-00166-7f1cfd1e-936a-4ad7-b196-63c15e3025c5-c000.csv\n",
      "08/17/2022  09:41 AM               399 part-00167-7f1cfd1e-936a-4ad7-b196-63c15e3025c5-c000.csv\n",
      "08/17/2022  09:41 AM               440 part-00168-7f1cfd1e-936a-4ad7-b196-63c15e3025c5-c000.csv\n",
      "08/17/2022  09:41 AM               285 part-00169-7f1cfd1e-936a-4ad7-b196-63c15e3025c5-c000.csv\n",
      "08/17/2022  09:41 AM               283 part-00170-7f1cfd1e-936a-4ad7-b196-63c15e3025c5-c000.csv\n",
      "08/17/2022  09:41 AM               435 part-00171-7f1cfd1e-936a-4ad7-b196-63c15e3025c5-c000.csv\n",
      "08/17/2022  09:41 AM               397 part-00172-7f1cfd1e-936a-4ad7-b196-63c15e3025c5-c000.csv\n",
      "08/17/2022  09:41 AM               430 part-00173-7f1cfd1e-936a-4ad7-b196-63c15e3025c5-c000.csv\n",
      "08/17/2022  09:41 AM               363 part-00174-7f1cfd1e-936a-4ad7-b196-63c15e3025c5-c000.csv\n",
      "08/17/2022  09:41 AM               315 part-00175-7f1cfd1e-936a-4ad7-b196-63c15e3025c5-c000.csv\n",
      "08/17/2022  09:41 AM               295 part-00176-7f1cfd1e-936a-4ad7-b196-63c15e3025c5-c000.csv\n",
      "08/17/2022  09:41 AM               370 part-00177-7f1cfd1e-936a-4ad7-b196-63c15e3025c5-c000.csv\n",
      "08/17/2022  09:41 AM               390 part-00178-7f1cfd1e-936a-4ad7-b196-63c15e3025c5-c000.csv\n",
      "08/17/2022  09:41 AM               361 part-00179-7f1cfd1e-936a-4ad7-b196-63c15e3025c5-c000.csv\n",
      "08/17/2022  09:41 AM               470 part-00180-7f1cfd1e-936a-4ad7-b196-63c15e3025c5-c000.csv\n",
      "08/17/2022  09:41 AM               331 part-00181-7f1cfd1e-936a-4ad7-b196-63c15e3025c5-c000.csv\n",
      "08/17/2022  09:41 AM               384 part-00182-7f1cfd1e-936a-4ad7-b196-63c15e3025c5-c000.csv\n",
      "08/17/2022  09:41 AM               373 part-00183-7f1cfd1e-936a-4ad7-b196-63c15e3025c5-c000.csv\n",
      "08/17/2022  09:41 AM               329 part-00184-7f1cfd1e-936a-4ad7-b196-63c15e3025c5-c000.csv\n",
      "08/17/2022  09:41 AM               481 part-00185-7f1cfd1e-936a-4ad7-b196-63c15e3025c5-c000.csv\n",
      "08/17/2022  09:41 AM               405 part-00186-7f1cfd1e-936a-4ad7-b196-63c15e3025c5-c000.csv\n",
      "08/17/2022  09:41 AM               343 part-00187-7f1cfd1e-936a-4ad7-b196-63c15e3025c5-c000.csv\n",
      "08/17/2022  09:41 AM               386 part-00188-7f1cfd1e-936a-4ad7-b196-63c15e3025c5-c000.csv\n",
      "08/17/2022  09:41 AM               421 part-00189-7f1cfd1e-936a-4ad7-b196-63c15e3025c5-c000.csv\n",
      "08/17/2022  09:41 AM               299 part-00190-7f1cfd1e-936a-4ad7-b196-63c15e3025c5-c000.csv\n"
     ]
    },
    {
     "name": "stdout",
     "output_type": "stream",
     "text": [
      "08/17/2022  09:41 AM               320 part-00191-7f1cfd1e-936a-4ad7-b196-63c15e3025c5-c000.csv\n",
      "08/17/2022  09:41 AM               277 part-00192-7f1cfd1e-936a-4ad7-b196-63c15e3025c5-c000.csv\n",
      "08/17/2022  09:41 AM               529 part-00193-7f1cfd1e-936a-4ad7-b196-63c15e3025c5-c000.csv\n",
      "08/17/2022  09:41 AM               448 part-00194-7f1cfd1e-936a-4ad7-b196-63c15e3025c5-c000.csv\n",
      "08/17/2022  09:41 AM               339 part-00195-7f1cfd1e-936a-4ad7-b196-63c15e3025c5-c000.csv\n",
      "08/17/2022  09:41 AM               562 part-00196-7f1cfd1e-936a-4ad7-b196-63c15e3025c5-c000.csv\n",
      "08/17/2022  09:41 AM               355 part-00197-7f1cfd1e-936a-4ad7-b196-63c15e3025c5-c000.csv\n",
      "08/17/2022  09:41 AM               473 part-00198-7f1cfd1e-936a-4ad7-b196-63c15e3025c5-c000.csv\n",
      "08/17/2022  09:41 AM               351 part-00199-7f1cfd1e-936a-4ad7-b196-63c15e3025c5-c000.csv\n",
      "             402 File(s)         78,795 bytes\n",
      "               2 Dir(s)  88,106,213,376 bytes free\n"
     ]
    }
   ],
   "source": [
    "ls simple_count.csv"
   ]
  },
  {
   "cell_type": "markdown",
   "id": "938a55c7",
   "metadata": {},
   "source": [
    "You can reduce the number of partitions with the `coalesce` method and set your desired number of partitions. I'm going to put one file per partition."
   ]
  },
  {
   "cell_type": "code",
   "execution_count": 39,
   "id": "e77eab96",
   "metadata": {},
   "outputs": [],
   "source": [
    "results.coalesce(1).write.csv(\"my_single_partition.csv\")"
   ]
  },
  {
   "cell_type": "markdown",
   "id": "73f0239a",
   "metadata": {},
   "source": [
    "Let's take a look at this file."
   ]
  },
  {
   "cell_type": "code",
   "execution_count": 52,
   "id": "337def8e",
   "metadata": {},
   "outputs": [
    {
     "name": "stdout",
     "output_type": "stream",
     "text": [
      " Volume in drive D is Yeni Birim\n",
      " Volume Serial Number is B6A7-CDC9\n",
      "\n",
      " Directory of D:\\My-Works\\Github-Book\\BigData\\DataAnalysisWithPythonAndPySpark-trunk\\my_single_partition.csv\n",
      "\n",
      "08/17/2022  10:03 AM    <DIR>          .\n",
      "08/17/2022  10:03 AM    <DIR>          ..\n",
      "08/17/2022  10:03 AM                 8 ._SUCCESS.crc\n",
      "08/17/2022  10:03 AM               608 .part-00000-9ded3cad-e2ff-4335-a199-682b6213590b-c000.csv.crc\n",
      "08/17/2022  10:03 AM                 0 _SUCCESS\n",
      "08/17/2022  10:03 AM            76,351 part-00000-9ded3cad-e2ff-4335-a199-682b6213590b-c000.csv\n",
      "               4 File(s)         76,967 bytes\n",
      "               2 Dir(s)  88,106,090,496 bytes free\n"
     ]
    }
   ],
   "source": [
    "ls my_single_partition.csv"
   ]
  },
  {
   "cell_type": "markdown",
   "id": "032ea598",
   "metadata": {},
   "source": [
    "Nice we wrote our record in a CSV file."
   ]
  },
  {
   "cell_type": "code",
   "execution_count": null,
   "id": "a465bb81",
   "metadata": {},
   "outputs": [],
   "source": []
  }
 ],
 "metadata": {
  "kernelspec": {
   "display_name": "Python 3 (ipykernel)",
   "language": "python",
   "name": "python3"
  },
  "language_info": {
   "codemirror_mode": {
    "name": "ipython",
    "version": 3
   },
   "file_extension": ".py",
   "mimetype": "text/x-python",
   "name": "python",
   "nbconvert_exporter": "python",
   "pygments_lexer": "ipython3",
   "version": "3.10.0"
  }
 },
 "nbformat": 4,
 "nbformat_minor": 5
}
