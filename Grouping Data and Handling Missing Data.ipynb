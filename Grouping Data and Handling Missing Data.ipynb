{
 "cells": [
  {
   "cell_type": "markdown",
   "id": "ea7efd99",
   "metadata": {},
   "source": [
    "# Grouping Data & Handling Missing Data"
   ]
  },
  {
   "cell_type": "markdown",
   "id": "0e748a43",
   "metadata": {},
   "source": [
    "Data manipulation such as grouping data and handling missing data is crucial step in data analysis. PySpark offers many method to perform data manipulation. In this notebook, I'll cover data grouping and handling missing data. Let's create a spark session first."
   ]
  },
  {
   "cell_type": "code",
   "execution_count": 1,
   "id": "6ebcfbc5",
   "metadata": {},
   "outputs": [],
   "source": [
    "from pyspark.sql import SparkSession\n",
    "import pyspark.sql.functions as F\n",
    "spark = SparkSession.builder.getOrCreate()"
   ]
  },
  {
   "cell_type": "markdown",
   "id": "9a698b34",
   "metadata": {},
   "source": [
    "## Reading the Tables"
   ]
  },
  {
   "cell_type": "markdown",
   "id": "b58be6d6",
   "metadata": {},
   "source": [
    "Let's create the logs and log_identifier and then join them."
   ]
  },
  {
   "cell_type": "code",
   "execution_count": 4,
   "id": "68ec2f0b",
   "metadata": {},
   "outputs": [],
   "source": [
    "import os\n",
    "DIRECTORY = \"./data/broadcast_logs\""
   ]
  },
  {
   "cell_type": "code",
   "execution_count": 5,
   "id": "1c068284",
   "metadata": {},
   "outputs": [
    {
     "name": "stdout",
     "output_type": "stream",
     "text": [
      "root\n",
      " |-- BroadcastLogID: integer (nullable = true)\n",
      " |-- LogServiceID: integer (nullable = true)\n",
      " |-- LogDate: string (nullable = true)\n",
      " |-- SequenceNO: integer (nullable = true)\n",
      " |-- AudienceTargetAgeID: integer (nullable = true)\n",
      " |-- AudienceTargetEthnicID: integer (nullable = true)\n",
      " |-- CategoryID: integer (nullable = true)\n",
      " |-- ClosedCaptionID: integer (nullable = true)\n",
      " |-- CountryOfOriginID: integer (nullable = true)\n",
      " |-- DubDramaCreditID: integer (nullable = true)\n",
      " |-- EthnicProgramID: integer (nullable = true)\n",
      " |-- ProductionSourceID: integer (nullable = true)\n",
      " |-- ProgramClassID: integer (nullable = true)\n",
      " |-- FilmClassificationID: integer (nullable = true)\n",
      " |-- ExhibitionID: integer (nullable = true)\n",
      " |-- Duration: string (nullable = true)\n",
      " |-- EndTime: string (nullable = true)\n",
      " |-- LogEntryDate: string (nullable = true)\n",
      " |-- ProductionNO: string (nullable = true)\n",
      " |-- ProgramTitle: string (nullable = true)\n",
      " |-- StartTime: string (nullable = true)\n",
      " |-- Subtitle: string (nullable = true)\n",
      " |-- NetworkAffiliationID: integer (nullable = true)\n",
      " |-- SpecialAttentionID: integer (nullable = true)\n",
      " |-- BroadcastOriginPointID: integer (nullable = true)\n",
      " |-- CompositionID: integer (nullable = true)\n",
      " |-- Producer1: string (nullable = true)\n",
      " |-- Producer2: string (nullable = true)\n",
      " |-- Language1: integer (nullable = true)\n",
      " |-- Language2: integer (nullable = true)\n",
      "\n"
     ]
    }
   ],
   "source": [
    "logs = spark.read.csv(\n",
    "    os.path.join(DIRECTORY, \"BroadcastLogs_2018_Q3_M8_sample.CSV\"),\n",
    "    sep=\"|\",\n",
    "    header=True,\n",
    "    inferSchema=True,\n",
    ")\n",
    "logs.printSchema()"
   ]
  },
  {
   "cell_type": "code",
   "execution_count": 7,
   "id": "940e3d14",
   "metadata": {},
   "outputs": [
    {
     "name": "stdout",
     "output_type": "stream",
     "text": [
      "root\n",
      " |-- LogIdentifierID: string (nullable = true)\n",
      " |-- LogServiceID: integer (nullable = true)\n",
      " |-- PrimaryFG: integer (nullable = true)\n",
      "\n"
     ]
    }
   ],
   "source": [
    "log_identifier = spark.read.csv(\n",
    "    os.path.join(DIRECTORY, \"ReferenceTables/LogIdentifier.csv\"),\n",
    "    sep=\"|\",\n",
    "    header=True,\n",
    "    inferSchema=True,\n",
    ")\n",
    "log_identifier.printSchema()"
   ]
  },
  {
   "cell_type": "markdown",
   "id": "da4bb8fe",
   "metadata": {},
   "source": [
    "## Finding the Duration Second"
   ]
  },
  {
   "cell_type": "markdown",
   "id": "d1a9aa57",
   "metadata": {},
   "source": [
    "Let's create a new column with the `withColumn` method that shows seconds."
   ]
  },
  {
   "cell_type": "code",
   "execution_count": 8,
   "id": "186d6116",
   "metadata": {},
   "outputs": [
    {
     "name": "stdout",
     "output_type": "stream",
     "text": [
      "+----------------+\n",
      "|Duration_seconds|\n",
      "+----------------+\n",
      "|            7200|\n",
      "|              30|\n",
      "|              15|\n",
      "|              15|\n",
      "|              15|\n",
      "+----------------+\n",
      "only showing top 5 rows\n",
      "\n"
     ]
    }
   ],
   "source": [
    "logs = logs.withColumn(\n",
    "    \"Duration_seconds\",(\n",
    "    F.col(\"Duration\").substr(1, 2).cast(\"int\") * 60 * 60\n",
    "    + F.col(\"Duration\").substr(4, 2).cast(\"int\") * 60\n",
    "    + F.col(\"Duration\").substr(7, 2).cast(\"int\")),)\n",
    "logs.select(F.col(\"Duration_seconds\")).show(5)"
   ]
  },
  {
   "cell_type": "markdown",
   "id": "c32c60d6",
   "metadata": {},
   "source": [
    "## Joining Tables"
   ]
  },
  {
   "cell_type": "markdown",
   "id": "cff745b1",
   "metadata": {},
   "source": [
    "Let's join the log_and_channels column with the log_identifier column."
   ]
  },
  {
   "cell_type": "code",
   "execution_count": 12,
   "id": "8dd508af",
   "metadata": {},
   "outputs": [
    {
     "name": "stdout",
     "output_type": "stream",
     "text": [
      "root\n",
      " |-- LogServiceID: integer (nullable = true)\n",
      " |-- BroadcastLogID: integer (nullable = true)\n",
      " |-- LogDate: string (nullable = true)\n",
      " |-- SequenceNO: integer (nullable = true)\n",
      " |-- AudienceTargetAgeID: integer (nullable = true)\n",
      " |-- AudienceTargetEthnicID: integer (nullable = true)\n",
      " |-- CategoryID: integer (nullable = true)\n",
      " |-- ClosedCaptionID: integer (nullable = true)\n",
      " |-- CountryOfOriginID: integer (nullable = true)\n",
      " |-- DubDramaCreditID: integer (nullable = true)\n",
      " |-- EthnicProgramID: integer (nullable = true)\n",
      " |-- ProductionSourceID: integer (nullable = true)\n",
      " |-- ProgramClassID: integer (nullable = true)\n",
      " |-- FilmClassificationID: integer (nullable = true)\n",
      " |-- ExhibitionID: integer (nullable = true)\n",
      " |-- Duration: string (nullable = true)\n",
      " |-- EndTime: string (nullable = true)\n",
      " |-- LogEntryDate: string (nullable = true)\n",
      " |-- ProductionNO: string (nullable = true)\n",
      " |-- ProgramTitle: string (nullable = true)\n",
      " |-- StartTime: string (nullable = true)\n",
      " |-- Subtitle: string (nullable = true)\n",
      " |-- NetworkAffiliationID: integer (nullable = true)\n",
      " |-- SpecialAttentionID: integer (nullable = true)\n",
      " |-- BroadcastOriginPointID: integer (nullable = true)\n",
      " |-- CompositionID: integer (nullable = true)\n",
      " |-- Producer1: string (nullable = true)\n",
      " |-- Producer2: string (nullable = true)\n",
      " |-- Language1: integer (nullable = true)\n",
      " |-- Language2: integer (nullable = true)\n",
      " |-- Duration_seconds: integer (nullable = true)\n",
      " |-- LogIdentifierID: string (nullable = true)\n",
      " |-- PrimaryFG: integer (nullable = true)\n",
      "\n"
     ]
    }
   ],
   "source": [
    "logs_and_channels = logs.join(\n",
    "    log_identifier,\n",
    "    on=\"LogServiceID\",\n",
    "    how=\"inner\" \n",
    ")\n",
    "logs_and_channels.printSchema()"
   ]
  },
  {
   "cell_type": "markdown",
   "id": "02ad2515",
   "metadata": {},
   "source": [
    "Next, let me use two other tables: the CategoryId and ProgramClassID. The CategoryID table includes information about the types of programs, and the ProgramClassID table includes the data that allows us to pinpoint the commercials. Let's read these tables first."
   ]
  },
  {
   "cell_type": "code",
   "execution_count": 9,
   "id": "02cad7cc",
   "metadata": {},
   "outputs": [
    {
     "name": "stdout",
     "output_type": "stream",
     "text": [
      "+----------+----------+--------------------+\n",
      "|CategoryID|CategoryCD|Category_Description|\n",
      "+----------+----------+--------------------+\n",
      "|         1|       010|                NEWS|\n",
      "|         2|       02 |CANREC  ANALYSIS ...|\n",
      "|         3|       02A|ANALYSIS AND INTE...|\n",
      "|         4|       02B|LONG-FORM DOCUMEN...|\n",
      "|         5|       030|REPORTING & ACTUA...|\n",
      "+----------+----------+--------------------+\n",
      "only showing top 5 rows\n",
      "\n"
     ]
    }
   ],
   "source": [
    "cd_category = spark.read.csv(\n",
    "    os.path.join(DIRECTORY, \"ReferenceTables/CD_Category.csv\"),\n",
    "    sep=\"|\",\n",
    "    header=True,\n",
    "    inferSchema=True,\n",
    ").select(\n",
    "    \"CategoryID\",\n",
    "    \"CategoryCD\",\n",
    "    F.col(\"EnglishDescription\").alias(\"Category_Description\"), \n",
    ")\n",
    "cd_category.show(5)"
   ]
  },
  {
   "cell_type": "code",
   "execution_count": 10,
   "id": "b780ca8d",
   "metadata": {},
   "outputs": [
    {
     "name": "stdout",
     "output_type": "stream",
     "text": [
      "+--------------+--------------+------------------------+\n",
      "|ProgramClassID|ProgramClassCD|ProgramClass_Description|\n",
      "+--------------+--------------+------------------------+\n",
      "|             1|          AUT |           AUTOPROMOTION|\n",
      "|             2|          BAL |     BALANCE PROGRAMMING|\n",
      "|             3|          COM |      COMMERCIAL MESSAGE|\n",
      "|             4|          COR |             CORNERSTONE|\n",
      "|             5|          DOC |             DOCUMENTARY|\n",
      "+--------------+--------------+------------------------+\n",
      "only showing top 5 rows\n",
      "\n"
     ]
    }
   ],
   "source": [
    "cd_program_class = spark.read.csv(\n",
    "    os.path.join(DIRECTORY, \"ReferenceTables/CD_ProgramClass.csv\"),\n",
    "    sep=\"|\",\n",
    "    header=True,\n",
    "    inferSchema=True,\n",
    ").select(\n",
    "    \"ProgramClassID\",\n",
    "    \"ProgramClassCD\",\n",
    "    F.col(\"EnglishDescription\").alias(\"ProgramClass_Description\"), \n",
    ")\n",
    "cd_program_class.show(5)"
   ]
  },
  {
   "cell_type": "markdown",
   "id": "1468917b",
   "metadata": {},
   "source": [
    "Let's join the logs_and_channels table with the cd_category and cd_program_class tables."
   ]
  },
  {
   "cell_type": "code",
   "execution_count": 13,
   "id": "a6d0fb13",
   "metadata": {},
   "outputs": [
    {
     "name": "stdout",
     "output_type": "stream",
     "text": [
      "The number of full_log columns: 37\n",
      "root\n",
      " |-- ProgramClassID: integer (nullable = true)\n",
      " |-- CategoryID: integer (nullable = true)\n",
      " |-- LogServiceID: integer (nullable = true)\n",
      " |-- BroadcastLogID: integer (nullable = true)\n",
      " |-- LogDate: string (nullable = true)\n",
      " |-- SequenceNO: integer (nullable = true)\n",
      " |-- AudienceTargetAgeID: integer (nullable = true)\n",
      " |-- AudienceTargetEthnicID: integer (nullable = true)\n",
      " |-- ClosedCaptionID: integer (nullable = true)\n",
      " |-- CountryOfOriginID: integer (nullable = true)\n",
      " |-- DubDramaCreditID: integer (nullable = true)\n",
      " |-- EthnicProgramID: integer (nullable = true)\n",
      " |-- ProductionSourceID: integer (nullable = true)\n",
      " |-- FilmClassificationID: integer (nullable = true)\n",
      " |-- ExhibitionID: integer (nullable = true)\n",
      " |-- Duration: string (nullable = true)\n",
      " |-- EndTime: string (nullable = true)\n",
      " |-- LogEntryDate: string (nullable = true)\n",
      " |-- ProductionNO: string (nullable = true)\n",
      " |-- ProgramTitle: string (nullable = true)\n",
      " |-- StartTime: string (nullable = true)\n",
      " |-- Subtitle: string (nullable = true)\n",
      " |-- NetworkAffiliationID: integer (nullable = true)\n",
      " |-- SpecialAttentionID: integer (nullable = true)\n",
      " |-- BroadcastOriginPointID: integer (nullable = true)\n",
      " |-- CompositionID: integer (nullable = true)\n",
      " |-- Producer1: string (nullable = true)\n",
      " |-- Producer2: string (nullable = true)\n",
      " |-- Language1: integer (nullable = true)\n",
      " |-- Language2: integer (nullable = true)\n",
      " |-- Duration_seconds: integer (nullable = true)\n",
      " |-- LogIdentifierID: string (nullable = true)\n",
      " |-- PrimaryFG: integer (nullable = true)\n",
      " |-- CategoryCD: string (nullable = true)\n",
      " |-- Category_Description: string (nullable = true)\n",
      " |-- ProgramClassCD: string (nullable = true)\n",
      " |-- ProgramClass_Description: string (nullable = true)\n",
      "\n"
     ]
    }
   ],
   "source": [
    "full_log = logs_and_channels\\\n",
    "                .join(cd_category, \"CategoryID\", how=\"left\")\\\n",
    "                .join( cd_program_class, \"ProgramClassID\", how=\"left\")\n",
    "\n",
    "print(\"The number of full_log columns:\", len(full_log.columns))\n",
    "full_log.printSchema()"
   ]
  },
  {
   "cell_type": "markdown",
   "id": "d1fe31d1",
   "metadata": {},
   "source": [
    "## A Simple Groupby Blueprint"
   ]
  },
  {
   "cell_type": "markdown",
   "id": "5f5f9373",
   "metadata": {},
   "source": [
    "You can use the `groupby` method to group the records. You can also use one or more aggregate functions from the pyspark.sql.functions module into the `agg` method along with the `groupby` method. After applying the application of the `aggregate` method on our GroupedData object, you can call the `orderBy` method to order the data."
   ]
  },
  {
   "cell_type": "code",
   "execution_count": 14,
   "id": "95e8eaaf",
   "metadata": {},
   "outputs": [
    {
     "name": "stdout",
     "output_type": "stream",
     "text": [
      "+--------------+--------------------------------------+--------------+\n",
      "|ProgramClassCD|ProgramClass_Description              |duration_total|\n",
      "+--------------+--------------------------------------+--------------+\n",
      "|PGR           |PROGRAM                               |29440180      |\n",
      "|COM           |COMMERCIAL MESSAGE                    |4959005       |\n",
      "|PFS           |PROGRAM FIRST SEGMENT                 |1897637       |\n",
      "|SEG           |SEGMENT OF A PROGRAM                  |1535873       |\n",
      "|PRC           |PROMOTION OF UPCOMING CANADIAN PROGRAM|1359433       |\n",
      "|PGI           |PROGRAM INFOMERCIAL                   |765074        |\n",
      "|PRO           |PROMOTION OF NON-CANADIAN PROGRAM     |416717        |\n",
      "|OFF           |SCHEDULED OFF AIR TIME PERIOD         |187304        |\n",
      "|ID            |NETWORK IDENTIFICATION MESSAGE        |117735        |\n",
      "|MAG           |MAGAZINE PROGRAM                      |75624         |\n",
      "|NRN           |No recognized nationality             |72195         |\n",
      "|PSA           |PUBLIC SERVICE ANNOUNCEMENT           |70982         |\n",
      "|SO            |MAY IDENTIFY THE SIGN ON\\OFF OF A DAY |59115         |\n",
      "|LOC           |LOCAL ADVERTISING                     |24410         |\n",
      "|OFT           |OFF AIR DUE TO TECHNICAL DIFFICULTY   |21871         |\n",
      "|MVC           |MUSIC VIDEO CLIP                      |15814         |\n",
      "|REG           |REGIONAL                              |6749          |\n",
      "|SPO           |SPONSORSHIP MESSAGE                   |1766          |\n",
      "|MER           |MERCHANDISING                         |1680          |\n",
      "|SOL           |SOLICITATION MESSAGE                  |596           |\n",
      "|MOS           |Mosaic                                |null          |\n",
      "|COR           |CORNERSTONE                           |null          |\n",
      "+--------------+--------------------------------------+--------------+\n",
      "\n"
     ]
    }
   ],
   "source": [
    "(full_log\n",
    "    .groupby(\"ProgramClassCD\", \"ProgramClass_Description\")\n",
    "    .agg(F.sum(\"Duration_seconds\").alias(\"duration_total\"))\n",
    "    .orderBy(\"duration_total\", ascending=False).show(50, False)\n",
    " )"
   ]
  },
  {
   "cell_type": "markdown",
   "id": "640e3292",
   "metadata": {},
   "source": [
    "## Using agg() with Custom Column Definitions"
   ]
  },
  {
   "cell_type": "markdown",
   "id": "22ec59e5",
   "metadata": {},
   "source": [
    "You can apply the `agg` method to custom columns you want. Let's compute only the commercial time for each program in our table with the `when` method. First, let's take a look at how to use the `when` method. The following command extracts the duration seconds of specified values."
   ]
  },
  {
   "cell_type": "code",
   "execution_count": 19,
   "id": "93fd5fae",
   "metadata": {},
   "outputs": [
    {
     "data": {
      "text/plain": [
       "Column<b'CASE WHEN (trim(ProgramClassCD) IN (COM, PRC, PGI, PRO, PSA, MAG, LOC, SPO, MER, SOL)) THEN duration_seconds ELSE 0 END'>"
      ]
     },
     "execution_count": 19,
     "metadata": {},
     "output_type": "execute_result"
    }
   ],
   "source": [
    "F.when(\n",
    "    F.trim(F.col(\"ProgramClassCD\")).isin(\n",
    "        [\"COM\", \"PRC\", \"PGI\", \"PRO\", \"PSA\", \"MAG\", \"LOC\", \"SPO\", \"MER\", \"SOL\"]\n",
    "    ),\n",
    "    F.col(\"Duration_seconds\"),\n",
    ").otherwise(0)"
   ]
  },
  {
   "cell_type": "markdown",
   "id": "b511ced6",
   "metadata": {},
   "source": [
    "Let's find the sum of the LogIdentifierID of these values."
   ]
  },
  {
   "cell_type": "code",
   "execution_count": 22,
   "id": "912bb2c6",
   "metadata": {},
   "outputs": [
    {
     "name": "stdout",
     "output_type": "stream",
     "text": [
      "+---------------+-------------------+\n",
      "|LogIdentifierID|duration_commercial|\n",
      "+---------------+-------------------+\n",
      "|           CJCO|              16672|\n",
      "|          BRAVO|              22370|\n",
      "|         HSTORM|               1607|\n",
      "|            MMM|              21445|\n",
      "|             CI|              22567|\n",
      "+---------------+-------------------+\n",
      "only showing top 5 rows\n",
      "\n"
     ]
    }
   ],
   "source": [
    "full_log.groupby(\"LogIdentifierID\")\\\n",
    "    .agg(F.sum(\n",
    "        F.when(\n",
    "            F.trim(F.col(\"ProgramClassCD\")).isin(\n",
    "                [\"COM\", \"PRC\", \"PGI\", \"PRO\", \"LOC\", \"SPO\", \"MER\", \"SOL\"]), \n",
    "            F.col(\"Duration_seconds\"), \n",
    "        ).otherwise(0)\n",
    "    ).alias(\"duration_commercial\")).show(5)"
   ]
  },
  {
   "cell_type": "markdown",
   "id": "6a58d517",
   "metadata": {},
   "source": [
    "Nice! Let's now calculate the commercial ratio using the duration commercial and duration total."
   ]
  },
  {
   "cell_type": "code",
   "execution_count": 23,
   "id": "3a9f1472",
   "metadata": {},
   "outputs": [
    {
     "name": "stdout",
     "output_type": "stream",
     "text": [
      "+---------------+-------------------+--------------+-------------------+\n",
      "|LogIdentifierID|duration_commercial|duration_total|commercial_ratio   |\n",
      "+---------------+-------------------+--------------+-------------------+\n",
      "|TELENO         |17790              |17790         |1.0                |\n",
      "|TLNSP          |15480              |15480         |1.0                |\n",
      "|HPITV          |13                 |13            |1.0                |\n",
      "|CIMT           |775                |775           |1.0                |\n",
      "|TRN            |13                 |13            |1.0                |\n",
      "|TANG           |8125               |8125          |1.0                |\n",
      "|MSET           |2700               |2700          |1.0                |\n",
      "|MUSIMAX        |23333              |23582         |0.9894410991434145 |\n",
      "|MMAX           |23333              |23582         |0.9894410991434145 |\n",
      "|MUSIP          |20587              |20912         |0.9844586840091814 |\n",
      "|MPLU           |20587              |20912         |0.9844586840091814 |\n",
      "|MUSIQUE PL     |20587              |20912         |0.9844586840091814 |\n",
      "|INVST          |20094              |20470         |0.9816316560820714 |\n",
      "|ZT�L�          |21542              |21965         |0.9807420896881403 |\n",
      "|CANZ           |21542              |21965         |0.9807420896881403 |\n",
      "|CANALZ         |21542              |21965         |0.9807420896881403 |\n",
      "|RAPT           |17916              |18279         |0.9801411455768915 |\n",
      "|CANALD         |21437              |21875         |0.9799771428571429 |\n",
      "|ONEBMS         |18084              |18522         |0.9763524457402009 |\n",
      "|CVIE           |20780              |21309         |0.975174808766249  |\n",
      "|CANALVIE       |20780              |21309         |0.975174808766249  |\n",
      "|unis           |11630              |11998         |0.9693282213702283 |\n",
      "|CIVM           |11370              |11802         |0.9633960345704118 |\n",
      "|TV5            |10759              |11220         |0.9589126559714795 |\n",
      "|LEAF           |11526              |12034         |0.9577862722286854 |\n",
      "|VISION         |12946              |13621         |0.950444167094927  |\n",
      "|CJIL           |3904               |4213          |0.9266555898409684 |\n",
      "|CFRS           |15988              |17789         |0.8987576592276125 |\n",
      "|CFAP           |15880              |17681         |0.8981392455177875 |\n",
      "|RURAL          |2220               |2550          |0.8705882352941177 |\n",
      "|CHNU           |4224               |4921          |0.8583621215200162 |\n",
      "|CIIT           |2942               |3596          |0.818131256952169  |\n",
      "|CFKM           |15976              |19582         |0.8158512920028598 |\n",
      "|CFKS           |15975              |19581         |0.8158418875440479 |\n",
      "|TQS            |15949              |19557         |0.8155136268343816 |\n",
      "|V              |15949              |19557         |0.8155136268343816 |\n",
      "|CFJP           |15925              |19533         |0.8152869502892541 |\n",
      "|CFTU           |3975               |7619          |0.5217220107625673 |\n",
      "|CHEK           |46287              |100372        |0.46115450524050533|\n",
      "|VRAK           |15900              |38050         |0.4178712220762155 |\n",
      "|CANALF         |15900              |38050         |0.4178712220762155 |\n",
      "|CKVR           |40641              |105861        |0.3839090883328138 |\n",
      "|CHAU           |1080               |2880          |0.375              |\n",
      "|CHWI           |36996              |105816        |0.3496257654797006 |\n",
      "|CFPL           |36796              |105616        |0.348394182699591  |\n",
      "|CIVI           |36570              |105330        |0.34719453147251494|\n",
      "|ACCESS         |35590              |105700        |0.33670766319772943|\n",
      "|CESS           |35590              |105700        |0.33670766319772943|\n",
      "|CFGS           |30000              |91500         |0.32786885245901637|\n",
      "|CHRO           |35000              |107345        |0.32605151613955   |\n",
      "+---------------+-------------------+--------------+-------------------+\n",
      "only showing top 50 rows\n",
      "\n"
     ]
    }
   ],
   "source": [
    "answer = (\n",
    "    full_log.groupby(\"LogIdentifierID\")\n",
    "    .agg(F.sum( \n",
    "        F.when( \n",
    "            F.trim(F.col(\"ProgramClassCD\")).isin(\n",
    "                [\"COM\", \"PRC\", \"PGI\", \"PRO\", \"LOC\", \"SPO\", \"MER\", \"SOL\"]), \n",
    "            F.col(\"duration_seconds\"), \n",
    "        ).otherwise(0)\n",
    "    ).alias(\"duration_commercial\"),\n",
    "         F.sum(\"duration_seconds\").alias(\"duration_total\"),\n",
    "        )\n",
    "    .withColumn(\n",
    "        \"commercial_ratio\", \n",
    "        F.col(\"duration_commercial\") / F.col(\"duration_total\")\n",
    "    )\n",
    ")\n",
    "\n",
    "# Ordering the commercial ratio\n",
    "answer.orderBy(\"commercial_ratio\", ascending=False).show(50, False)"
   ]
  },
  {
   "cell_type": "markdown",
   "id": "64b0c9b7",
   "metadata": {},
   "source": [
    "## Handling Missing Data"
   ]
  },
  {
   "cell_type": "markdown",
   "id": "ba5a712f",
   "metadata": {},
   "source": [
    "Null values refer to the absence of value. To deal with missing data, you can use the `dropna` or `fillna` methods. Let's find only the records that have a commercial_ratio and that are non-null with the `dropna` and `subset` method."
   ]
  },
  {
   "cell_type": "code",
   "execution_count": 35,
   "id": "bf472902",
   "metadata": {},
   "outputs": [
    {
     "name": "stdout",
     "output_type": "stream",
     "text": [
      "+---------------+-------------------+--------------+------------------+\n",
      "|LogIdentifierID|duration_commercial|duration_total|  commercial_ratio|\n",
      "+---------------+-------------------+--------------+------------------+\n",
      "|         TELENO|              17790|         17790|               1.0|\n",
      "|            TRN|                 13|            13|               1.0|\n",
      "|           MSET|               2700|          2700|               1.0|\n",
      "|          HPITV|                 13|            13|               1.0|\n",
      "|           CIMT|                775|           775|               1.0|\n",
      "|          TLNSP|              15480|         15480|               1.0|\n",
      "|           TANG|               8125|          8125|               1.0|\n",
      "|        MUSIMAX|              23333|         23582|0.9894410991434145|\n",
      "|           MMAX|              23333|         23582|0.9894410991434145|\n",
      "|     MUSIQUE PL|              20587|         20912|0.9844586840091814|\n",
      "|          MUSIP|              20587|         20912|0.9844586840091814|\n",
      "|           MPLU|              20587|         20912|0.9844586840091814|\n",
      "|          INVST|              20094|         20470|0.9816316560820714|\n",
      "|         CANALZ|              21542|         21965|0.9807420896881403|\n",
      "|          ZT�L�|              21542|         21965|0.9807420896881403|\n",
      "|           CANZ|              21542|         21965|0.9807420896881403|\n",
      "|           RAPT|              17916|         18279|0.9801411455768915|\n",
      "|         CANALD|              21437|         21875|0.9799771428571429|\n",
      "|         ONEBMS|              18084|         18522|0.9763524457402009|\n",
      "|           CVIE|              20780|         21309| 0.975174808766249|\n",
      "+---------------+-------------------+--------------+------------------+\n",
      "only showing top 20 rows\n",
      "\n"
     ]
    }
   ],
   "source": [
    "answer_no_null = answer.dropna(subset=[\"commercial_ratio\"])\n",
    "answer_no_null.orderBy( \"commercial_ratio\", ascending=False).show()"
   ]
  },
  {
   "cell_type": "markdown",
   "id": "03386d55",
   "metadata": {},
   "source": [
    "### Filling Values"
   ]
  },
  {
   "cell_type": "markdown",
   "id": "d5d2a185",
   "metadata": {},
   "source": [
    "You can use the `fill` method to fill missing data. Let's set missing data to zero in answer table."
   ]
  },
  {
   "cell_type": "code",
   "execution_count": 38,
   "id": "8ced2b0a",
   "metadata": {},
   "outputs": [
    {
     "name": "stdout",
     "output_type": "stream",
     "text": [
      "+---------------+-------------------+--------------+------------------+\n",
      "|LogIdentifierID|duration_commercial|duration_total|  commercial_ratio|\n",
      "+---------------+-------------------+--------------+------------------+\n",
      "|          HPITV|                 13|            13|               1.0|\n",
      "|           TANG|               8125|          8125|               1.0|\n",
      "|           CIMT|                775|           775|               1.0|\n",
      "|          TLNSP|              15480|         15480|               1.0|\n",
      "|           MSET|               2700|          2700|               1.0|\n",
      "|            TRN|                 13|            13|               1.0|\n",
      "|         TELENO|              17790|         17790|               1.0|\n",
      "|        MUSIMAX|              23333|         23582|0.9894410991434145|\n",
      "|           MMAX|              23333|         23582|0.9894410991434145|\n",
      "|           MPLU|              20587|         20912|0.9844586840091814|\n",
      "|          MUSIP|              20587|         20912|0.9844586840091814|\n",
      "|     MUSIQUE PL|              20587|         20912|0.9844586840091814|\n",
      "|          INVST|              20094|         20470|0.9816316560820714|\n",
      "|         CANALZ|              21542|         21965|0.9807420896881403|\n",
      "|           CANZ|              21542|         21965|0.9807420896881403|\n",
      "|          ZT�L�|              21542|         21965|0.9807420896881403|\n",
      "|           RAPT|              17916|         18279|0.9801411455768915|\n",
      "|         CANALD|              21437|         21875|0.9799771428571429|\n",
      "|         ONEBMS|              18084|         18522|0.9763524457402009|\n",
      "|       CANALVIE|              20780|         21309| 0.975174808766249|\n",
      "+---------------+-------------------+--------------+------------------+\n",
      "only showing top 20 rows\n",
      "\n"
     ]
    }
   ],
   "source": [
    "answer_no_null = answer.fillna(0)\n",
    "answer_no_null.orderBy(\"commercial_ratio\", ascending=False).show()"
   ]
  },
  {
   "cell_type": "markdown",
   "id": "761a7e24",
   "metadata": {},
   "source": [
    "Data manipulation is crucial step in data analysis. PySpark have power methods to perform data manipulation. In this notebook, I talked about data grouping and how to handle missing data. I showed you how to use the `groupby`, `agg`, `dropna`, and `fillna` methods."
   ]
  },
  {
   "cell_type": "markdown",
   "id": "344e179e",
   "metadata": {},
   "source": [
    "## Resource"
   ]
  },
  {
   "cell_type": "markdown",
   "id": "032bf314",
   "metadata": {},
   "source": [
    "- Data Analysis with Python and Spark"
   ]
  },
  {
   "cell_type": "markdown",
   "id": "fdb12d6f",
   "metadata": {},
   "source": [
    "Don't forget to follow us on [YouTube](http://youtube.com/tirendazacademy) | [Medium](http://tirendazacademy.medium.com) | [Twitter](http://twitter.com/tirendazacademy) | [GitHub](http://github.com/tirendazacademy) | [Linkedin](https://www.linkedin.com/in/tirendaz-academy) | [Kaggle](https://www.kaggle.com/tirendazacademy) 😎"
   ]
  }
 ],
 "metadata": {
  "kernelspec": {
   "display_name": "Python 3 (ipykernel)",
   "language": "python",
   "name": "python3"
  },
  "language_info": {
   "codemirror_mode": {
    "name": "ipython",
    "version": 3
   },
   "file_extension": ".py",
   "mimetype": "text/x-python",
   "name": "python",
   "nbconvert_exporter": "python",
   "pygments_lexer": "ipython3",
   "version": "3.10.0"
  }
 },
 "nbformat": 4,
 "nbformat_minor": 5
}
